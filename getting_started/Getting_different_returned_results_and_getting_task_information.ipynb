{
 "cells": [
  {
   "cell_type": "markdown",
   "metadata": {},
   "source": [
    "# Specifying result types and getting task information\n",
    "\n",
    "When measuring a circuit, Amazon Braket enables returning different result types. In this tutorial, we show how to specify the result types when building a circuit, and how to obtain other useful information from the result. "
   ]
  },
  {
   "cell_type": "markdown",
   "metadata": {},
   "source": [
    "## Imports and setup"
   ]
  },
  {
   "cell_type": "code",
   "execution_count": 1,
   "metadata": {},
   "outputs": [],
   "source": [
    "# AWS imports: Import Braket SDK modules\n",
    "from braket.circuits import Circuit, Observable\n",
    "from braket.aws import AwsQuantumTask, AwsDevice"
   ]
  },
  {
   "cell_type": "markdown",
   "metadata": {},
   "source": [
    "__NOTE__: Please enter your desired device and S3 location (bucket and key) below. If you are working with the local simulator ```LocalSimulator()``` you do not need to specify any S3 location. However, if you are using the managed cloud-based device or any QPU devices you need to specify the S3 location where your results will be stored. In this case, you need to replace the API call ```device.run(circuit, ...)``` below with ```device.run(circuit, s3_folder, ...)```. "
   ]
  },
  {
   "cell_type": "code",
   "execution_count": 2,
   "metadata": {},
   "outputs": [],
   "source": [
    "# Please enter the S3 bucket you created during onboarding in the code below\n",
    "my_bucket = f\"amazon-braket-Your-Bucket-Name\" # the name of the bucket\n",
    "my_prefix = \"Your-Folder-Name\" # the name of the folder in the bucket\n",
    "s3_folder = (my_bucket, my_prefix)\n",
    "\n",
    "# set up the device to be the managed simulator\n",
    "device = AwsDevice(\"arn:aws:braket:::device/quantum-simulator/amazon/sv1\")"
   ]
  },
  {
   "cell_type": "markdown",
   "metadata": {},
   "source": [
    "## Build a circuit and specify different result types\n",
    "\n",
    "We create a simple circuit with the code below."
   ]
  },
  {
   "cell_type": "code",
   "execution_count": 3,
   "metadata": {},
   "outputs": [
    {
     "name": "stdout",
     "output_type": "stream",
     "text": [
      "T  : |0|1|   2    |\n",
      "                   \n",
      "q0 : -H-C-Ry(0.25)-\n",
      "        |          \n",
      "q1 : ---X----------\n",
      "\n",
      "T  : |0|1|   2    |\n"
     ]
    }
   ],
   "source": [
    "circ = Circuit().h(0).cnot(0, 1).ry(0,0.25)\n",
    "print(circ)"
   ]
  },
  {
   "cell_type": "markdown",
   "metadata": {},
   "source": [
    "### Result types\n",
    "\n",
    "By default, if you submit a circuit to a device to run, the circuit will be measured in Z basis and the measurement counts and probabilities will be returned. If you want to get the amplitude of a particular state, or the expectation value of a given observable, you need to specify the corresponding result types to the circuit. \n",
    "\n",
    "In Amazon Braket, we offer six different result types, including `amplitude`, `expectation`, `probability`, `state_vector`, `sample` and `variance`. The details of the result types can be found [here](https://docs.aws.amazon.com/braket/latest/developerguide/braket-result-types.html). \n",
    "\n",
    "Not all result types are supported by all devices. `state_vector` is only supported by the local simulator, and `amplitude` is only supported by simulators, except that it is not supported by SV1 when shots > 0. Besides, simulators support two modes. For shots = 0, the simulator performs an exact simulation, returning the true values for all result types. For non-zero values of shots, the simulator samples from the output distribution to emulate the shot noise of real QPUs. QPU devices only allow shots > 0. \n",
    "\n",
    "To obtain the result types from measurement, you need to attach them to the circuit. The code below shows how to specify different result types."
   ]
  },
  {
   "cell_type": "code",
   "execution_count": 4,
   "metadata": {},
   "outputs": [
    {
     "name": "stdout",
     "output_type": "stream",
     "text": [
      "T  : |0|1|   2    |  Result Types  |\n",
      "                                    \n",
      "q0 : -H-C-Ry(0.25)-Expectation(X@X)-\n",
      "        |          |                \n",
      "q1 : ---X----------Expectation(X@X)-\n",
      "\n",
      "T  : |0|1|   2    |  Result Types  |\n"
     ]
    }
   ],
   "source": [
    "# attach the amplitude result type to the circuit. You need to specify the states to show amplitude.\n",
    "# circ.amplitude(state=[\"00\", \"11\"])\n",
    "\n",
    "# attach the probability result type to the circuit. The target can be one or multiple qubits.\n",
    "# circ.probability(target=0)\n",
    "\n",
    "# attach the expectation result type to the circuit. You need to specify the observable to be measured. \n",
    "circ.expectation(observable=Observable.X()@Observable.X(), target=[0,1])\n",
    "\n",
    "# attach the sample result type to the circuit. You need to specify the observable to be measured. \n",
    "# circ.sample(observable=Observable.X(),target=1)\n",
    "\n",
    "# attach the state_vector result type to the circuit.\n",
    "# circ.state_vector()\n",
    "\n",
    "# attach the variance result type to the circuit. You need to specify the observable to be measured. \n",
    "# circ.variance(observable=Observable.Z()@Observable.X(), target=[0,1])\n",
    "\n",
    "# print the circuit. You can see the attached result types in the circuit\n",
    "print(circ)"
   ]
  },
  {
   "cell_type": "markdown",
   "metadata": {},
   "source": [
    "As can be seen from the code above, for `expectation`,`variance` and `sample`, you need to specify the observable to be measured. The details of the `Observable` class can be found [here](https://docs.aws.amazon.com/braket/latest/developerguide/braket-result-types.html). Currently, we only support one observable to be assigned to one qubit, i.e., assigning more than one observable to the same qubit will trigger an error message. Note that `probability` has a default observable Z (or ZZ.. for multiple qubits)."
   ]
  },
  {
   "cell_type": "markdown",
   "metadata": {},
   "source": [
    "## Submit the circuit to a device and obtain the result\n",
    "\n",
    "We submit the circuit to the managed simulator. Rich information can be obtained from the returned result object."
   ]
  },
  {
   "cell_type": "code",
   "execution_count": 5,
   "metadata": {},
   "outputs": [
    {
     "name": "stdout",
     "output_type": "stream",
     "text": [
      "The task was created at:2020-09-11T16:14:24.297Z, and ended at:2020-09-11T16:14:26.534Z\n",
      "The number of shots was: 1000\n",
      "The measured qubit(s) was(were): [0, 1]\n",
      "The measurement counts were: Counter({'11': 497, '00': 490, '01': 10, '10': 3})\n",
      "The measurement probabilities were: {'00': 0.49, '11': 0.497, '10': 0.003, '01': 0.01}\n",
      "The result type information: [ResultTypeValue(type={'observable': ['x', 'x'], 'targets': [0, 1], 'type': 'expectation'}, value=0.974)]\n",
      "The result type(s) has(have) the value(s): [0.974]\n"
     ]
    }
   ],
   "source": [
    "task = device.run(circ, s3_folder, shots=1000)\n",
    "result = task.result()\n",
    "\n",
    "# print('The result id is: {}, and device id is: {}'.format(result.task_metadata.id,result.task_metadata.deviceId))\n",
    "print('The task was created at:{}, and ended at:{}'.format(result.task_metadata.createdAt,result.task_metadata.endedAt))\n",
    "print('The number of shots was:', result.task_metadata.shots)\n",
    "print('The measured qubit(s) was(were):', result.measured_qubits)\n",
    "print('The measurement counts were:', result.measurement_counts)\n",
    "print('The measurement probabilities were:', result.measurement_probabilities)\n",
    "# Note: all the measurement results are available through result.measurements\n",
    "\n",
    "print('The result type information:', result.result_types)\n",
    "\n",
    "# you can also get the value of the result type from result.values\n",
    "print('The result type(s) has(have) the value(s):', result.values)\n",
    "\n",
    "# additionally, if your task failed, you can check the error message\n",
    "# print('The error message was:', result.task_metadata.failureReason)"
   ]
  },
  {
   "cell_type": "code",
   "execution_count": 6,
   "metadata": {},
   "outputs": [
    {
     "data": {
      "image/png": "[encoded data removed]",
      "text/plain": [
       "<Figure size 432x288 with 1 Axes>"
      ]
     },
     "metadata": {
      "needs_background": "light"
     },
     "output_type": "display_data"
    }
   ],
   "source": [
    "# get measurement shots\n",
    "counts = result.measurement_counts\n",
    "\n",
    "# plot using Counter\n",
    "import matplotlib.pyplot as plt\n",
    "%matplotlib inline\n",
    "\n",
    "plt.bar(counts.keys(), counts.values());\n",
    "plt.xlabel('bitstrings');\n",
    "plt.ylabel('counts');"
   ]
  },
  {
   "cell_type": "markdown",
   "metadata": {},
   "source": [
    "## Additional task information\n",
    "\n",
    "Apart from the information obtained from the result object, you can get additional information from the task object."
   ]
  },
  {
   "cell_type": "code",
   "execution_count": 7,
   "metadata": {},
   "outputs": [
    {
     "name": "stdout",
     "output_type": "stream",
     "text": [
      "Status of task: COMPLETED\n"
     ]
    }
   ],
   "source": [
    "# get id and status of the submitted task\n",
    "task_id = task.id\n",
    "status = task.state()\n",
    "# print('ID of task:', task_id)\n",
    "print('Status of task:', status)"
   ]
  },
  {
   "cell_type": "markdown",
   "metadata": {},
   "source": [
    "With the task ID, you can retrieve the result of a complete task."
   ]
  },
  {
   "cell_type": "code",
   "execution_count": 8,
   "metadata": {},
   "outputs": [
    {
     "data": {
      "image/png": "[encoded data removed]",
      "text/plain": [
       "<Figure size 432x288 with 1 Axes>"
      ]
     },
     "metadata": {
      "needs_background": "light"
     },
     "output_type": "display_data"
    }
   ],
   "source": [
    "# restore task from unique arn\n",
    "task_load = AwsQuantumTask(arn=task_id)\n",
    "\n",
    "# get measurement shots\n",
    "counts = task_load.result().measurement_counts\n",
    "# plot using Counter\n",
    "plt.bar(counts.keys(), counts.values(), color='g');\n",
    "plt.xlabel('bitstrings');\n",
    "plt.ylabel('counts');"
   ]
  },
  {
   "cell_type": "markdown",
   "metadata": {},
   "source": [
    "The metadata of the task is available through `task.metadata()`."
   ]
  },
  {
   "cell_type": "code",
   "execution_count": 10,
   "metadata": {},
   "outputs": [
    {
     "name": "stdout",
     "output_type": "stream",
     "text": [
      "1000 shots taken on Fri, 11 Sep 2020 16:20:24 GMT.\n"
     ]
    }
   ],
   "source": [
    "# get the metadata of the submitted task\n",
    "metadata = task.metadata()\n",
    "\n",
    "# example for metadata\n",
    "shots = metadata['shots']\n",
    "date = metadata['ResponseMetadata']['HTTPHeaders']['date']\n",
    "print(\"{} shots taken on {}.\".format(shots, date))\n",
    "\n",
    "s3_bucket = metadata['outputS3Bucket']\n",
    "s3_sub_directory = metadata['outputS3Directory']\n",
    "# print('The results are saved in S3 bucket: {}, with the sub-directory: {}'.format(s3_bucket, s3_sub_directory))"
   ]
  }
 ],
 "metadata": {
  "kernelspec": {
   "display_name": "Python 3",
   "language": "python",
   "name": "python3"
  },
  "language_info": {
   "codemirror_mode": {
    "name": "ipython",
    "version": 3
   },
   "file_extension": ".py",
   "mimetype": "text/x-python",
   "name": "python",
   "nbconvert_exporter": "python",
   "pygments_lexer": "ipython3",
   "version": "3.8.3"
  }
 },
 "nbformat": 4,
 "nbformat_minor": 4
}
