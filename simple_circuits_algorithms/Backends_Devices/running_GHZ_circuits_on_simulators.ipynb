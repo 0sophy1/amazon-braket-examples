{
 "cells": [
  {
   "cell_type": "markdown",
   "metadata": {},
   "source": [
    "# GHZ STATE PREPARATION"
   ]
  },
  {
   "cell_type": "markdown",
   "metadata": {},
   "source": [
    "In this hello-world tutorial we prepare a paradigmatic example for a multi-qubit entangled state, the so-called [GHZ state](https://en.wikipedia.org/wiki/Greenberger%E2%80%93Horne%E2%80%93Zeilinger_state) (named after the three physicists Greenberger, Horne and Zeilinger). The GHZ state is extremely non-classical, and therefore very sensitive to decoherence. Therefore, it is often used as a performance benchmark for today's hardware. Moreover, in many quantum information protocols it is used as a resource for quantum error correction, quantum communication and quantum metrology. \n",
    "\n",
    "For classical devices, we can run our circuit on a local simulator or a cloud-based managed simulator. As shown below, one can seamlessly swap between different devices without any modifications to the circuit definition, by just re-defining the device object."
   ]
  },
  {
   "cell_type": "code",
   "execution_count": 1,
   "metadata": {},
   "outputs": [],
   "source": [
    "# general imports\n",
    "import matplotlib.pyplot as plt\n",
    "# magic word for producing visualizations in notebook\n",
    "%matplotlib inline\n",
    "import string\n",
    "import time\n",
    "\n",
    "# AWS imports: Import Braket SDK modules\n",
    "import boto3\n",
    "from braket.circuits import Circuit, Gate\n",
    "from braket.devices import LocalSimulator\n",
    "from braket.aws import AwsDevice"
   ]
  },
  {
   "cell_type": "markdown",
   "metadata": {},
   "source": [
    "__NOTE__: Please enter your desired S3 location (bucket and key) below."
   ]
  },
  {
   "cell_type": "code",
   "execution_count": 2,
   "metadata": {},
   "outputs": [],
   "source": [
    "# Please enter the S3 bucket you created during onboarding in the code below, \n",
    "# or create a new bucket named as ‘amazon-braket-<your account number>’ to run the below code without changes. \n",
    "aws_account_id = boto3.client(\"sts\").get_caller_identity()[\"Account\"]\n",
    "my_bucket = f\"amazon-braket-{aws_account_id}\" # the name of the bucket\n",
    "my_prefix = \"simulation-output\" # the name of the folder in the bucket\n",
    "s3_folder = (my_bucket, my_prefix)"
   ]
  },
  {
   "cell_type": "markdown",
   "metadata": {},
   "source": [
    "### Problem: Prepare GHZ State"
   ]
  },
  {
   "cell_type": "markdown",
   "metadata": {},
   "source": [
    "Goal: Prepare $N$-qubit GHZ state (important for many QIP and sensing protocols): \n",
    "$$\\left|0,0, ...\\right> \\rightarrow \\left|\\mathrm{GHZ}\\right> = \\frac{1}{\\sqrt{2}}\\left(\\left|0,0, ...\\right> + \\left|1,1, ...\\right>\\right).$$"
   ]
  },
  {
   "cell_type": "markdown",
   "metadata": {},
   "source": [
    "The GHZ state is a quantum superposition of all subsystems being in state 0 with all of them being in state 1 (as often discussed in the famous Gedanken experiment of a cat being dead and alive at the same time). The GHZ state is a maximally entangled quantum state. \n",
    "\n",
    "To prepare this state , we build and run the following circuit using a single-qubit Hadamard gate (denoted as H) acting on the first qubit followed by a series of two-qubit CNOT gates: "
   ]
  },
  {
   "attachments": {
    "image.png": {
     "image/png": "[encoded data removed]"
    }
   },
   "cell_type": "markdown",
   "metadata": {},
   "source": [
    "![image.png](attachment:image.png)"
   ]
  },
  {
   "cell_type": "markdown",
   "metadata": {},
   "source": [
    "### Setup Circuit"
   ]
  },
  {
   "cell_type": "code",
   "execution_count": 3,
   "metadata": {},
   "outputs": [],
   "source": [
    "# function to build GHZ state\n",
    "def ghz_circuit(n_qubits):\n",
    "    \"\"\"\n",
    "    function to return GHZ circuit ansatz\n",
    "    input: number of qubits\n",
    "    \"\"\"\n",
    "\n",
    "    # instantiate circuit object\n",
    "    circuit = Circuit()\n",
    "    \n",
    "    # add Hadamard gate on first qubit\n",
    "    circuit.h(0)\n",
    "\n",
    "    # apply series of CNOT gates\n",
    "    for ii in range(0, n_qubits-1):\n",
    "        circuit.cnot(control=ii, target=ii+1)\n",
    "\n",
    "    return circuit"
   ]
  },
  {
   "cell_type": "code",
   "execution_count": 4,
   "metadata": {},
   "outputs": [],
   "source": [
    "# define circuit\n",
    "n_qubits = 10\n",
    "ghz = ghz_circuit(n_qubits)"
   ]
  },
  {
   "cell_type": "code",
   "execution_count": 5,
   "metadata": {},
   "outputs": [
    {
     "name": "stdout",
     "output_type": "stream",
     "text": [
      "T  : |0|1|2|3|4|5|6|7|8|9|\n",
      "                          \n",
      "q0 : -H-C-----------------\n",
      "        |                 \n",
      "q1 : ---X-C---------------\n",
      "          |               \n",
      "q2 : -----X-C-------------\n",
      "            |             \n",
      "q3 : -------X-C-----------\n",
      "              |           \n",
      "q4 : ---------X-C---------\n",
      "                |         \n",
      "q5 : -----------X-C-------\n",
      "                  |       \n",
      "q6 : -------------X-C-----\n",
      "                    |     \n",
      "q7 : ---------------X-C---\n",
      "                      |   \n",
      "q8 : -----------------X-C-\n",
      "                        | \n",
      "q9 : -------------------X-\n",
      "\n",
      "T  : |0|1|2|3|4|5|6|7|8|9|\n"
     ]
    }
   ],
   "source": [
    "# print circuit\n",
    "print(ghz)"
   ]
  },
  {
   "cell_type": "markdown",
   "metadata": {},
   "source": [
    "### Local Simulator"
   ]
  },
  {
   "cell_type": "markdown",
   "metadata": {},
   "source": [
    "First we run our circuit locally, using the local simulator."
   ]
  },
  {
   "cell_type": "code",
   "execution_count": 6,
   "metadata": {},
   "outputs": [],
   "source": [
    "# set up device: Local Simulator\n",
    "device = LocalSimulator()"
   ]
  },
  {
   "cell_type": "code",
   "execution_count": 7,
   "metadata": {},
   "outputs": [
    {
     "name": "stdout",
     "output_type": "stream",
     "text": [
      "Counter({'1111111111': 520, '0000000000': 480})\n"
     ]
    }
   ],
   "source": [
    "# run circuit\n",
    "result = device.run(ghz, shots=1000).result()\n",
    "# get measurement shots\n",
    "counts = result.measurement_counts\n",
    "# print counts\n",
    "print(counts)"
   ]
  },
  {
   "cell_type": "code",
   "execution_count": 8,
   "metadata": {},
   "outputs": [
    {
     "data": {
      "image/png": "[encoded data removed]",
      "text/plain": [
       "<Figure size 432x288 with 1 Axes>"
      ]
     },
     "metadata": {
      "needs_background": "light"
     },
     "output_type": "display_data"
    }
   ],
   "source": [
    "# plot using Counter\n",
    "plt.bar(counts.keys(), counts.values());\n",
    "plt.xlabel('bitstrings');\n",
    "plt.ylabel('counts');"
   ]
  },
  {
   "cell_type": "markdown",
   "metadata": {},
   "source": [
    "As opposed to quantum hardware, where we can only access measurement shots, with a classical simulator we can access the full statevector and amplitudes by assigning the corresponding result types. To do so, we need to append the result types to the circuit before submitting it to run. This can be very useful for debugging."
   ]
  },
  {
   "cell_type": "code",
   "execution_count": 9,
   "metadata": {},
   "outputs": [
    {
     "name": "stdout",
     "output_type": "stream",
     "text": [
      "The full state vector is: [0.70710678+0.j 0.        +0.j 0.        +0.j ... 0.        +0.j\n",
      " 0.        +0.j 0.70710678+0.j]\n",
      "Amplitude value from state vector for bitstring 0000000000 is: {'0000000000': (0.7071067811865475+0j)}\n"
     ]
    }
   ],
   "source": [
    "# the state we want to check its amplitude\n",
    "bitstring = '0'*n_qubits\n",
    "# append the result types to the circuit\n",
    "circuit = ghz.state_vector().amplitude(state=[bitstring]) \n",
    "result = device.run(circuit, shots=0).result()\n",
    "print('The full state vector is:', result.values[0])\n",
    "print('Amplitude value from state vector for bitstring {} is: {}'.format(bitstring, result.values[1]))"
   ]
  },
  {
   "cell_type": "markdown",
   "metadata": {},
   "source": [
    "### The Managed Cloud-Based Simulator"
   ]
  },
  {
   "cell_type": "markdown",
   "metadata": {},
   "source": [
    "As opposed to the local simulator above, we can also run our circuit on a cloud-based simulator. This approach adds some latency overhead, but is beneficial for larger circuits by leveraging the optimized cloud hardware infrastructure. Moreover, all your results will be stored reliably in S3. Here, as part of the API call with ```run()``` you need to supply a S3 location where the metadata and results associated with this circuit execution will be stored."
   ]
  },
  {
   "cell_type": "code",
   "execution_count": 10,
   "metadata": {},
   "outputs": [],
   "source": [
    "# set up device\n",
    "device = AwsDevice(\"arn:aws:braket:::device/quantum-simulator/amazon/sv1\")"
   ]
  },
  {
   "cell_type": "code",
   "execution_count": 11,
   "metadata": {},
   "outputs": [],
   "source": [
    "# define larger GHZ circuit\n",
    "n_qubits = 15\n",
    "ghz = ghz_circuit(n_qubits)"
   ]
  },
  {
   "cell_type": "code",
   "execution_count": 12,
   "metadata": {},
   "outputs": [
    {
     "name": "stdout",
     "output_type": "stream",
     "text": [
      "Counter({'000000000000000': 502, '111111111111111': 498})\n",
      "Counts for all-zero bitstring: 502\n",
      "Counts for all-one bitstring: 498\n"
     ]
    },
    {
     "data": {
      "image/png": "[encoded data removed]",
      "text/plain": [
       "<Figure size 432x288 with 1 Axes>"
      ]
     },
     "metadata": {
      "needs_background": "light"
     },
     "output_type": "display_data"
    }
   ],
   "source": [
    "# run GHZ circuit on cloud simulator\n",
    "result = device.run(ghz, s3_folder, shots=1000, poll_timeout_seconds=24*60*60).result()\n",
    "counts = result.measurement_counts\n",
    "print(counts)\n",
    "\n",
    "# plot using Counter\n",
    "plt.bar(counts.keys(), counts.values());\n",
    "plt.xlabel('bitstrings');\n",
    "plt.ylabel('counts');  \n",
    "\n",
    "# print counts of all-zero-string\n",
    "print('Counts for all-zero bitstring:', counts['0'*n_qubits])\n",
    "# print counts of all-one-string\n",
    "print('Counts for all-one bitstring:', counts['1'*n_qubits])"
   ]
  },
  {
   "cell_type": "markdown",
   "metadata": {},
   "source": [
    "__NOTE__: Use unique task ID to look up task details in AWS console."
   ]
  },
  {
   "cell_type": "code",
   "execution_count": 13,
   "metadata": {},
   "outputs": [
    {
     "name": "stdout",
     "output_type": "stream",
     "text": [
      "Number of qubits: 15\n"
     ]
    }
   ],
   "source": [
    "# print unique TASK ID (task = execution of individual circuit)\n",
    "task_id = result.task_metadata.id\n",
    "# recover other metadata information such as number of qubits\n",
    "n = result.task_metadata.deviceParameters.paradigmParameters.qubitCount\n",
    "# print('Task ID:', task_id)\n",
    "print('Number of qubits:', n)"
   ]
  },
  {
   "cell_type": "markdown",
   "metadata": {},
   "source": [
    "The managed simulator allows you to submit tasks in parallel. These tasks will enter a queue, and the result will be returned after a task gets executed. The cell below shows an example where we submit parallel tasks to the managed simulator. "
   ]
  },
  {
   "cell_type": "code",
   "execution_count": 14,
   "metadata": {
    "scrolled": true
   },
   "outputs": [
    {
     "name": "stdout",
     "output_type": "stream",
     "text": [
      "25-qubit task CREATED\n",
      "26-qubit task CREATED\n",
      "27-qubit task CREATED\n",
      "28-qubit task CREATED\n",
      "29-qubit task CREATED\n",
      "30-qubit task CREATED\n",
      "25-qubit task COMPLETED\n",
      "Measurement results for 25 qubits: Counter({'0000000000000000000000000': 500, '1111111111111111111111111': 500})\n",
      "26-qubit task COMPLETED\n",
      "Measurement results for 26 qubits: Counter({'00000000000000000000000000': 518, '11111111111111111111111111': 482})\n",
      "27-qubit task COMPLETED\n",
      "Measurement results for 27 qubits: Counter({'000000000000000000000000000': 515, '111111111111111111111111111': 485})\n",
      "28-qubit task COMPLETED\n",
      "Measurement results for 28 qubits: Counter({'1111111111111111111111111111': 503, '0000000000000000000000000000': 497})\n",
      "29-qubit task COMPLETED\n",
      "Measurement results for 29 qubits: Counter({'00000000000000000000000000000': 548, '11111111111111111111111111111': 452})\n",
      "30-qubit task COMPLETED\n",
      "Measurement results for 30 qubits: Counter({'000000000000000000000000000000': 502, '111111111111111111111111111111': 498})\n"
     ]
    }
   ],
   "source": [
    "tasks = {}\n",
    "results = {}\n",
    "for n_qubits in range(25,31):\n",
    "    ghz = ghz_circuit(n_qubits)\n",
    "    tasks[n_qubits] = device.run(ghz, s3_folder, shots=1000)\n",
    "    print('{}-qubit task {}'.format(n_qubits,tasks[n_qubits].state()))\n",
    "\n",
    "for n_qubits in range(25,31):\n",
    "    results[n_qubits] = tasks[n_qubits].result()\n",
    "    print('{}-qubit task {}'.format(n_qubits,tasks[n_qubits].state()))\n",
    "    print(\"Measurement results for {} qubits: {}\".format(n_qubits, results[n_qubits].measurement_counts))\n"
   ]
  }
 ],
 "metadata": {
  "kernelspec": {
   "display_name": "conda_braket",
   "language": "python",
   "name": "conda_braket"
  },
  "language_info": {
   "codemirror_mode": {
    "name": "ipython",
    "version": 3
   },
   "file_extension": ".py",
   "mimetype": "text/x-python",
   "name": "python",
   "nbconvert_exporter": "python",
   "pygments_lexer": "ipython3",
   "version": "3.7.7"
  }
 },
 "nbformat": 4,
 "nbformat_minor": 4
}
