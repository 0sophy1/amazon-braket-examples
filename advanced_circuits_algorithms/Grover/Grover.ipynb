{
 "cells": [
  {
   "cell_type": "markdown",
   "metadata": {},
   "source": [
    "# Grover's Search Algorithm"
   ]
  },
  {
   "cell_type": "markdown",
   "metadata": {},
   "source": [
    "In this tutorial, we provide a step-by-step walkthrough explaining Grover's quantum algorithm. We show how to build the corresponding quantum circuit with simple modular building blocks using the Braket SDK. Specifically, we demonstrate how to build custom gates that are not part of the basic gate set provided by the SDK. A custom gate can used as a core quantum gate by registering it as a subroutine. \n",
    "\n",
    "After building the circuit, we will run it on two types of devices: 1) classical simulator, and 2) ion-based quantum machine provided by IonQ. For the latter, we will demonstrate how to recover quantum tasks that may be waiting in queue.\n",
    "\n",
    "1. [Introduction](#introduction)\n",
    "2. [Background: What is a Quantum Oracle?](#background)\n",
    "3. [Anatomy of Grover's Algorithm](#steps)\n",
    "4. [Circuit Diagram](#diagram)\n",
    "5. [Code](#code)\n",
    " 1. [Libraries and Parameters](#setup)\n",
    " 2. [Helper Functions](#wrappers)\n",
    " 3. [Device: Classical Simulator](#sim_c)\n",
    " 4. [Device: IonQ](#ionq)\n",
    "6. [References](#ref)\n",
    "\n",
    "This tutorial is based on ion-trap experiments published as *C. Figgatt, D. Maslov, K. A. Landsman, N. M. Linke, S. Debnath & C. Monroe (2017), \"Complete 3-Qubit Grover search on a programmable quantum computer\", Nature Communications, Vol 8, Art 1918, doi:10.1038/s41467-017-01904-7, arXiv:1703.10535*. "
   ]
  },
  {
   "cell_type": "markdown",
   "metadata": {},
   "source": [
    "# Introduction<a name=\"introduction\"></a>"
   ]
  },
  {
   "cell_type": "markdown",
   "metadata": {},
   "source": [
    "Grover's algorithm is arguably one of the canonical quantum algorithms that kick-started the field of quantum computing. In the future, it could possibly serve as a hallmark application of quantum computing. Grover's algorithm allows us to find a particular register in an unordered database with $N$ entries in just $O(\\sqrt{N})$ steps, compared to the best classical algorithm taking on average $N/2$ steps, thereby providing a __quadratic speedup__.\n",
    "\n",
    "For large databases (with a large number of entries, $N$), a quadratic speedup can provide a significant advantage. For a database with one million entries, a quantum computer running Grover's algorithm would need about 1000 runs, while a classical computer would need, on average, $500$k runs.\n",
    "\n",
    "Research has been shown that any optimal quantum solution to an unstructured search problem has a speed limit of $O(\\sqrt{N})$ runtime. This matches the performance of Grover's algorithm, thus proving that the algorithm is asymptotically optimal [2]. In fact, Grover's algorithm can be generalized to accelerate any type of search where one can construct a quantum oracle, as described in the next section. \n",
    "\n",
    "Consider the following problem [2]: \n",
    "In a search space with $N$ elements, we are searching the index of those elements, which is a number in the range $0, 1, \\dots, N-1$. \n",
    "We have $n$ bits at our disposal, with which we can store up to $2^{n}$ elements. \n",
    "Our search problem can then be expressed with the help of a function $f$, which takes as input an element out of our set of indices (that is, an integer $x$) and generates two possible outputs: $f(x^{*})=1$, if $x^{*}$ is the solution to the search problem or $f(x)=0$ otherwise (if $N<2^{n}$ we can just set $f(x)=0$ for all extra unused elements). \n",
    "This is done with the help of a quantum oracle, which recognizes solutions to the search problem. "
   ]
  },
  {
   "cell_type": "markdown",
   "metadata": {},
   "source": [
    "# Background: What is a Quantum Oracle? <a name=\"background\"></a>"
   ]
  },
  {
   "cell_type": "markdown",
   "metadata": {},
   "source": [
    "Grover's algorithm, like many other quantum algorithms, utilizes the concept of a quantum oracle which we will denote as $\\mathcal{O}$.  In essence, an oracle $\\mathcal{O}$ is a black-box operation that serves as a subroutine to another algorithm. Typically, oracles are defined using a classical function $f:\\{0,1\\}^{n} \\rightarrow \\{0,1\\}^{m}$, that maps an $n$-input bitstring to an $m$-output bitstring. With $x \\in \\{0,1\\}^{n}$, i.e., $x=(x_{0}, x_{1}, \\dots, x_{n-1})$ is a bitstring vector, and $y \\in \\{0,1\\}^{m}$, the oracle $\\mathcal{O}$ is a unitary operator, commonly defined by its effect on an arbitrary computational basis state as:\n",
    "\n",
    "$$\\mathcal{O} (\\left|x\\right> \\otimes \\left|y\\right>) = \\left|x\\right> \\otimes \\left|y \\oplus f(x)\\right>,$$ where $\\oplus$ denotes addition modulo 2. \n",
    "\n",
    "This means that the second qubit register of size $m$ stores the result of the computation. \n",
    "For $m=1$, which is the scenario we will focus on here, the second register $\\left|y\\right>$ is a single qubit that is flipped if (and only if) $f(x)=1$. \n",
    "In short, the quantum oracle flips the ancilla qubit only if the function $f(x)$ evaluates to one. \n",
    "Accordingly, we can check if $x$ is a solution to our search problem by first preparing the state $\\left|x\\right> \\otimes \\left|0\\right>$, then applying the oracle $\\mathcal{O}$ to that state, before finally measuring the state of the oracle qubit. \n",
    "\n",
    "In Grover's algorithm, it is useful to initialize the oracle qubit in a superposition, as $\\left|y\\right> = (\\left|0\\right> - \\left|1\\right>)/\\sqrt{2}$. \n",
    "We can distinguish two cases: \n",
    "(i) If $x$ is not a solution to our search problem (i.e., $f(x)=0$), then the application of the oracle operator $\\mathcal{O}$ to the input state $\\left|x\\right> \\otimes (\\left|0\\right> - \\left|1\\right>)/\\sqrt{2}$ leaves this state simply untouched. \n",
    "(ii) Conversely, if $x$ is a solution to our search problem (i.e., $f(x)=1$), then the oracle states $\\left|0\\right>$ and $\\left|1\\right>$ are flipped, such that the state picks up a minus sign, giving the final output state $-\\left|x\\right> \\otimes (\\left|0\\right> - \\left|1\\right>)/\\sqrt{2}$. \n",
    "Note that global phase factors do not matter in quantum computing, but the relative minus sign we encounter here does make all the difference for a superposition state, which would include the solution among all other possible input states. \n",
    "\n",
    "For both cases (i) and (ii), the action of the oracle can be summarized as: \n",
    "\n",
    "$$\\left|x\\right> \\otimes (\\left|0\\right> - \\left|1\\right>)/\\sqrt{2} \\longrightarrow (-1)^{f(x)} \\left|x\\right> \\otimes (\\left|0\\right> - \\left|1\\right>)/\\sqrt{2}.$$  \n",
    "Accordingly, the solution to our search problem gets *marked* by shifting the corresponding phase. \n",
    "Since the oracle qubit remains unchanged, one can omit this oracle qubit from further discussion and simply express the action of the oracle as: \n",
    "\n",
    "$$\\left|x\\right> \\longrightarrow (-1)^{f(x)}\\left|x\\right>.$$ \n",
    "\n",
    "This expression also captures the definition of a *phase oracle*, which will be used in our examples below. \n",
    "If a phase oracle is applied on a computational basis state $\\left|x\\right>$, then we only get a global phase that is not observable. However, when applied to a superposition of computational basis states, this phase oracle becomes a powerful tool. As it turns out, the search oracle needs to be applied only $O(\\sqrt{N})$ times to obtain the solution with high probability [2]; more generally, if there are $G$ solutions, the oracle needs to be applied only $O(\\sqrt{N/G})$ times). "
   ]
  },
  {
   "cell_type": "markdown",
   "metadata": {},
   "source": [
    "# Anatomy of Grover's Algorithm <a name=\"steps\"></a>"
   ]
  },
  {
   "cell_type": "markdown",
   "metadata": {},
   "source": [
    "In this tutorial, we will be working with three bits $(n=3)$, leading to eight possible items $(N=2^{3}=8)$. \n",
    "To find a given target item, Grover's algorithm uses the following steps:\n",
    "\n",
    "1. **Initialize**: Start with a uniform superposition of all possible bit strings by applying Hadamard gates. This will result in all inputs having the same amplitude. Since we do not have any prior knowledge about the solution, we initialize to an equal superposition of all possible candidate solutions. \n",
    "\n",
    "2. **Oracle**: Item bits are then passed through an oracle. The oracle produces only two results. If it detects the target item, its amplitude will be flipped to negative. For all other items, their amplitudes will remain positive. Because the oracle is specifically engineered to change amplitudes based on a certain bit pattern, each target item would have its own associated oracle.\n",
    "\n",
    "3. **Amplification**: While the oracle in step 2 distinguishes the target item by flipping its amplitude in the negative direction, this difference remains too small to detect. Hence, we use a trick to magnify the difference in amplitudes; by flipping every amplitude around the mean amplitude. Recall that only the target item's amplitude was flipped to negative. In other words, the mean amplitude would still be positive, and its value would only be slightly lower than the amplitudes of other items. By flipping all amplitudes about the mean, the amplitudes of non-target items would decrease only slightly. On the other hand, the amplitude of the target item, being much less than the mean value to start, would be reflected back up into the positive direction by a large margin.\n",
    "\n",
    "4. **Repeat**: By repeating steps 2 and 3, we can magnify the amplitude of the target item to a point where it can be identified with overwhelming probability. To get to this point, we need to repeat these steps approximately $\\sqrt{N}$ times (again assuming a single solution and large $N$). As discussed in more detail in our Quantum Amplification Algorithm (QAA) tutorial, to ensure we measure a solution with high probability, we apply the Grover iterator $\\left\\lfloor\\frac{\\pi}{4\\theta}\\right\\rfloor=\\left\\lfloor\\frac{\\pi}{4}\\sqrt{\\frac{N}{G}}\\right\\rfloor$ times, with $G$ denoting the number of solutions. Since we may not know $G$ in advance, we not know the ideal number of iterations a priori. To address this issue, however, we may use quantum counting techniques with the help of the phase estimation procedure (QPE); for details we refer to Ref.[2]. \n",
    "\n",
    "5. **Measurement**: Measure the resulting amplitudes to identify the target item."
   ]
  },
  {
   "attachments": {
    "image.png": {
     "image/png": "[encoded data removed]"
    }
   },
   "cell_type": "markdown",
   "metadata": {},
   "source": [
    "![image.png](attachment:image.png)"
   ]
  },
  {
   "cell_type": "markdown",
   "metadata": {},
   "source": [
    "# Circuit Diagram <a name=\"diagram\"></a>"
   ]
  },
  {
   "attachments": {
    "circuit.png": {
     "image/png": "[encoded data removed]"
    }
   },
   "cell_type": "markdown",
   "metadata": {},
   "source": [
    "Following Ref.[1], we will examine Grover's search algorithm for $n=3$ qubits, which corresponds to a search database of size $N = 2^{3} = 8$. Below we show the circuit used to find the item ```111```.  To find other items, we can simply swap out the phase oracle, using the table given in Ref.[1].\n",
    "\n",
    "![circuit.png](attachment:circuit.png)"
   ]
  },
  {
   "cell_type": "markdown",
   "metadata": {},
   "source": [
    "# Code <a name=\"code\"></a>"
   ]
  },
  {
   "cell_type": "markdown",
   "metadata": {},
   "source": [
    "## Libraries and Parameters <a name=\"setup\"></a>"
   ]
  },
  {
   "cell_type": "code",
   "execution_count": 1,
   "metadata": {},
   "outputs": [
    {
     "name": "stdout",
     "output_type": "stream",
     "text": [
      "Version: 1.0.0.post1\r\n"
     ]
    }
   ],
   "source": [
    "# Check SDK version\n",
    "!pip show amazon-braket-sdk | grep Version"
   ]
  },
  {
   "cell_type": "code",
   "execution_count": 2,
   "metadata": {},
   "outputs": [],
   "source": [
    "# Import Braket libraries\n",
    "from braket.circuits import circuit, Circuit, Gate, Moments\n",
    "from braket.circuits.instruction import Instruction\n",
    "from braket.aws import AwsQuantumTask, AwsDevice\n",
    "from braket.devices import LocalSimulator\n",
    "import matplotlib.pyplot as plt\n",
    "# magic word for producing visualizations in notebook\n",
    "%matplotlib inline\n",
    "import numpy as np"
   ]
  },
  {
   "cell_type": "markdown",
   "metadata": {},
   "source": [
    "__NOTE__: Please enter your desired device and S3 location (bucket and key) below. If you are working with the local simulator ```LocalSimulator()``` you do not need to specify any S3 location. However, if you are using the managed cloud-based device or any QPU devices you need to specify the S3 location where your results will be stored. In this case, you need to replace the API call ```device.run(circuit, ...)``` below with ```device.run(circuit, s3_folder, ...)```. "
   ]
  },
  {
   "cell_type": "code",
   "execution_count": 3,
   "metadata": {},
   "outputs": [],
   "source": [
    "# set up device: Local Simulator\n",
    "device = LocalSimulator()\n",
    "\n",
    "# Please enter the S3 bucket you created during onboarding in the code below\n",
    "my_bucket = f\"amazon-braket-Your-Bucket-Name\" # the name of the bucket\n",
    "my_prefix = \"Your-Folder-Name\" # the name of the folder in the bucket\n",
    "s3_folder = (my_bucket, my_prefix)"
   ]
  },
  {
   "cell_type": "markdown",
   "metadata": {},
   "source": [
    "## Helper Functions <a name=\"wrappers\"></a>"
   ]
  },
  {
   "cell_type": "markdown",
   "metadata": {},
   "source": [
    "We develop a set of useful helper functions that we will explain in detail below. Specifically, we provide simple building blocks for the four core modules of Grover's search algorithm: 1) initialization, 2) oracle, 3) amplification, and 4) measurement. This allows us to solve the problem in a clean and modular approach. "
   ]
  },
  {
   "cell_type": "code",
   "execution_count": 4,
   "metadata": {},
   "outputs": [],
   "source": [
    "# Helper function to build C-C-Z gate\n",
    "@circuit.subroutine(register=True)\n",
    "def ccz(targets=[0, 1, 2]):\n",
    "    \"\"\"\n",
    "    implementation ot three-qubit gate CCZ\n",
    "    \"\"\"\n",
    "    # define three-qubit CCZ gate\n",
    "    ccz_gate = np.array([[1.0, 0.0, 0.0, 0.0, 0.0, 0.0, 0.0, 0.0],\n",
    "                         [0.0, 1.0, 0.0, 0.0, 0.0, 0.0, 0.0, 0.0],\n",
    "                         [0.0, 0.0, 1.0, 0.0, 0.0, 0.0, 0.0, 0.0],\n",
    "                         [0.0, 0.0, 0.0, 1.0, 0.0, 0.0, 0.0, 0.0],\n",
    "                         [0.0, 0.0, 0.0, 0.0, 1.0, 0.0, 0.0, 0.0],\n",
    "                         [0.0, 0.0, 0.0, 0.0, 0.0, 1.0, 0.0, 0.0],\n",
    "                         [0.0, 0.0, 0.0, 0.0, 0.0, 0.0, 1.0, 0.0],\n",
    "                         [0.0, 0.0, 0.0, 0.0, 0.0, 0.0, 0.0, -1.0]],\n",
    "                       dtype=complex)\n",
    "    \n",
    "    # instantiate circuit object\n",
    "    circ = Circuit()\n",
    "    \n",
    "    # add CCZ gate\n",
    "    circ.unitary(matrix=ccz_gate, targets=targets)\n",
    "    \n",
    "    return circ\n",
    "\n",
    "\n",
    "# All possible items and their corresponding oracles\n",
    "# define oracle dictionary using this CCZ gate\n",
    "oracle_sim = {\"000\": Circuit().x([0,1,2]).ccz(targets=[0, 1, 2]).x([0,1,2]),\n",
    "              \"001\": Circuit().x([0,1]).ccz(targets=[0, 1, 2]).x([0,1]),\n",
    "              \"010\": Circuit().x([0,2]).ccz(targets=[0, 1, 2]).x([0,2]),\n",
    "              \"011\": Circuit().x([0]).ccz(targets=[0, 1, 2]).x([0]),\n",
    "              \"100\": Circuit().x([1,2]).ccz(targets=[0, 1, 2]).x([1,2]),\n",
    "              \"101\": Circuit().x([1]).ccz(targets=[0, 1, 2]).x([1]),\n",
    "              \"110\": Circuit().x([2]).ccz(targets=[0, 1, 2]).x([2]),\n",
    "              \"111\": Circuit().ccz(targets=[0, 1, 2])\n",
    "          }\n",
    "\n",
    "\n",
    "# helper function for initialization\n",
    "def initialize(n_qubits=3):\n",
    "    \"\"\"\n",
    "    function to apply hadamard to all qubits\n",
    "    \"\"\"\n",
    "    # Initialize with superposition\n",
    "    circ = Circuit();\n",
    "    circ.h(np.arange(n_qubits))\n",
    "    #print(circ)\n",
    "    return circ\n",
    "\n",
    "\n",
    "# helper function for phase oracle\n",
    "def oracle(item):\n",
    "    \"\"\"\n",
    "    function to apply oracle for given target item\n",
    "    \"\"\"\n",
    "    # instantiate circuit object\n",
    "    circ = Circuit()\n",
    "    \n",
    "    # add oracle\n",
    "    circ.add_circuit(oracle_sim[item])\n",
    "    \n",
    "    return circ\n",
    "\n",
    "\n",
    "# helper function for amplification\n",
    "def amplify(n_qubits=3):\n",
    "    \"\"\"\n",
    "    function for amplitude amplification\n",
    "    \"\"\"\n",
    "    # instantiate circuit object\n",
    "    circ = Circuit()\n",
    "    \n",
    "    # Amplification\n",
    "    circ.h(np.arange(n_qubits))\n",
    "    circ.add_circuit(oracle_sim['000'])\n",
    "    circ.h(np.arange(n_qubits))\n",
    "    \n",
    "    return circ\n",
    "\n",
    "\n",
    "# helper function for grover algorithm\n",
    "def grover(item, n_qubits=3, n_reps=1):\n",
    "    \"\"\"\n",
    "    function to put together individual modules of Grover algorithm\n",
    "    \"\"\"\n",
    "    # initalize\n",
    "    grover_circ = initialize()\n",
    "    # oracle and amplify\n",
    "    for ii in range(n_reps):\n",
    "        # get oracle\n",
    "        or_circ = oracle(item)\n",
    "        grover_circ.add(or_circ)\n",
    "        # amplify\n",
    "        amplification = amplify()\n",
    "        grover_circ.add(amplification)\n",
    "    \n",
    "    return grover_circ\n",
    "        "
   ]
  },
  {
   "cell_type": "code",
   "execution_count": 5,
   "metadata": {},
   "outputs": [],
   "source": [
    "# Function to run quantum task, check the status thereof and collect results\n",
    "def get_result(circ, s3_folder):\n",
    "    \n",
    "    # get number of qubits\n",
    "    num_qubits = circ.qubit_count\n",
    "\n",
    "    # specify desired results_types\n",
    "    circ.probability()\n",
    "\n",
    "    # submit task: define task (asynchronous)\n",
    "    if device.name == 'DefaultSimulator':\n",
    "        task = device.run(circ, shots=1000)\n",
    "    else:\n",
    "        task = device.run(circ, s3_folder,\n",
    "                          shots=1000, \n",
    "                          poll_timeout_seconds=1000)\n",
    "\n",
    "    # Get ID of submitted task\n",
    "    task_id = task.id\n",
    "    print('Task ID :', task_id)\n",
    "\n",
    "    # Wait for job to complete\n",
    "    status_list = []\n",
    "    status = task.state()\n",
    "    status_list += [status]\n",
    "    print('Status:', status)\n",
    "\n",
    "    # Only notify the user when there's a status change\n",
    "    while status != 'COMPLETED':\n",
    "        status = task.state()\n",
    "        if status != status_list[-1]:\n",
    "            print('Status:', status)\n",
    "        status_list += [status]\n",
    "\n",
    "    # get result\n",
    "    result = task.result()\n",
    "\n",
    "    # get metadata\n",
    "    metadata = result.task_metadata\n",
    "\n",
    "    # get output probabilities\n",
    "    probs_values = result.values[0]\n",
    "\n",
    "    # get measurment results\n",
    "    measurement_counts = result.measurement_counts\n",
    "\n",
    "    # print measurment results\n",
    "    print('measurement_counts:', measurement_counts)\n",
    "\n",
    "    # bitstrings\n",
    "    format_bitstring = '{0:0' + str(num_qubits) + 'b}'\n",
    "    bitstring_keys = [format_bitstring.format(ii) for ii in range(2**num_qubits)]\n",
    "\n",
    "    # plot probabalities\n",
    "    plt.bar(bitstring_keys, probs_values);\n",
    "    plt.xlabel('bitstrings');\n",
    "    plt.ylabel('probability');\n",
    "    plt.xticks(rotation=90);\n",
    "    \n",
    "    return measurement_counts"
   ]
  },
  {
   "cell_type": "markdown",
   "metadata": {},
   "source": [
    "## Device: Classical Simulator <a name=\"sim_c\"></a>\n",
    "We demonstrate Grover's algorithm on a classical simulator first. \n",
    "You can choose between a local simulator or a cloud-based simulator. \n",
    "In the next section, we will run the same problem on a quantum IonQ device."
   ]
  },
  {
   "cell_type": "code",
   "execution_count": 6,
   "metadata": {},
   "outputs": [],
   "source": [
    "# Set up the cloud-based simulator \n",
    "device = AwsDevice(\"arn:aws:braket:::device/quantum-simulator/amazon/sv1\")\n",
    "\n",
    "# set up the local simulator\n",
    "# device = LocalSimulator()"
   ]
  },
  {
   "cell_type": "code",
   "execution_count": 7,
   "metadata": {},
   "outputs": [
    {
     "name": "stdout",
     "output_type": "stream",
     "text": [
      "Quantum Gates supported by SV1:\n",
      " ['ccnot', 'cnot', 'cphaseshift', 'cphaseshift00', 'cphaseshift01', 'cphaseshift10', 'cswap', 'cy', 'cz', 'h', 'i', 'iswap', 'pswap', 'phaseshift', 'rx', 'ry', 'rz', 's', 'si', 'swap', 't', 'ti', 'unitary', 'v', 'vi', 'x', 'xx', 'xy', 'y', 'yy', 'z', 'zz']\n"
     ]
    }
   ],
   "source": [
    "# get device name\n",
    "device_name = device.name\n",
    "# show the properties of the device \n",
    "device_properties = device.properties\n",
    "# show supportedQuantumOperations (supported gates for a device)\n",
    "device_operations = device_properties.dict()['action']['braket.ir.jaqcd.program']['supportedOperations']\n",
    "# Note: This field also exists for other devices like the QPUs\n",
    "print('Quantum Gates supported by {}:\\n {}'.format(device_name, device_operations))"
   ]
  },
  {
   "cell_type": "markdown",
   "metadata": {},
   "source": [
    "Since the ```CCZ``` gate is not part of the default gate set, we have used the ```unitary``` method to build a custom doubly-controlled Z gate ```CCZ``` for the phase oracle operator. \n",
    "We will leverage Braket's `circuit.subroutine` functionality, which allows us to use such a custom-built gate as any other built-in gates.  "
   ]
  },
  {
   "cell_type": "markdown",
   "metadata": {},
   "source": [
    "Now, we are ready to run our circuit for a few test cases. \n",
    "To recap, the steps are as follows:\n",
    "\n",
    "1. Create a uniform superposition\n",
    "2. Apply the phase oracle corresponding to our target item\n",
    "3. Define the diffusion operator to magnify the amplitude difference created by the oracle\n",
    "4. Collect the measurement counts for our target item"
   ]
  },
  {
   "cell_type": "code",
   "execution_count": 8,
   "metadata": {},
   "outputs": [
    {
     "name": "stdout",
     "output_type": "stream",
     "text": [
      "T  : |0|1|2|3|4|5|6|\n",
      "                    \n",
      "q0 : -H-U-H-X-U-X-H-\n",
      "        |     |     \n",
      "q1 : -H-U-H-X-U-X-H-\n",
      "        |     |     \n",
      "q2 : -H-U-H-X-U-X-H-\n",
      "\n",
      "T  : |0|1|2|3|4|5|6|\n",
      "Task ID : arn:aws:braket:us-west-2:512393695560:quantum-task/cd22304d-4612-4fbb-ab1c-cce5db0d1e96\n",
      "Status: CREATED\n",
      "Status: QUEUED\n",
      "Status: RUNNING\n",
      "Status: COMPLETED\n",
      "measurement_counts: Counter({'111': 785, '001': 39, '000': 32, '110': 32, '101': 31, '100': 29, '011': 29, '010': 23})\n"
     ]
    },
    {
     "data": {
      "image/png": "[encoded data removed]",
      "text/plain": [
       "<Figure size 432x288 with 1 Axes>"
      ]
     },
     "metadata": {
      "needs_background": "light"
     },
     "output_type": "display_data"
    }
   ],
   "source": [
    "# Select item to find. Let's start with '111' for now\n",
    "item = \"111\"\n",
    "\n",
    "# get Grover circuit\n",
    "circ = grover(item)\n",
    "\n",
    "# print circuit\n",
    "print(circ)\n",
    "\n",
    "# Measurement\n",
    "counts = get_result(circ, s3_folder)"
   ]
  },
  {
   "cell_type": "markdown",
   "metadata": {},
   "source": [
    "__DISCUSSION__: We observe a strong peak around the target solution given by the `111` bitstring, with all other bitstrings showing far smaller probabilities. \n",
    "Let us try one more item: "
   ]
  },
  {
   "cell_type": "code",
   "execution_count": 9,
   "metadata": {},
   "outputs": [
    {
     "name": "stdout",
     "output_type": "stream",
     "text": [
      "T  : |0|1|2|3|4|5|6|7|8|\n",
      "                        \n",
      "q0 : -H---U-H-X---U-X-H-\n",
      "          |       |     \n",
      "q1 : -H-X-U-X-H-X-U-X-H-\n",
      "          |       |     \n",
      "q2 : -H-X-U-X-H-X-U-X-H-\n",
      "\n",
      "T  : |0|1|2|3|4|5|6|7|8|\n",
      "Task ID : 9efddf71-ddb5-4eea-a8e8-f9baf1712e03\n",
      "Status: COMPLETED\n",
      "measurement_counts: Counter({'100': 802, '110': 39, '011': 36, '101': 33, '000': 27, '111': 27, '010': 21, '001': 15})\n"
     ]
    },
    {
     "data": {
      "image/png": "[encoded data removed]",
      "text/plain": [
       "<Figure size 432x288 with 1 Axes>"
      ]
     },
     "metadata": {
      "needs_background": "light"
     },
     "output_type": "display_data"
    }
   ],
   "source": [
    "# Select item to find. Let's start with '111' for now\n",
    "item = \"100\"\n",
    "\n",
    "# get Grover circuit\n",
    "circ = grover(item)\n",
    "\n",
    "# print circuit\n",
    "print(circ)\n",
    "\n",
    "# Measurement\n",
    "counts = get_result(circ, s3_folder)"
   ]
  },
  {
   "cell_type": "markdown",
   "metadata": {},
   "source": [
    "__DISCUSSION__: By repeating steps 2 (oracle) and 3 (amplification), we can further magnify the amplitude of the target item, thus maximizing the single-shot probability of identifying the right answer. This is demonstrated below."
   ]
  },
  {
   "cell_type": "code",
   "execution_count": 10,
   "metadata": {},
   "outputs": [
    {
     "name": "stdout",
     "output_type": "stream",
     "text": [
      "T  : |0|1|2|3|4|5|6|7|8|9|10|11|12|13|14|15|16|\n",
      "                                               \n",
      "q0 : -H---U-H-X---U-X-H---U--H--X-----U--X--H--\n",
      "          |       |       |           |        \n",
      "q1 : -H-X-U-X-H-X-U-X-H-X-U--X--H--X--U--X--H--\n",
      "          |       |       |           |        \n",
      "q2 : -H-X-U-X-H-X-U-X-H-X-U--X--H--X--U--X--H--\n",
      "\n",
      "T  : |0|1|2|3|4|5|6|7|8|9|10|11|12|13|14|15|16|\n",
      "Task ID : 3e11f120-7378-46dc-b8af-acbb04d44f59\n",
      "Status: COMPLETED\n",
      "measurement_counts: Counter({'100': 942, '000': 14, '010': 9, '001': 9, '011': 8, '101': 6, '111': 6, '110': 6})\n"
     ]
    },
    {
     "data": {
      "image/png": "[encoded data removed]",
      "text/plain": [
       "<Figure size 432x288 with 1 Axes>"
      ]
     },
     "metadata": {
      "needs_background": "light"
     },
     "output_type": "display_data"
    }
   ],
   "source": [
    "# Select item to find\n",
    "item = \"100\"\n",
    "\n",
    "# get Grover circuit\n",
    "circ = grover(item, n_reps=2)\n",
    "\n",
    "# print circuit\n",
    "print(circ)\n",
    "\n",
    "# Measurement\n",
    "counts = get_result(circ, s3_folder)"
   ]
  },
  {
   "cell_type": "markdown",
   "metadata": {},
   "source": [
    "__DISCUSSION__: We observed how repeated application of the Grover operator has amplified the occurrence of the desired bitstring, while further suppressing wrong answers to our search problem. We get the correct result with high probability.  "
   ]
  },
  {
   "cell_type": "markdown",
   "metadata": {},
   "source": [
    "## Device: IonQ <a name=\"ionq\"></a>\n",
    "\n",
    "Finally, we check whether this scheme works on quantum hardware, by submitting our circuit to the IonQ device. To achieve this, we first need to express the ```CCZ``` gate in terms of the native gate set of IonQ. In doing so, we build a custom gate that can be registered as a subroutine and then used as any other native quantum gate within our SDK. "
   ]
  },
  {
   "cell_type": "code",
   "execution_count": 11,
   "metadata": {},
   "outputs": [],
   "source": [
    "# Set up a QPU device\n",
    "device = AwsDevice(\"arn:aws:braket:::device/qpu/ionq/ionQdevice\")"
   ]
  },
  {
   "cell_type": "code",
   "execution_count": 12,
   "metadata": {},
   "outputs": [
    {
     "name": "stdout",
     "output_type": "stream",
     "text": [
      "Quantum Gates supported by IonQ Device:\n",
      " ['x', 'y', 'z', 'rx', 'ry', 'rz', 'h', 'cnot', 's', 'si', 't', 'ti', 'v', 'vi', 'xx', 'yy', 'zz', 'swap', 'i']\n"
     ]
    }
   ],
   "source": [
    "# get device name\n",
    "device_name = device.name\n",
    "# show the properties of the device \n",
    "device_properties = device.properties\n",
    "# show supportedQuantumOperations (supported gates for a device)\n",
    "device_operations = device_properties.dict()['action']['braket.ir.jaqcd.program']['supportedOperations']\n",
    "# Note: This field also exists for other devices like the QPUs\n",
    "print('Quantum Gates supported by {}:\\n {}'.format(device_name, device_operations))"
   ]
  },
  {
   "cell_type": "markdown",
   "metadata": {},
   "source": [
    "For the 𝑁=8 Grover demonstration with three qubits shown in Figgatt et al. (2017), we need to implement the Controlled-Controlled-Z ```CCZ``` gate that is not natively provided on the IonQ device. We will construct this gate using native gates only such as ```CNOT``` and ```T```. Apart from our implementation, there are other alternative options available (see [1] and references therein). "
   ]
  },
  {
   "cell_type": "code",
   "execution_count": 13,
   "metadata": {},
   "outputs": [],
   "source": [
    "@circuit.subroutine(register=True)\n",
    "def CCNot(controls=[0, 1], target=2):\n",
    "    \"\"\"\n",
    "    build CCNOT from H, CNOT, T, Ti\n",
    "    \"\"\"\n",
    "    cQb1, cQb2 = controls\n",
    "    circ = Circuit().h(target).cnot(cQb2,target).ti(target).cnot(cQb1,target).t(target).cnot(cQb2,target).ti(target).cnot(cQb1,target).t(target).h(target).t(cQb2).cnot(cQb1,cQb2).t(cQb1).ti(cQb2).cnot(cQb1,cQb2)\n",
    "    \n",
    "    return circ \n",
    "\n",
    "def CCZ_ionq(controls=[0, 1], target=2):\n",
    "    \"\"\"\n",
    "    build CCZ from H and CCNOT\n",
    "    \"\"\"\n",
    "    circ = Circuit().h(target).CCNot(controls, target).h(target)\n",
    "    return circ\n",
    "\n",
    "ccz_ionq = CCZ_ionq()"
   ]
  },
  {
   "cell_type": "markdown",
   "metadata": {},
   "source": [
    "Below are oracles defined based on target items:"
   ]
  },
  {
   "cell_type": "code",
   "execution_count": 14,
   "metadata": {},
   "outputs": [],
   "source": [
    "# Four possible items and their corresponding oracles\n",
    "oracle_ionq = {\"000\": Circuit().x([0,1,2]).add(ccz_ionq).x([0,1,2]),\n",
    "               \"001\": Circuit().x([0,1]).add(ccz_ionq).x([0,1]),\n",
    "               \"010\": Circuit().x([0,2]).add(ccz_ionq).x([0,2]),\n",
    "               \"011\": Circuit().x([0]).add(ccz_ionq).x([0]),\n",
    "               \"100\": Circuit().x([1,2]).add(ccz_ionq).x([1,2]),\n",
    "               \"101\": Circuit().x([1]).add(ccz_ionq).x([1]),\n",
    "               \"110\": Circuit().x([2]).add(ccz_ionq).x([2]),\n",
    "               \"111\": Circuit().add(ccz_ionq)\n",
    "          }"
   ]
  },
  {
   "cell_type": "code",
   "execution_count": 15,
   "metadata": {},
   "outputs": [],
   "source": [
    "# Select some example item to find\n",
    "item = \"111\""
   ]
  },
  {
   "cell_type": "markdown",
   "metadata": {},
   "source": [
    "Same as with the classical simulator, we first initialize the qubits by applying the Hadamard gate ```H``` to every qubit."
   ]
  },
  {
   "cell_type": "code",
   "execution_count": 16,
   "metadata": {},
   "outputs": [
    {
     "name": "stdout",
     "output_type": "stream",
     "text": [
      "T  : |0|\n",
      "        \n",
      "q0 : -H-\n",
      "        \n",
      "q1 : -H-\n",
      "        \n",
      "q2 : -H-\n",
      "\n",
      "T  : |0|\n"
     ]
    }
   ],
   "source": [
    "# Initialize with superposition\n",
    "circ = Circuit();\n",
    "circ.h(np.arange(3))\n",
    "print(circ)"
   ]
  },
  {
   "cell_type": "markdown",
   "metadata": {},
   "source": [
    "Next, we apply the phase oracle corresponding to our target item.\n"
   ]
  },
  {
   "cell_type": "code",
   "execution_count": 17,
   "metadata": {},
   "outputs": [
    {
     "name": "stdout",
     "output_type": "stream",
     "text": [
      "T  : |0|1|2|3|4 |5|6|7|8 |9|10|11|12|\n",
      "                                     \n",
      "q0 : -H----------C--------C-C--T--C--\n",
      "                 |        | |     |  \n",
      "q1 : -H-----C----|---C-T--|-X--Ti-X--\n",
      "            |    |   |    |          \n",
      "q2 : -H-H-H-X-Ti-X-T-X-Ti-X-T--H--H--\n",
      "\n",
      "T  : |0|1|2|3|4 |5|6|7|8 |9|10|11|12|\n"
     ]
    }
   ],
   "source": [
    "# Construct phase oracle\n",
    "circ.add_circuit(oracle_ionq[item])\n",
    "print(circ)"
   ]
  },
  {
   "cell_type": "markdown",
   "metadata": {},
   "source": [
    "To complete the circuit, we define the diffusion operator, whose job is to magnify the amplitude difference created by the oracle."
   ]
  },
  {
   "cell_type": "code",
   "execution_count": 18,
   "metadata": {},
   "outputs": [
    {
     "name": "stdout",
     "output_type": "stream",
     "text": [
      "T  : |0|1|2|3|4 |5|6|7|8 |9|10|11|12|13|14|15|16|17|18|19|20|21|22|23|24|25|26|27|28|\n",
      "                                                                                     \n",
      "q0 : -H----------C--------C-C--T--C--H--X--------------C-----------C--C--T--C--X--H--\n",
      "                 |        | |     |                    |           |  |     |        \n",
      "q1 : -H-----C----|---C-T--|-X--Ti-X--H--X--------C-----|-----C--T--|--X--Ti-X--X--H--\n",
      "            |    |   |    |                      |     |     |     |                 \n",
      "q2 : -H-H-H-X-Ti-X-T-X-Ti-X-T--H--H--H--X--H--H--X--Ti-X--T--X--Ti-X--T--H--H--X--H--\n",
      "\n",
      "T  : |0|1|2|3|4 |5|6|7|8 |9|10|11|12|13|14|15|16|17|18|19|20|21|22|23|24|25|26|27|28|\n"
     ]
    }
   ],
   "source": [
    "# Amplification\n",
    "circ.h(np.arange(3))\n",
    "circ.add_circuit(oracle_ionq['000'])\n",
    "circ.h(np.arange(3))\n",
    "print(circ)"
   ]
  },
  {
   "cell_type": "markdown",
   "metadata": {},
   "source": [
    "This circuit could potentially be optimized, as detailed in Ref.[1], but we will use this version for simplicity. \n",
    "\n",
    "In the final step, we retrieve the probabilistic counts for our target item. \n",
    "To this end, we submit our circuit to the IonQ device, by setting the device as ```AwsDevice(\"arn:aws:braket:::device/qpu/ionq/ionQdevice\")```. \n",
    "\n",
    "This task may not be executed immediately as it enters a queue for this machine. \n",
    "Should we need to interrupt our kernel to work on something else, we can always recover our results using the unique ID of this task, as shown below. "
   ]
  },
  {
   "cell_type": "code",
   "execution_count": 19,
   "metadata": {},
   "outputs": [
    {
     "name": "stdout",
     "output_type": "stream",
     "text": [
      "Status of task: CREATED\n"
     ]
    }
   ],
   "source": [
    "# set up deviec\n",
    "ionq = AwsDevice(\"arn:aws:braket:::device/qpu/ionq/ionQdevice\")\n",
    "\n",
    "# run circuit with a polling time of 5 days\n",
    "ionq_task = ionq.run(circ, s3_folder, shots=1000,\n",
    "                     poll_timeout_seconds=5*24*60*60)\n",
    "\n",
    "# get id and status of submitted task\n",
    "ionq_task_id = ionq_task.id\n",
    "ionq_status = ionq_task.state()\n",
    "# print('ID of task:', ionq_task_id)\n",
    "print('Status of task:', ionq_status)"
   ]
  },
  {
   "cell_type": "code",
   "execution_count": 24,
   "metadata": {},
   "outputs": [
    {
     "name": "stdout",
     "output_type": "stream",
     "text": [
      "Status of (reconstructed) task: QUEUED\n"
     ]
    }
   ],
   "source": [
    "# print status\n",
    "status = ionq_task.state()\n",
    "print('Status of (reconstructed) task:', status)"
   ]
  },
  {
   "cell_type": "code",
   "execution_count": 27,
   "metadata": {},
   "outputs": [
    {
     "name": "stdout",
     "output_type": "stream",
     "text": [
      "Status of (reconstructed) task: COMPLETED\n"
     ]
    }
   ],
   "source": [
    "# print status\n",
    "status = ionq_task.state()\n",
    "print('Status of (reconstructed) task:', status)"
   ]
  },
  {
   "cell_type": "code",
   "execution_count": 28,
   "metadata": {},
   "outputs": [
    {
     "name": "stdout",
     "output_type": "stream",
     "text": [
      "Status of (reconstructed) task: COMPLETED\n",
      "1000 shots taken on machine arn:aws:braket:::device/qpu/ionq/ionQdevice.\n",
      "Measurement counts: Counter({'111': 354, '011': 166, '010': 103, '001': 93, '110': 87, '100': 72, '101': 69, '000': 56})\n"
     ]
    },
    {
     "data": {
      "image/png": "[encoded data removed]",
      "text/plain": [
       "<Figure size 432x288 with 1 Axes>"
      ]
     },
     "metadata": {
      "needs_background": "light"
     },
     "output_type": "display_data"
    }
   ],
   "source": [
    "# recover task\n",
    "task_load = AwsQuantumTask(arn=ionq_task_id)\n",
    "\n",
    "# print status\n",
    "status = task_load.state()\n",
    "print('Status of (reconstructed) task:', status)\n",
    "\n",
    "# wait for job to complete\n",
    "# terminal_states = ['COMPLETED', 'FAILED', 'CANCELLED']\n",
    "if status == 'COMPLETED':\n",
    "    # get results\n",
    "    results = task_load.result()\n",
    "    \n",
    "    # get all metadata of submitted task\n",
    "    metadata = task_load.metadata()\n",
    "    # example for metadata\n",
    "    shots = metadata['shots']\n",
    "    machine = metadata['deviceArn']\n",
    "    # print example metadata\n",
    "    print(\"{} shots taken on machine {}.\".format(shots, machine))\n",
    "    \n",
    "    # get measurement counts\n",
    "    counts = results.measurement_counts\n",
    "    print('Measurement counts:', counts)\n",
    "\n",
    "    # plot results: see effects of noise\n",
    "    plt.bar(counts.keys(), counts.values());\n",
    "    plt.xlabel('bitstrings');\n",
    "    plt.ylabel('counts');\n",
    "    plt.tight_layout();\n",
    "    plt.savefig('ionq.png', dpi=700);\n",
    "    \n",
    "elif status in ['FAILED', 'CANCELLED']:\n",
    "    # print terminal message \n",
    "    print('Your task is in terminal status, but has not completed.')\n",
    "\n",
    "else:\n",
    "    # print current status\n",
    "    print('Sorry, your task is still being processed and has not been finalized yet.')"
   ]
  },
  {
   "cell_type": "markdown",
   "metadata": {},
   "source": [
    "The output looks relatively noisy due to decoherence and gate errors in this relatively long gate sequence. However, we can still observe a dominant peak for the target item. \n",
    "\n",
    "In summary, we have shown how to implement Grover's search algorithm on both a classical simulator, as well as the IonQ device, using simple modular building blocks. We have also demonstrated how to build custom gates outside of the basic gate set provided by the SDK, and how to register these as subroutines that can be used as any other pre-defined quantum gate. "
   ]
  },
  {
   "cell_type": "markdown",
   "metadata": {},
   "source": [
    "---\n",
    "# References <a name=\"ref\"></a>\n",
    "\n",
    "[1] C. Figgatt, D. Maslov, K. A. Landsman, N. M. Linke, S. Debnath & C. Monroe (2017), \"Complete 3-Qubit Grover search on a programmable quantum computer\", Nature Communications, Vol 8, Art 1918, doi:10.1038/s41467-017-01904-7, arXiv:1703.10535.\n",
    "\n",
    "[2] Nielsen, Michael A., Chuang, Isaac L. (2010). Quantum Computation and Quantum Information (2nd ed.). Cambridge: Cambridge University Press."
   ]
  }
 ],
 "metadata": {
  "kernelspec": {
   "display_name": "braket",
   "language": "python",
   "name": "braket"
  },
  "language_info": {
   "codemirror_mode": {
    "name": "ipython",
    "version": 3
   },
   "file_extension": ".py",
   "mimetype": "text/x-python",
   "name": "python",
   "nbconvert_exporter": "python",
   "pygments_lexer": "ipython3",
   "version": "3.8.3"
  }
 },
 "nbformat": 4,
 "nbformat_minor": 4
}
