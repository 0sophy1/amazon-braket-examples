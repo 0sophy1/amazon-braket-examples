{
 "cells": [
  {
   "cell_type": "markdown",
   "metadata": {},
   "source": [
    "# Tutorial on circuit creation\n",
    "\n",
    "In this tutorial, we elaborate the method of building a circuit on Amazon Braket. Specifically, we discuss how to build (parametrized) circuits and display them graphically, how to append circuits to each other, how to get information from the circuit created, and how to find the gates supported by a certain device."
   ]
  },
  {
   "cell_type": "code",
   "execution_count": 1,
   "metadata": {},
   "outputs": [],
   "source": [
    "# Import the circuits class\n",
    "from braket.circuits import Circuit"
   ]
  },
  {
   "cell_type": "markdown",
   "metadata": {},
   "source": [
    "## Build a circuit\n",
    "\n",
    "Let's get started to build a GHZ state with four qubits. By calling `Circuit()` we create an empty circuit, and we can just add gates to the circuit. "
   ]
  },
  {
   "cell_type": "code",
   "execution_count": 2,
   "metadata": {},
   "outputs": [
    {
     "name": "stdout",
     "output_type": "stream",
     "text": [
      "T  : |0|1|2|3|\n",
      "              \n",
      "q0 : -H-C-----\n",
      "        |     \n",
      "q1 : ---X-C---\n",
      "          |   \n",
      "q2 : -----X-C-\n",
      "            | \n",
      "q3 : -------X-\n",
      "\n",
      "T  : |0|1|2|3|\n"
     ]
    }
   ],
   "source": [
    "# build a GHZ state with four qubits. Here 'cnot(control=0, target=1)' can be simplified as 'cnot(0,1)'\n",
    "my_circuit = Circuit().h(0).cnot(control=0, target=1).cnot(control=1, target=2).cnot(control=2, target=3)\n",
    "\n",
    "# visualize the circuit\n",
    "print(my_circuit)"
   ]
  },
  {
   "cell_type": "markdown",
   "metadata": {},
   "source": [
    "We can also build a circuit with parameterized gates."
   ]
  },
  {
   "cell_type": "code",
   "execution_count": 3,
   "metadata": {},
   "outputs": [
    {
     "name": "stdout",
     "output_type": "stream",
     "text": [
      "T  : |   0    | 1 |\n",
      "                   \n",
      "q0 : -Rx(0.15)---C-\n",
      "                 | \n",
      "q1 : -Ry(0.2)--H-|-\n",
      "                 | \n",
      "q2 : -Rz(0.25)---X-\n",
      "                   \n",
      "q3 : -H------------\n",
      "\n",
      "T  : |   0    | 1 |\n"
     ]
    }
   ],
   "source": [
    "# build a circuit with some parametrized gates \n",
    "my_circuit = Circuit().rx(0, 0.15).ry(1, 0.2).rz(2, 0.25).h([1,3]).cnot(0,2)\n",
    "print(my_circuit)"
   ]
  },
  {
   "cell_type": "markdown",
   "metadata": {},
   "source": [
    "Or build a circuit with self-defined unitary gates."
   ]
  },
  {
   "cell_type": "code",
   "execution_count": 4,
   "metadata": {},
   "outputs": [
    {
     "name": "stdout",
     "output_type": "stream",
     "text": [
      "The self-defined gate is:\n",
      " [[1 0 0 0]\n",
      " [0 0 1 0]\n",
      " [0 1 0 0]\n",
      " [0 0 0 1]]\n",
      "\n",
      " T  : |0|1|2|\n",
      "            \n",
      "q0 : -U---C-\n",
      "      |   | \n",
      "q1 : -U-H-X-\n",
      "\n",
      "T  : |0|1|2|\n"
     ]
    }
   ],
   "source": [
    "import numpy as np\n",
    "\n",
    "# define and print the self-defined unitary\n",
    "my_gate = np.array([[1,0,0,0],[0,0,1,0],[0,1,0,0],[0,0,0,1]])\n",
    "print('The self-defined gate is:\\n', my_gate)\n",
    "\n",
    "# build a circuit with the self-defined gate U\n",
    "my_circuit = Circuit().unitary(matrix=my_gate, targets=[0,1]).h(1).cnot(0,1)\n",
    "print('\\n',my_circuit)"
   ]
  },
  {
   "cell_type": "markdown",
   "metadata": {},
   "source": [
    "## Append gates to a circuit\n",
    "\n",
    "We can append circuits to existing circuits with ```add_circuit()``` or `add()`. "
   ]
  },
  {
   "cell_type": "code",
   "execution_count": 5,
   "metadata": {},
   "outputs": [
    {
     "name": "stdout",
     "output_type": "stream",
     "text": [
      "T  : |0|1|2|   3   |   4   |\n",
      "                            \n",
      "q0 : -U---C-Rz(0.1)-Rz(0.1)-\n",
      "      |   |                 \n",
      "q1 : -U-H-X-----------------\n",
      "\n",
      "T  : |0|1|2|   3   |   4   |\n"
     ]
    }
   ],
   "source": [
    "# append two circuits with add_circuit() functionality\n",
    "circuit2 = Circuit().rz(0, 0.1)\n",
    "my_circuit = my_circuit.add_circuit(circuit2)\n",
    "\n",
    "# or with add()\n",
    "my_circuit = my_circuit.add(circuit2)\n",
    "print(my_circuit)"
   ]
  },
  {
   "cell_type": "markdown",
   "metadata": {},
   "source": [
    "We can specify the location of the circuit to be appended."
   ]
  },
  {
   "cell_type": "code",
   "execution_count": 6,
   "metadata": {},
   "outputs": [
    {
     "name": "stdout",
     "output_type": "stream",
     "text": [
      "T  : |0|1|2|   3   |   4   |5|\n",
      "                              \n",
      "q0 : -U---C-Rz(0.1)-Rz(0.1)-C-\n",
      "      |   |                 | \n",
      "q1 : -U-H-X-----------------|-\n",
      "                            | \n",
      "q2 : -----------------------X-\n",
      "\n",
      "T  : |0|1|2|   3   |   4   |5|\n",
      "T  : |0|1|2|   3   |   4   |5|6|\n",
      "                                \n",
      "q0 : -U---C-Rz(0.1)-Rz(0.1)-C-X-\n",
      "      |   |                 | | \n",
      "q1 : -U-H-X-----------------|-C-\n",
      "                            |   \n",
      "q2 : -----------------------X---\n",
      "\n",
      "T  : |0|1|2|   3   |   4   |5|6|\n"
     ]
    }
   ],
   "source": [
    "circuit2 = Circuit().cnot(0, 1)\n",
    "\n",
    "# specify where to append the new piece of circuit\n",
    "my_circuit = my_circuit.add_circuit(circuit2, target={0,2})\n",
    "print(my_circuit)\n",
    "\n",
    "# Swapping qubits when appending circuits can be easily down with the target_mapping\n",
    "my_circuit = my_circuit.add_circuit(circuit2, target_mapping={0: 1, 1: 0})\n",
    "print(my_circuit)"
   ]
  },
  {
   "cell_type": "markdown",
   "metadata": {},
   "source": [
    "We can also copy a circuit using `copy()`"
   ]
  },
  {
   "cell_type": "code",
   "execution_count": 7,
   "metadata": {},
   "outputs": [
    {
     "name": "stdout",
     "output_type": "stream",
     "text": [
      "T  : |0|1|2|   3   |   4   |5|6|7|\n",
      "                                  \n",
      "q0 : -U---C-Rz(0.1)-Rz(0.1)-C-X-C-\n",
      "      |   |                 | | | \n",
      "q1 : -U-H-X-----------------|-C-X-\n",
      "                            |     \n",
      "q2 : -----------------------X-----\n",
      "\n",
      "T  : |0|1|2|   3   |   4   |5|6|7|\n"
     ]
    }
   ],
   "source": [
    "my_2 = my_circuit.copy()\n",
    "\n",
    "my_2.cnot(0,1)\n",
    "print(my_2)"
   ]
  },
  {
   "cell_type": "markdown",
   "metadata": {},
   "source": [
    "## Obtain information of the circuit created\n",
    "\n",
    "Amazon Braket offers several functions to help do quick and simple inspections on a circuit.\n",
    "\n",
    "As we can see from the displayed circuit, time is sliced up into moments. The circuit is rearranged such as to allow gates to be applied in parallel if they are at different qubits. \n",
    "\n",
    "The depth of a circuit is the total number of moments."
   ]
  },
  {
   "cell_type": "code",
   "execution_count": 8,
   "metadata": {},
   "outputs": [
    {
     "name": "stdout",
     "output_type": "stream",
     "text": [
      "T  : |0|1|2|   3   |   4   |5|6|\n",
      "                                \n",
      "q0 : -U---C-Rz(0.1)-Rz(0.1)-C-X-\n",
      "      |   |                 | | \n",
      "q1 : -U-H-X-----------------|-C-\n",
      "                            |   \n",
      "q2 : -----------------------X---\n",
      "\n",
      "T  : |0|1|2|   3   |   4   |5|6|\n",
      "\n",
      "Total circuit depth: 7\n",
      "Total qubit number: 3\n",
      "\n",
      "MomentsKey(time=0, qubits=QubitSet([Qubit(0), Qubit(1)]))\n",
      "MomentsKey(time=1, qubits=QubitSet([Qubit(1)]))\n",
      "MomentsKey(time=2, qubits=QubitSet([Qubit(0), Qubit(1)]))\n",
      "MomentsKey(time=3, qubits=QubitSet([Qubit(0)]))\n",
      "MomentsKey(time=4, qubits=QubitSet([Qubit(0)]))\n",
      "MomentsKey(time=5, qubits=QubitSet([Qubit(0), Qubit(2)]))\n",
      "MomentsKey(time=6, qubits=QubitSet([Qubit(1), Qubit(0)]))\n"
     ]
    }
   ],
   "source": [
    "# get circuit depth\n",
    "circuit_depth = my_circuit.depth\n",
    "print(my_circuit)\n",
    "print()\n",
    "print('Total circuit depth:', circuit_depth)\n",
    "\n",
    "# get qubit number\n",
    "qubit_count = my_circuit.qubit_count\n",
    "print('Total qubit number:', qubit_count)\n",
    "print()\n",
    "\n",
    "# show moments of the circuit\n",
    "my_moments = my_circuit.moments\n",
    "for moment in my_moments:\n",
    "    print(moment)"
   ]
  },
  {
   "cell_type": "markdown",
   "metadata": {},
   "source": [
    "## Supported gate sets by different devices\n",
    "\n",
    "If you need to submit a circuit to run on a certain device, please keep in mind that different devices provided by Amazon Braket support different gate sets. The local simulator and the cloud-based simulator support the max number of gates, while the IonQ and Rigetti devices each support a subset of the whole gate set."
   ]
  },
  {
   "cell_type": "code",
   "execution_count": 9,
   "metadata": {},
   "outputs": [
    {
     "name": "stdout",
     "output_type": "stream",
     "text": [
      "Gates supported by the local simulator include:\n",
      " ['CCNot', 'CNot', 'CPhaseShift', 'CPhaseShift00', 'CPhaseShift01', 'CPhaseShift10', 'CSwap', 'CY', 'CZ', 'H', 'I', 'ISwap', 'PSwap', 'PhaseShift', 'Rx', 'Ry', 'Rz', 'S', 'Si', 'Swap', 'T', 'Ti', 'Unitary', 'V', 'Vi', 'X', 'XX', 'XY', 'Y', 'YY', 'Z', 'ZZ']\n",
      "\n",
      "\n",
      "Gates supported by the cloud-based simulator include:\n",
      " ['ccnot', 'cnot', 'cphaseshift', 'cphaseshift00', 'cphaseshift01', 'cphaseshift10', 'cswap', 'cy', 'cz', 'h', 'i', 'iswap', 'pswap', 'phaseshift', 'rx', 'ry', 'rz', 's', 'si', 'swap', 't', 'ti', 'unitary', 'v', 'vi', 'x', 'xx', 'xy', 'y', 'yy', 'z', 'zz']\n",
      "\n",
      "\n",
      "Gates supported by the Rigetti device include:\n",
      " ['cz', 'xy', 'ccnot', 'cnot', 'cphaseshift', 'cphaseshift00', 'cphaseshift01', 'cphaseshift10', 'cswap', 'h', 'i', 'iswap', 'phaseshift', 'pswap', 'rx', 'ry', 'rz', 's', 'si', 'swap', 't', 'ti', 'x', 'y', 'z']\n",
      "\n",
      "\n",
      "Gates supported by the IonQ device include:\n",
      " ['x', 'y', 'z', 'rx', 'ry', 'rz', 'h', 'cnot', 's', 'si', 't', 'ti', 'v', 'vi', 'xx', 'yy', 'zz', 'swap', 'i']\n"
     ]
    }
   ],
   "source": [
    "from braket.aws import AwsDevice\n",
    "from braket.devices import LocalSimulator\n",
    "\n",
    "# the local simulator\n",
    "device = LocalSimulator()\n",
    "supported_gates = device.properties.action['braket.ir.jaqcd.program'].supportedOperations\n",
    "# print the supported gate set\n",
    "print('Gates supported by the local simulator include:\\n', supported_gates)\n",
    "print('\\n')\n",
    "\n",
    "# the cloud-based simulator\n",
    "device = AwsDevice(\"arn:aws:braket:::device/quantum-simulator/amazon/sv1\")\n",
    "supported_gates = device.properties.action['braket.ir.jaqcd.program'].supportedOperations\n",
    "# print the supported gate set\n",
    "print('Gates supported by the cloud-based simulator include:\\n', supported_gates)\n",
    "print('\\n')\n",
    "\n",
    "# the Rigetti device\n",
    "device = AwsDevice(\"arn:aws:braket:::device/qpu/rigetti/Aspen-8\")\n",
    "supported_gates = device.properties.action['braket.ir.jaqcd.program'].supportedOperations\n",
    "# print the supported gate set\n",
    "print('Gates supported by the Rigetti device include:\\n', supported_gates)\n",
    "print('\\n') \n",
    "\n",
    "# the IonQ device\n",
    "device = AwsDevice(\"arn:aws:braket:::device/qpu/ionq/ionQdevice\")\n",
    "supported_gates = device.properties.action['braket.ir.jaqcd.program'].supportedOperations\n",
    "# print the supported gate set\n",
    "print('Gates supported by the IonQ device include:\\n', supported_gates)"
   ]
  },
  {
   "cell_type": "markdown",
   "metadata": {},
   "source": [
    "## Submit the circuit to the local simulator and obtain the results\n",
    "\n",
    "Here we submit our created circuit to the local simulator and obtain the results."
   ]
  },
  {
   "cell_type": "code",
   "execution_count": 10,
   "metadata": {},
   "outputs": [
    {
     "name": "stdout",
     "output_type": "stream",
     "text": [
      "Counter({'110': 501, '000': 499})\n"
     ]
    }
   ],
   "source": [
    "# set up device\n",
    "device = LocalSimulator()\n",
    "\n",
    "# run circuit\n",
    "result = device.run(my_circuit, shots=1000).result()\n",
    "# get measurement shots\n",
    "counts = result.measurement_counts\n",
    "# print counts\n",
    "print(counts)"
   ]
  }
 ],
 "metadata": {
  "kernelspec": {
   "display_name": "Python 3",
   "language": "python",
   "name": "python3"
  },
  "language_info": {
   "codemirror_mode": {
    "name": "ipython",
    "version": 3
   },
   "file_extension": ".py",
   "mimetype": "text/x-python",
   "name": "python",
   "nbconvert_exporter": "python",
   "pygments_lexer": "ipython3",
   "version": "3.8.3"
  }
 },
 "nbformat": 4,
 "nbformat_minor": 4
}
