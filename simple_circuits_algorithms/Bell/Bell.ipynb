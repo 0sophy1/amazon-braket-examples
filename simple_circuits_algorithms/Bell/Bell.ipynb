{
 "cells": [
  {
   "cell_type": "markdown",
   "metadata": {},
   "source": [
    "# BELL STATE PREPARATION"
   ]
  },
  {
   "cell_type": "markdown",
   "metadata": {},
   "source": [
    "In this hello-world tutorial we prepare a maximally entangled Bell state between two qubits, using both classical as well as actual quantum backends. For classical backends, we can run our circuit on a local Schroedinger simulator or a cloud-based tensor network simulator. For the quantum backends, we run our circuit on both the superconducting machine from Rigetti and the ion-trap machine provided by IonQ. As shown below, one can seamlessly swap between different backends without any modifications to the circuit definition, by just re-defining the device object. We also show how to recover results using the unique arn associated with every task. This tool is useful in order to deal with potential delays if your quantum task sits in the queue for some time waiting for execution. "
   ]
  },
  {
   "cell_type": "code",
   "execution_count": 1,
   "metadata": {},
   "outputs": [],
   "source": [
    "# general imports\n",
    "import matplotlib.pyplot as plt\n",
    "# magic word for producing visualizations in notebook\n",
    "%matplotlib inline\n",
    "import string\n",
    "import time\n",
    "\n",
    "# AWS imports: Import Braket SDK modules\n",
    "from braket.circuits import Circuit, Gate\n",
    "from braket.devices import LocalSimulator\n",
    "from braket.aws import AwsQuantumSimulator, AwsSession, AwsQpu, AwsQuantumTask, AwsQuantumSimulatorArns, AwsQpuArns"
   ]
  },
  {
   "cell_type": "markdown",
   "metadata": {},
   "source": [
    "__NOTE__: Please enter your desired S3 location (bucket and key) below."
   ]
  },
  {
   "cell_type": "code",
   "execution_count": 2,
   "metadata": {},
   "outputs": [],
   "source": [
    "# set up S3 bucket (where results are stored)\n",
    "my_bucket = \"braket-bravehearts\"\n",
    "my_prefix = \"simulation-output\"\n",
    "s3_folder = (my_bucket, my_prefix)"
   ]
  },
  {
   "cell_type": "markdown",
   "metadata": {},
   "source": [
    "### Available Gates"
   ]
  },
  {
   "cell_type": "markdown",
   "metadata": {},
   "source": [
    "First, let us check out the gate set currently supported by our SDK. Note that specific backends may only support a subset of these gates. You can retrieve this subset by calling ```device.properties['supportedQuantumOperations']```."
   ]
  },
  {
   "cell_type": "code",
   "execution_count": 3,
   "metadata": {},
   "outputs": [
    {
     "name": "stdout",
     "output_type": "stream",
     "text": [
      "Gate set supported by SDK: ['CCNot', 'CNot', 'CPhaseShift', 'CPhaseShift00', 'CPhaseShift01', 'CPhaseShift10', 'CSwap', 'CY', 'CZ', 'H', 'I', 'ISwap', 'PSwap', 'PhaseShift', 'Rx', 'Ry', 'Rz', 'S', 'Si', 'Swap', 'T', 'Ti', 'Unitary', 'V', 'Vi', 'X', 'XX', 'XY', 'Y', 'YY', 'Z', 'ZZ']\n"
     ]
    }
   ],
   "source": [
    "# print all (the usual suspects) available gates currently available within SDK\n",
    "gate_set = [attr for attr in dir(Gate) if attr[0] in string.ascii_uppercase]\n",
    "print('Gate set supported by SDK:', gate_set)"
   ]
  },
  {
   "cell_type": "markdown",
   "metadata": {},
   "source": [
    "### Problem: Prepare Bell State"
   ]
  },
  {
   "cell_type": "markdown",
   "metadata": {},
   "source": [
    "Goal: Prepare maximally entangled Bell state: \n",
    "$$\\left|0,0\\right> \\rightarrow \\left|\\mathrm{Bell}\\right> = \\frac{1}{\\sqrt{2}}\\left(\\left|0,0\\right> + \\left|1,1\\right>\\right).$$"
   ]
  },
  {
   "attachments": {
    "image.png": {
     "image/png": "[encoded data removed]"
    }
   },
   "cell_type": "markdown",
   "metadata": {},
   "source": [
    "To this end, we build and run the following circuit using a single-qubit Hadamard gate (denoted as ```H```) acting on the first qubit followed by a two-qubit ```CNOT``` gate: \n",
    "![image.png](attachment:image.png)"
   ]
  },
  {
   "cell_type": "markdown",
   "metadata": {},
   "source": [
    "### Setup Circuit"
   ]
  },
  {
   "cell_type": "code",
   "execution_count": 66,
   "metadata": {},
   "outputs": [],
   "source": [
    "# define circuit\n",
    "bell = Circuit().h(0).cnot(0, 1)"
   ]
  },
  {
   "cell_type": "code",
   "execution_count": 67,
   "metadata": {},
   "outputs": [
    {
     "name": "stdout",
     "output_type": "stream",
     "text": [
      "T  : |0|1|\n",
      "          \n",
      "q0 : -H-C-\n",
      "        | \n",
      "q1 : ---X-\n",
      "\n",
      "T  : |0|1|\n"
     ]
    }
   ],
   "source": [
    "# print circuit\n",
    "print(bell)"
   ]
  },
  {
   "cell_type": "markdown",
   "metadata": {},
   "source": [
    "### Local Schroedinger Simulator"
   ]
  },
  {
   "cell_type": "markdown",
   "metadata": {},
   "source": [
    "First we run our circuit locally, using an exact Schroedinger simulator. This local simulator is the preferred choice for fast experiments with low to intermediate qubit numbers ($N<20-25$) and essentially unlimited circuit depth. "
   ]
  },
  {
   "cell_type": "code",
   "execution_count": 92,
   "metadata": {},
   "outputs": [],
   "source": [
    "# set up backend: Local Schroedinger Simulator\n",
    "device = LocalSimulator()"
   ]
  },
  {
   "cell_type": "code",
   "execution_count": 93,
   "metadata": {},
   "outputs": [
    {
     "name": "stdout",
     "output_type": "stream",
     "text": [
      "Counter({'11': 514, '00': 486})\n"
     ]
    }
   ],
   "source": [
    "# run circuit (execute single TASK)\n",
    "result = device.run(bell, shots=1000).result()\n",
    "# get measurement shots\n",
    "counts = result.measurement_counts\n",
    "# print counts\n",
    "print(counts)"
   ]
  },
  {
   "cell_type": "code",
   "execution_count": 94,
   "metadata": {},
   "outputs": [
    {
     "data": {
      "image/png": "[encoded data removed]",
      "text/plain": [
       "<Figure size 432x288 with 1 Axes>"
      ]
     },
     "metadata": {
      "needs_background": "light"
     },
     "output_type": "display_data"
    }
   ],
   "source": [
    "# plot using Counter\n",
    "plt.bar(counts.keys(), counts.values());\n",
    "plt.xlabel('bitstrings');\n",
    "plt.ylabel('counts');"
   ]
  },
  {
   "cell_type": "markdown",
   "metadata": {},
   "source": [
    "As opposed to quantum hardware, where we can only access measurement shots, with a classical simulator we can access the full statevector by simply calling ```result.state_vector```. This can be very useful for debugging. "
   ]
  },
  {
   "cell_type": "code",
   "execution_count": 95,
   "metadata": {},
   "outputs": [
    {
     "name": "stdout",
     "output_type": "stream",
     "text": [
      "Full state vector: {'00': (0.7071067811865475+0j), '01': 0j, '10': 0j, '11': (0.7071067811865475+0j)}\n"
     ]
    }
   ],
   "source": [
    "# print EXACT state vector\n",
    "state_vector = result.state_vector\n",
    "print('Full state vector:', state_vector)"
   ]
  },
  {
   "cell_type": "markdown",
   "metadata": {},
   "source": [
    "### Cloud-Based Schroedinger Simulator"
   ]
  },
  {
   "cell_type": "markdown",
   "metadata": {},
   "source": [
    "As opposed to the local simulator above, we can also run our circuit against a cloud-based simulator. This approach adds some latency overhead, but may still be beneficial for larger circuits where memory optimized hardware can outperform a local machine.\n",
    "Here, as part of the API call with ```run()``` you need to supply a S3 location where the metadata and results asscociated with this circuit execution will be stored.   "
   ]
  },
  {
   "cell_type": "code",
   "execution_count": 96,
   "metadata": {},
   "outputs": [],
   "source": [
    "# set up TN backend\n",
    "device = AwsQuantumSimulator(AwsQuantumSimulatorArns.QS1)"
   ]
  },
  {
   "cell_type": "code",
   "execution_count": 97,
   "metadata": {},
   "outputs": [
    {
     "name": "stdout",
     "output_type": "stream",
     "text": [
      "Counter({'00': 509, '11': 491})\n"
     ]
    }
   ],
   "source": [
    "# bell = Circuit().h(0).cnot(0, 1)\n",
    "result = device.run(bell, s3_folder).result()\n",
    "counts = result.measurement_counts\n",
    "print(counts)"
   ]
  },
  {
   "cell_type": "code",
   "execution_count": 90,
   "metadata": {},
   "outputs": [
    {
     "data": {
      "image/png": "[encoded data removed]",
      "text/plain": [
       "<Figure size 432x288 with 1 Axes>"
      ]
     },
     "metadata": {
      "needs_background": "light"
     },
     "output_type": "display_data"
    }
   ],
   "source": [
    "# plot using Counter\n",
    "plt.bar(counts.keys(), counts.values());\n",
    "plt.xlabel('bitstrings');\n",
    "plt.ylabel('counts');"
   ]
  },
  {
   "cell_type": "markdown",
   "metadata": {},
   "source": [
    "__NOTE__: Use unique task ID to look up task details in AWS console."
   ]
  },
  {
   "cell_type": "code",
   "execution_count": 91,
   "metadata": {},
   "outputs": [
    {
     "name": "stdout",
     "output_type": "stream",
     "text": [
      "Task ID: 6983e66a-447c-451c-a072-2f81700770c7\n"
     ]
    }
   ],
   "source": [
    "# print unique TASK ID (task = execution of individual circuit)\n",
    "task_id = result.task_metadata['Id']\n",
    "print('Task ID:', task_id)"
   ]
  },
  {
   "cell_type": "markdown",
   "metadata": {},
   "source": [
    "### Quantum Hardware: Rigetti"
   ]
  },
  {
   "cell_type": "markdown",
   "metadata": {},
   "source": [
    "Next we submit our circuit to the superconducting quantum chip provided by Rigetti. Depending on our position in the queue, we may have to wait for some time till our circuit is actually run. However, thanks to asynchronous execution, we can always come back and recover the results by provifing the unique ID assocaited with every task. "
   ]
  },
  {
   "cell_type": "code",
   "execution_count": 14,
   "metadata": {},
   "outputs": [
    {
     "name": "stdout",
     "output_type": "stream",
     "text": [
      "ID of task: arn:aws:aqx:us-west-1:465542368797:quantum-task:9ebf3397-19da-4d98-b49f-9b24751804d4\n",
      "Status of task: INITIALIZED\n"
     ]
    }
   ],
   "source": [
    "# set backend\n",
    "rigetti = AwsQpu(AwsQpuArns.RIGETTI)\n",
    "\n",
    "# run circuit with a polling time of 5 days\n",
    "rigetti_task = rigetti.run(bell, s3_folder, poll_timeout_seconds=5*24*60*60)\n",
    "\n",
    "# get id and status of submitted task\n",
    "rigetti_task_id = rigetti_task.id\n",
    "rigetti_status = rigetti_task.state()\n",
    "print('ID of task:', rigetti_task_id)\n",
    "print('Status of task:', rigetti_status)"
   ]
  },
  {
   "cell_type": "markdown",
   "metadata": {},
   "source": [
    "The task is submitted and we can regulalry (or irregulalry) check the status of this task by executing the following cell. You may easily build logic around this query to wait for this task to complete before your code proceeds. "
   ]
  },
  {
   "cell_type": "code",
   "execution_count": 45,
   "metadata": {},
   "outputs": [
    {
     "name": "stdout",
     "output_type": "stream",
     "text": [
      "Status of (reconstructed) task: COMPLETED\n"
     ]
    }
   ],
   "source": [
    "# print status\n",
    "status = rigetti_task.state()\n",
    "print('Status of (reconstructed) task:', status)"
   ]
  },
  {
   "cell_type": "markdown",
   "metadata": {},
   "source": [
    "### Quantum Hardware: IonQ"
   ]
  },
  {
   "cell_type": "markdown",
   "metadata": {},
   "source": [
    "Finally, we submit our example Bell state circuit to IonQ. To this end, we set the device backend as AwsQpu(AwsQpuArns.IONQ). This task may not readily be executed but enter a queue for this specific machine. While we can interrupt our kernel (and work on something else), we can always recover our results using the unique ID of this task. "
   ]
  },
  {
   "cell_type": "code",
   "execution_count": 17,
   "metadata": {},
   "outputs": [
    {
     "name": "stdout",
     "output_type": "stream",
     "text": [
      "ID of task: arn:aws:aqx:us-east-1:465542368797:quantum-task:e6dad9c3-2631-4545-ba3c-923eec9f0353\n",
      "Status of task: INITIALIZED\n"
     ]
    }
   ],
   "source": [
    "# set backend\n",
    "ionq = AwsQpu(AwsQpuArns.IONQ)\n",
    "\n",
    "# run circuit with a polling time of 5 days\n",
    "ionq_task = ionq.run(bell, s3_folder, poll_timeout_seconds=5*24*60*60)\n",
    "\n",
    "# get id and status of submitted task\n",
    "ionq_task_id = ionq_task.id\n",
    "ionq_status = ionq_task.state()\n",
    "print('ID of task:', ionq_task_id)\n",
    "print('Status of task:', ionq_status)"
   ]
  },
  {
   "cell_type": "code",
   "execution_count": 38,
   "metadata": {},
   "outputs": [
    {
     "name": "stdout",
     "output_type": "stream",
     "text": [
      "Status of (reconstructed) task: COMPLETED\n"
     ]
    }
   ],
   "source": [
    "# print status\n",
    "status = ionq_task.state()\n",
    "print('Status of (reconstructed) task:', status)"
   ]
  },
  {
   "cell_type": "markdown",
   "metadata": {},
   "source": [
    "### Task Recovery"
   ]
  },
  {
   "cell_type": "markdown",
   "metadata": {},
   "source": [
    "By simply grabbing the unique task ID associated with the quantum tasks we have submitted above, we can recover this task at any point in time and (once the status is completed) visualize and analyze the corresponding results. "
   ]
  },
  {
   "cell_type": "code",
   "execution_count": 47,
   "metadata": {},
   "outputs": [
    {
     "name": "stdout",
     "output_type": "stream",
     "text": [
      "Status of (reconstructed) task: COMPLETED\n",
      "1000 shots taken on machine arn:aws:aqx:::qpu:rigetti.\n",
      "Measurement counts: Counter({'00': 343, '10': 316, '11': 184, '01': 157})\n"
     ]
    },
    {
     "data": {
      "image/png": "[encoded data removed]",
      "text/plain": [
       "<Figure size 432x288 with 1 Axes>"
      ]
     },
     "metadata": {
      "needs_background": "light"
     },
     "output_type": "display_data"
    }
   ],
   "source": [
    "# recover task\n",
    "task_load = AwsQuantumTask(arn=rigetti_task_id)\n",
    "\n",
    "# print status\n",
    "status = task_load.state()\n",
    "print('Status of (reconstructed) task:', status)\n",
    "\n",
    "# wait for job to complete\n",
    "# terminal_states = ['COMPLETED', 'FAILED', 'CANCELLED']\n",
    "if status == 'COMPLETED':\n",
    "    # get results\n",
    "    rigetti_results = task_load.result()\n",
    "    # print(rigetti_results)\n",
    "    \n",
    "    # get all metadata of submitted task\n",
    "    metadata = task_load.metadata()\n",
    "    # example for metadata\n",
    "    shots = metadata['shots']\n",
    "    machine = metadata['backendArn']\n",
    "    # print example metadata\n",
    "    print(\"{} shots taken on machine {}.\".format(shots, machine))\n",
    "    \n",
    "    # get measurement counts\n",
    "    rigetti_counts = rigetti_results.measurement_counts\n",
    "    print('Measurement counts:', rigetti_counts)\n",
    "\n",
    "    # plot results: see effects of noise\n",
    "    plt.bar(rigetti_counts.keys(), rigetti_counts.values());\n",
    "    plt.xlabel('bitstrings');\n",
    "    plt.ylabel('counts');\n",
    "    plt.tight_layout();\n",
    "    plt.savefig('rigetti.png', dpi=700);\n",
    "    \n",
    "elif status in ['FAILED', 'CANCELLED']:\n",
    "    # print terminal message \n",
    "    print('Your task is in terminal status, but has not completed.')\n",
    "\n",
    "else:\n",
    "    # print current status\n",
    "    print('Sorry, your task is still being processed and has not been finalized yet.')"
   ]
  },
  {
   "cell_type": "code",
   "execution_count": 43,
   "metadata": {},
   "outputs": [
    {
     "name": "stdout",
     "output_type": "stream",
     "text": [
      "Status of (reconstructed) task: COMPLETED\n",
      "1000 shots taken on machine arn:aws:aqx:::qpu:ionq.\n",
      "Measurement counts: Counter({'00': 463, '11': 425, '01': 56, '10': 56})\n"
     ]
    },
    {
     "data": {
      "image/png": "[encoded data removed]",
      "text/plain": [
       "<Figure size 432x288 with 1 Axes>"
      ]
     },
     "metadata": {
      "needs_background": "light"
     },
     "output_type": "display_data"
    }
   ],
   "source": [
    "# recover task\n",
    "task_load = AwsQuantumTask(arn=ionq_task_id)\n",
    "\n",
    "# print status\n",
    "status = task_load.state()\n",
    "print('Status of (reconstructed) task:', status)\n",
    "\n",
    "# wait for job to complete\n",
    "# terminal_states = ['COMPLETED', 'FAILED', 'CANCELLED']\n",
    "if status == 'COMPLETED':\n",
    "    # get results\n",
    "    results = task_load.result()\n",
    "    # print(rigetti_results)\n",
    "    \n",
    "    # get all metadata of submitted task\n",
    "    metadata = task_load.metadata()\n",
    "    # example for metadata\n",
    "    shots = metadata['shots']\n",
    "    machine = metadata['backendArn']\n",
    "    # print example metadata\n",
    "    print(\"{} shots taken on machine {}.\".format(shots, machine))\n",
    "    \n",
    "    # get measurement counts\n",
    "    counts = results.measurement_counts\n",
    "    print('Measurement counts:', counts)\n",
    "\n",
    "    # plot results: see effects of noise\n",
    "    plt.bar(counts.keys(), counts.values());\n",
    "    plt.xlabel('bitstrings');\n",
    "    plt.ylabel('counts');\n",
    "    plt.tight_layout();\n",
    "    plt.savefig('bell_ionq.png', dpi=700);\n",
    "    \n",
    "elif status in ['FAILED', 'CANCELLED']:\n",
    "    # print terminal message \n",
    "    print('Your task is in terminal status, but has not completed.')\n",
    "\n",
    "else:\n",
    "    # print current status\n",
    "    print('Sorry, your task is still being processed and has not been finalized yet.')"
   ]
  },
  {
   "cell_type": "markdown",
   "metadata": {},
   "source": [
    "We have succesfully recovered the results associated with the tasks that were queued up for the quantum hardware providers. Because of noise (decoherence) and other imperfections we cannot fully recover the exact results we have seen when using the classical simulators. To deal with that, in the fullness of time we will be able to use error correction techniques. As long as error correction is not available, it is important to benchamrk our quantum results using classical simualtors, whenever possible. "
   ]
  },
  {
   "cell_type": "markdown",
   "metadata": {},
   "source": [
    "---\n",
    "# APPENDIX"
   ]
  },
  {
   "cell_type": "code",
   "execution_count": 18,
   "metadata": {},
   "outputs": [
    {
     "name": "stdout",
     "output_type": "stream",
     "text": [
      "Information on task:\n",
      " AwsQuantumTask('id':arn:aws:aqx:us-west-1:465542368797:quantum-task:4f36a7bb-46c6-4fa2-b6de-a835f97907da)\n",
      "====================================================================\n",
      "Status: INITIALIZED\n",
      "Status: INITIALIZED\n",
      "Status: QUEUED\n",
      "Status: RUNNING\n",
      "Status: COMPLETED\n",
      "Status: COMPLETED\n",
      "AwsQuantumTaskResult(measurements=array([[1, 0],\n",
      "       [1, 1],\n",
      "       [1, 1],\n",
      "       ...,\n",
      "       [1, 1],\n",
      "       [0, 0],\n",
      "       [0, 0]]), measurement_counts=Counter({'00': 510, '11': 422, '01': 44, '10': 24}), measurement_probabilities={'10': 0.024, '11': 0.422, '00': 0.51, '01': 0.044}, measurements_copied_from_device=True, measurement_counts_copied_from_device=False, measurement_probabilities_copied_from_device=False, task_metadata={'Id': '4f36a7bb-46c6-4fa2-b6de-a835f97907da', 'Status': 'COMPLETED', 'BackendArn': 'arn:aws:aqx:::qpu:rigetti', 'BackendTranslation': 'DECLARE ro BIT[2]\\nH 0\\nCNOT 0 1\\nMEASURE 0 ro[0]\\nMEASURE 1 ro[1]', 'Created': 1582060645.9389281, 'Modified': 1582060652.8518102, 'Shots': 1000, 'BackendParameters': {'GateModelParameters': {'QubitCount': 2}}}, state_vector=None)\n",
      "Counter({'00': 510, '11': 422, '01': 44, '10': 24})\n"
     ]
    },
    {
     "data": {
      "image/png": "[encoded data removed]",
      "text/plain": [
       "<Figure size 432x288 with 1 Axes>"
      ]
     },
     "metadata": {
      "needs_background": "light"
     },
     "output_type": "display_data"
    }
   ],
   "source": [
    "# set backend\n",
    "rigetti = AwsQpu(AwsQpuArns.RIGETTI)\n",
    "\n",
    "# run circuit with a polling time of 5 days\n",
    "task = rigetti.run(bell, s3_folder, poll_timeout_seconds=5*24*60*60)\n",
    "print('Information on task:\\n', task)\n",
    "print('==================================' * 2)\n",
    "\n",
    "# get status of submitted task\n",
    "status = task.state()\n",
    "\n",
    "# wait for job to complete\n",
    "terminal_states = ['COMPLETED', 'FAILED', 'CANCELLED']\n",
    "while status not in terminal_states:\n",
    "    status = task.state()\n",
    "    print('Status:', status)\n",
    "    # time.sleep(60)\n",
    "\n",
    "print('Status:', status)\n",
    "\n",
    "# get results\n",
    "rigetti_results = task.result()\n",
    "print(rigetti_results)\n",
    "\n",
    "# get measurement counts\n",
    "rigetti_counts = rigetti_results.measurement_counts\n",
    "print(rigetti_counts)\n",
    "\n",
    "# plot results: see effects of noise\n",
    "plt.bar(rigetti_counts.keys(), rigetti_counts.values());\n",
    "plt.xlabel('bitstrings');\n",
    "plt.ylabel('counts');\n",
    "plt.tight_layout();\n",
    "plt.savefig('rigetti2.png', dpi=700);"
   ]
  }
 ],
 "metadata": {
  "kernelspec": {
   "display_name": "braket035",
   "language": "python",
   "name": "braket035"
  },
  "language_info": {
   "codemirror_mode": {
    "name": "ipython",
    "version": 3
   },
   "file_extension": ".py",
   "mimetype": "text/x-python",
   "name": "python",
   "nbconvert_exporter": "python",
   "pygments_lexer": "ipython3",
   "version": "3.7.7"
  }
 },
 "nbformat": 4,
 "nbformat_minor": 4
}
