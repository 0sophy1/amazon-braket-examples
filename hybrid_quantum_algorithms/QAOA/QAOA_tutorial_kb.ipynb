{
 "cells": [
  {
   "cell_type": "markdown",
   "metadata": {},
   "source": [
    "# QUANTUM APPROXIMATE OPTIMIZATION ALGORITHM (QAOA)"
   ]
  },
  {
   "cell_type": "markdown",
   "metadata": {},
   "source": [
    "In this tutorial we show how to (approximately) solve binary combinatorial optimization problems, using the __Quantum Approximate Optimization Algorithm (QAOA)__, as introduced [here](https://arxiv.org/abs/1411.4028). \n",
    "The QAOA algorithm belongs to the class of __hybrid quantum algorithms__ (leveraging both classical as well as quantum compute), that are widely believed to be the working horse for the current __NISQ (noisy intermediate-scale quantum) era__.\n",
    "To validate our approach we benchmark our results with exact results as obtained from classical QUBO solvers. \n",
    "\n",
    "We provide a step-by-step walkthrough explaining the QAOA quantum algorithm and show how to build the corresponding parametrized quantum circuit ansatz using the ```Braket``` SDK, with simple modular building blocks (that can be re-used for other purposes). \n",
    "We use open-source off-the-shelf ```scipy``` optimizers for classical numerical optimization. \n",
    "While we demonstrate our proof-of-concept approach using classical simulators for circuit execution, our code could in principle be run on actual quantum hardware by simply changing the definition of the ```device``` object (provided that the gate set used in the ansatz is supported by the backend, as is the case here for IonQ; for Rigetti we need to apply one more extra trick as shown below).   "
   ]
  },
  {
   "cell_type": "markdown",
   "metadata": {},
   "source": [
    "## BACKGROUND: QUADRATIC BINARY OPTIMIZATION PROBLEMS"
   ]
  },
  {
   "cell_type": "markdown",
   "metadata": {},
   "source": [
    "__Combinatorial optimization__: Problems involving a large number of yes/no decisions and each set of decisions yields a corresponding objective function value–like a cost or profit value. \n",
    "Finding good solutions is extremely difficult. \n",
    "Applications found in: Logistics, Scheduling, Planning, Portfolio optimization, Graph coloring. \n",
    "\n",
    "__QUBO__: The QUBO model unifies a rich variety of NP-hard combinatorial optimization problems:\n",
    "Quadratic Assignment Problems \n",
    "Capital Budgeting Problems \n",
    "Task Allocation Problems\n",
    "Maximum-Cut Problems\n",
    "There is a 1:1 correspondence between QUBO problems and Ising problems in physics. \n",
    "\n",
    "__Max-Cut__ is paradigm combinatorial optimization problem. \n",
    "Given a graph with vertex set $V$ and edge set $E$, we seek partition of $V$ into two subsets with maximum cut. \n",
    "In short, you score a point whenever an edge connects two nodes with different colors. \n",
    "Problem: Graph coloring problem with $2^𝑁$ possible solutions (exponential explosion). \n",
    "Applications: Portfolio optimization (buy/sell asset). Clustering (customer in cluster A or B). "
   ]
  },
  {
   "cell_type": "markdown",
   "metadata": {},
   "source": [
    "__Graph coloring problem__: Given a graph of nodes and edges, goal is to color each node red or blue, then score a point for each node that is next to a node of different color. Find a coloring that scores the most points. \n",
    "\n",
    "__Applications__ can be found in: \n",
    "- Clustering for marketing purposes (segment your customer base into different clusters for targeted marketing). \n",
    "- Portfolio optimization in finance (vertex corresponds to asset, color refers to sell or buy).\n",
    "- Resource allocation: distribute airplanes over terminals avoiding obverlap conflicts.\n",
    "\n",
    "We encode the problem as a __minimization problem__ of an __Ising Hamiltonian__, where the cost function reads $$H_{C}=\\sum_{i>j} J_{i,j} \\sigma_{i}^{z} \\sigma_{j}^{z}.$$"
   ]
  },
  {
   "cell_type": "markdown",
   "metadata": {},
   "source": [
    "<span style=\"color:red\">__TODO__:</span> Flesh out QUBO description."
   ]
  },
  {
   "cell_type": "markdown",
   "metadata": {},
   "source": [
    "## BACKGROUND: THE QUANTUM APPROXIMATE OPTIMIZATION ALGORITHM"
   ]
  },
  {
   "cell_type": "markdown",
   "metadata": {},
   "source": [
    "__QAOA__ designed for QUBO (quadratic unconstrained binary optimization) problems, specifically graph coloring problems (that are generically NP-hard, with exponentialliy increasing solution space). \n",
    "\n",
    "We encode the problem as a __minimization problem__ of an __Ising Hamiltonian__, where the cost function reads $$H_{C}=\\sum_{i>j} J_{i,j} \\sigma_{i}^{z} \\sigma_{j}^{z}.$$"
   ]
  },
  {
   "cell_type": "markdown",
   "metadata": {},
   "source": [
    "<span style=\"color:red\">__TODO__:</span> Flesh out QAOA description. Add general hybrid intro (as done in VQE TIM). "
   ]
  },
  {
   "cell_type": "markdown",
   "metadata": {},
   "source": [
    "## IMPORTS and SETUP"
   ]
  },
  {
   "cell_type": "markdown",
   "metadata": {},
   "source": [
    "For classical benchmarking we will be using the python library ```pyqubo```, as used in our helper script ```utils_classical```. If not already present in your virtual environment, you can install this library simply with ```pip install pyqubo```. "
   ]
  },
  {
   "cell_type": "code",
   "execution_count": 160,
   "metadata": {},
   "outputs": [],
   "source": [
    "# general imports\n",
    "import numpy as np\n",
    "from scipy.optimize import minimize\n",
    "import matplotlib.pyplot as plt\n",
    "import networkx as nx\n",
    "import seaborn as sns\n",
    "import time\n",
    "from datetime import datetime\n",
    "import pickle\n",
    "# magic word for producing visualizations in notebook\n",
    "%matplotlib inline\n",
    "\n",
    "np.random.seed(0)"
   ]
  },
  {
   "cell_type": "code",
   "execution_count": 161,
   "metadata": {},
   "outputs": [],
   "source": [
    "np.set_printoptions(linewidth=180)"
   ]
  },
  {
   "cell_type": "code",
   "execution_count": 162,
   "metadata": {},
   "outputs": [],
   "source": [
    "# AWS imports: Import Braket SDK modules\n",
    "import boto3\n",
    "from braket.circuits import Circuit, Observable\n",
    "from braket.aws import AwsQuantumSimulator, AwsSession\n",
    "from braket.devices import LocalSimulator"
   ]
  },
  {
   "cell_type": "code",
   "execution_count": 163,
   "metadata": {},
   "outputs": [
    {
     "name": "stdout",
     "output_type": "stream",
     "text": [
      "The autoreload extension is already loaded. To reload it, use:\n",
      "  %reload_ext autoreload\n"
     ]
    }
   ],
   "source": [
    "from utils_classical import plot_colored_graph, plot_colored_graph_simple, solve_classical_ising\n",
    "# auto reload external files, so that we can edit the external .py file and immediately see the changes here\n",
    "%load_ext autoreload\n",
    "%autoreload 2"
   ]
  },
  {
   "cell_type": "markdown",
   "metadata": {},
   "source": [
    "__NOTE__: Please enter your desired backend device and S3 location (bucket and key) below. If you are working with the local simulator ```LocalSimulator()``` you do not need to specify any S3 location. However, if you are using a different cloud-based backend you need to specify a S3 location where your results will be stored. In this case you need to replace the API call ```device.run(circuit, shots=SHOTS).result()``` below with ```device.run(circuit, s3_folder, shots=SHOTS).result()```. "
   ]
  },
  {
   "cell_type": "code",
   "execution_count": 164,
   "metadata": {},
   "outputs": [],
   "source": [
    "# set up backend: Local Schroedinger Simulator\n",
    "device = LocalSimulator()\n",
    "\n",
    "# setup s3 folder (not needed for the LocalSimulator backend, but required for all other backends)\n",
    "my_bucket = \"braket-bravehearts\"\n",
    "my_prefix = \"simulation-output\"\n",
    "s3_folder = (my_bucket, my_prefix)"
   ]
  },
  {
   "cell_type": "markdown",
   "metadata": {},
   "source": [
    "## PROBLEM SETUP"
   ]
  },
  {
   "cell_type": "markdown",
   "metadata": {},
   "source": [
    "We consider a graph coloring problem.\n",
    "Given a graph $G=(V,E)$, made of a set vertices (also called nodes) $V$ and edges $E$, our goal is to color each node red or blue, then score a point for each node that is next to a node of different color. \n",
    "We strive to find the optimal coloring that scores the largest number of points.\n",
    "To this end, we will address the dual problem of finding the minimum energy of the corresponding Ising Hamiltonian. \n",
    "To get started, we first use the open-source ```networkx``` library to visualize the problem graph. \n",
    "We feel to play with the parameters $n$ and $m$ to consider other graphs of your choice. "
   ]
  },
  {
   "cell_type": "code",
   "execution_count": 165,
   "metadata": {},
   "outputs": [
    {
     "data": {
      "image/png": "[encoded data removed]",
      "text/plain": [
       "<Figure size 432x288 with 1 Axes>"
      ]
     },
     "metadata": {},
     "output_type": "display_data"
    }
   ],
   "source": [
    "# setup Erdos Renyi graph\n",
    "n = 10  # 10 nodes\n",
    "m = 20  # 20 edges\n",
    "\n",
    "# define graph object\n",
    "G = nx.gnm_random_graph(n, m, seed=42)\n",
    "# positions for all nodes\n",
    "pos = nx.spring_layout(G)\n",
    "\n",
    "# draw graph\n",
    "nx.draw(G, pos)\n",
    "plt.show()"
   ]
  },
  {
   "cell_type": "markdown",
   "metadata": {},
   "source": [
    "## TODO - check for easier way to get upper-right matrix"
   ]
  },
  {
   "cell_type": "code",
   "execution_count": 166,
   "metadata": {},
   "outputs": [],
   "source": [
    "# set Ising matrix \n",
    "Jfull = nx.adjacency_matrix(G).todense()\n",
    "Jfull = np.array(Jfull)\n",
    "N = Jfull.shape[0]\n",
    "\n",
    "# get upper triangular matrix\n",
    "J = np.zeros((N, N))\n",
    "for ii in range(0, N):\n",
    "    for jj in range(ii+1, N):\n",
    "        J[ii][jj] = Jfull[ii][jj]"
   ]
  },
  {
   "cell_type": "code",
   "execution_count": 167,
   "metadata": {},
   "outputs": [
    {
     "data": {
      "text/plain": [
       "array([[0, 1, 0, 0, 1, 0, 1, 0, 1, 0],\n",
       "       [1, 0, 0, 1, 0, 1, 1, 0, 1, 1],\n",
       "       [0, 0, 0, 1, 0, 0, 1, 0, 0, 0],\n",
       "       [0, 1, 1, 0, 1, 0, 1, 0, 1, 0],\n",
       "       [1, 0, 0, 1, 0, 1, 0, 0, 0, 1],\n",
       "       [0, 1, 0, 0, 1, 0, 0, 0, 0, 1],\n",
       "       [1, 1, 1, 1, 0, 0, 0, 0, 0, 0],\n",
       "       [0, 0, 0, 0, 0, 0, 0, 0, 1, 1],\n",
       "       [1, 1, 0, 1, 0, 0, 0, 1, 0, 1],\n",
       "       [0, 1, 0, 0, 1, 1, 0, 1, 1, 0]])"
      ]
     },
     "execution_count": 167,
     "metadata": {},
     "output_type": "execute_result"
    }
   ],
   "source": [
    "Jfull"
   ]
  },
  {
   "cell_type": "code",
   "execution_count": 168,
   "metadata": {},
   "outputs": [
    {
     "data": {
      "image/png": "[encoded data removed]",
      "text/plain": [
       "<Figure size 504x360 with 2 Axes>"
      ]
     },
     "metadata": {
      "needs_background": "light"
     },
     "output_type": "display_data"
    }
   ],
   "source": [
    "# plot Ising matrix\n",
    "plt.figure(figsize=[7, 5])\n",
    "sns.heatmap(J, annot=True,  linewidths=.5, cmap=\"YlGnBu\", annot_kws = {'alpha': 1})\n",
    "plt.title('Ising distance matrix');\n",
    "plt.tight_layout();"
   ]
  },
  {
   "cell_type": "markdown",
   "metadata": {},
   "source": [
    "## IMPLEMENTATION OF QAOA WITH BRAKET "
   ]
  },
  {
   "cell_type": "markdown",
   "metadata": {},
   "source": [
    "In this section we develop a set of useful helper functions that we will explain in detail below. \n",
    "Specifically we provide simple building blocks for the core modules of our QAOA algorithm, that is (i) a function called ```circuit``` that defines the parametrized ansatz, (ii) a function called ```objective_function``` that takes a list of variational parameters as input, and returns the cost associated with those parameters and finally (iii) a function ```train``` to run the entire QAOA algorithm for given ansatz. \n",
    "This way we can solve the problem in a clean and modular approach."
   ]
  },
  {
   "cell_type": "markdown",
   "metadata": {},
   "source": [
    "<span style=\"color:red\">__TODO__:</span> \n",
    "* Load these functions from helper ```utils.py``` once polished. \n",
    "* Check Rigetti backend for implementation of ZZ gate. \n",
    "* Get rid of GLOBAL variables. In particular, use ```minimize(objective_function, params0, args=(b_field, verbose), options=options, ...``` as in VQE TIM tutorial.\n",
    "* POSTPROCESSING: Implement postprocessing with new result_type features of SDK. "
   ]
  },
  {
   "cell_type": "code",
   "execution_count": 169,
   "metadata": {},
   "outputs": [],
   "source": [
    "def ZZgate(q1, q2, gamma):\n",
    "    \"\"\"\n",
    "    function that returns a circuit implementing exp(-i \\gamma Z_i Z_j) using CNOT gates if ZZ not supported\n",
    "    \"\"\"\n",
    "    \n",
    "    # get a circuit\n",
    "    circ_zz = Circuit()\n",
    "    \n",
    "    # construct decomposition of ZZ\n",
    "    circ_zz.cnot(q1, q2).rz(q2, gamma).cnot(q1, q2)\n",
    "    \n",
    "    return circ_zz\n",
    "\n",
    "\n",
    "# function to implement evolution with driver Hamiltonian\n",
    "def driver(beta, n_qubits):\n",
    "    \"\"\"\n",
    "    Returns circuit for driver Hamiltonian U(Hb, beta)\n",
    "    \"\"\"\n",
    "    # instantiate circuit object\n",
    "    circ = Circuit()\n",
    "\n",
    "    beta_ = 2*beta\n",
    "    for qubit in range(n_qubits):\n",
    "        gate = Circuit().rx(qubit, beta_)\n",
    "        circ.add(gate)\n",
    "    return circ\n",
    "\n",
    "\n",
    "# helper function for evolution with cost Hamiltonian\n",
    "def cost_circuit(gamma, n_qubits):\n",
    "    \"\"\"\n",
    "    returns circuit for evolution with cost Hamiltonian\n",
    "    \"\"\"\n",
    "    # instantiate circuit object\n",
    "    circ = Circuit()\n",
    "\n",
    "    for ii in range(n_qubits):\n",
    "        for jj in range(ii + 1, n_qubits):\n",
    "            if device.name == 'Rigetti':\n",
    "                gate = ZZgate(ii, jj, gamma * J[ii, jj])\n",
    "                circ.add(gate)\n",
    "            else:\n",
    "                gate = Circuit().zz(ii, jj, angle=2*gamma*J[ii, jj])\n",
    "                circ.add(gate)\n",
    "    return circ\n",
    "\n",
    "\n",
    "# function to build the QAOA circuit with depth p\n",
    "def circuit(params, n_qubits):\n",
    "    \"\"\"\n",
    "    function to return full QAOA circuit\n",
    "    \"\"\"\n",
    "\n",
    "    # initialize qaoa circuit with first Hadamard layer: for minimization start in |->\n",
    "    circ = Circuit()\n",
    "    X_on_all = Circuit().x(range(0, n_qubits))\n",
    "    circ.add(X_on_all)\n",
    "    H_on_all = Circuit().h(range(0, n_qubits))\n",
    "    circ.add(H_on_all)\n",
    "\n",
    "    # setup two parameter families\n",
    "    circuit_length = int(len(params) / 2)\n",
    "    gammas = params[:circuit_length]\n",
    "    betas = params[circuit_length:]\n",
    "\n",
    "    # add circuit layers\n",
    "    for mm in range(circuit_length):\n",
    "        circ.add(cost_circuit(gammas[mm], n_qubits))\n",
    "        circ.add(driver(betas[mm], n_qubits))\n",
    "\n",
    "    return circ"
   ]
  },
  {
   "cell_type": "code",
   "execution_count": 170,
   "metadata": {},
   "outputs": [],
   "source": [
    "# function that computes cost function for given params\n",
    "def objective_function_(params, ising, n_qubits, n_shots, tracker):\n",
    "    \"\"\"\n",
    "    objective function takes a list of variational parameters as input,\n",
    "    and returns the cost associated with those parameters\n",
    "    \"\"\"\n",
    "\n",
    "    print('==================================' * 2)\n",
    "    print('Calling the quantum circuit. Cycle:', tracker['count'])\n",
    "\n",
    "    # obtain a quantum circuit instance from the parameters\n",
    "    qaoa_circuit = circuit(params, n_qubits)\n",
    "\n",
    "    obs = Observable.Z() @ Observable.Z()\n",
    "    # Ising matrix defines relevant entries, so use indices of those entries\n",
    "    idx = ising.nonzero()\n",
    "    result_qubits = list(zip(idx[0], idx[1]))\n",
    "\n",
    "    for qubit_pair in result_qubits:\n",
    "        qaoa_circuit.expectation(obs, target=qubit_pair)\n",
    "\n",
    "    # classically simulate the circuit\n",
    "    # execute the correct device.run call depending on whether the backend is local or cloud based\n",
    "    if device.name == 'DefaultSimulator':\n",
    "        task = device.run(qaoa_circuit, shots=n_shots)\n",
    "    else:\n",
    "        task = device.run(qaoa_circuit, s3_folder, \n",
    "                          shots=n_shots, poll_timeout_seconds=3*24*60*60)\n",
    "\n",
    "    # get result for this task\n",
    "    result = task.result()\n",
    "\n",
    "    # get metadata\n",
    "    metadata = result.task_metadata\n",
    "\n",
    "    energies = np.array(result.values)\n",
    "    energy_mat = np.zeros((N, N))\n",
    "    for i, idx in enumerate(result_qubits):\n",
    "        energy_mat[idx[0], idx[1]] = energies[i]\n",
    "\n",
    "    # convert results (0 and 1) to ising (-1 and 1)\n",
    "    meas_ising = result.measurements\n",
    "    meas_ising[meas_ising == 0] = -1\n",
    "\n",
    "    # get all energies (for every shot): (n_shots, 1) vector\n",
    "    all_energies = np.diag(np.dot(meas_ising, np.dot(ising, np.transpose(meas_ising))))\n",
    "    # all_energies = energy_mat\n",
    "\n",
    "    # find minimum and corresponding classical string\n",
    "    energy_min = np.min(all_energies)\n",
    "    print('Minimal energy:', energy_min)\n",
    "    optimal_string = meas_ising[np.argmin(all_energies)]\n",
    "    print('Optimal classical string:', optimal_string)\n",
    "\n",
    "    # store optimal (classical) result/bitstring\n",
    "    if energy_min < tracker['optimal_energy']:\n",
    "        tracker.update({'optimal_energy': energy_min})\n",
    "        tracker.update({'optimal_bitstring': optimal_string})\n",
    "\n",
    "    # energy expectation value\n",
    "    energy_expect = np.sum(all_energies) / n_shots\n",
    "    # energy_expect = np.mean(energies)\n",
    "    print('Approx energy expectation value (cost):', energy_expect)\n",
    "    # send metrics to CloudWatch\n",
    "    print(f'cost_avg={energy_expect};')\n",
    "\n",
    "    # NOTE: could consider other definitions of cost function\n",
    "    cost = energy_expect\n",
    "    tracker.update({'count': tracker['count']+1})\n",
    "    tracker.update({'res': result})\n",
    "\n",
    "    return cost"
   ]
  },
  {
   "cell_type": "code",
   "execution_count": 171,
   "metadata": {},
   "outputs": [],
   "source": [
    "# The function to execute the training: run classical minimization.\n",
    "def train(options, p, ising, n_qubits, n_shots, tracker):\n",
    "    \"\"\"\n",
    "    function to run QAOA algorithm for given, fixed circuit depth p\n",
    "    \"\"\"\n",
    "    print('Starting the training.')\n",
    "\n",
    "    print('==================================' * 3)\n",
    "    print('OPTIMIZATION for circuit depth p={depth}'.format(depth=p))\n",
    "\n",
    "    # initialize\n",
    "    cost_energy = []\n",
    "    angles = []\n",
    "\n",
    "    # randomly initialize variational parameters within appropriate bounds\n",
    "    gamma_initial = np.random.uniform(0, 2 * np.pi, p).tolist()\n",
    "    beta_initial = np.random.uniform(0, np.pi, p).tolist()\n",
    "    params0 = np.array(gamma_initial + beta_initial)\n",
    "    params0[0] = 0.01\n",
    "    params0[p] = 0.4\n",
    "    # set bounds for search space\n",
    "    bnds_gamma = [(0, 2 * np.pi) for _ in range(int(len(params0) / 2))]\n",
    "    bnds_beta = [(0, np.pi) for _ in range(int(len(params0) / 2))]\n",
    "    bnds = bnds_gamma + bnds_beta\n",
    "\n",
    "    # run classical optimization (example: method='Nelder-Mead')\n",
    "    result = minimize(objective_function_, params0, args=(ising, n_qubits, n_shots, tracker), \n",
    "                      options=options, method='SLSQP', bounds=bnds)\n",
    "\n",
    "    # store result of classical optimization\n",
    "    result_energy = result.fun\n",
    "    cost_energy.append(result_energy)\n",
    "    print('Optimal avg energy:', result_energy)\n",
    "    result_angle = result.x\n",
    "    angles.append(result_angle)\n",
    "    print('Optimal angles:', result_angle)\n",
    "    print('Training complete.')\n",
    "\n",
    "    return result_energy, result_angle, tracker"
   ]
  },
  {
   "cell_type": "markdown",
   "metadata": {},
   "source": [
    "<span style=\"color:red\">__TODO__:</span> \n",
    "Check out this example for new result types: "
   ]
  },
  {
   "cell_type": "markdown",
   "metadata": {},
   "source": [
    "## VISUALIZATION OF THE QAOA ANSATZ"
   ]
  },
  {
   "cell_type": "markdown",
   "metadata": {},
   "source": [
    "Let us first visualize our parametrized QAOA ansatz for a small number of qubits and fixed (i.e., not optimized) parameters. \n",
    "For convenience, the parameters are dispalyed in the circuit (up to a factor of $2$ we have added in our ansatz definition). \n",
    "First we prepare the state $|0,0,\\dots\\rangle \\rightarrow |-,-,\\dots\\rangle$, with $|-\\rangle = (|0\\rangle -|1\\rangle  )/\\sqrt{2}$. \n",
    "Following the discussion above, we choose to start out with this state as it is the minimal energy state of the simple driver Hamiltonian $H_{B}$. \n",
    "This state preparation is followed by one layer of the QAOA ansatz, consisting of evolution with the cost Hamiltonian by $\\exp(-i\\gamma H_{C})= \\prod_{j,l}\\exp(-i\\gamma J_{j,l}\\sigma_{j}^{z}\\sigma_{l}^{z}) = \\prod_{j,l} ZZ_{j,l}(2\\gamma J_{j,l})$, followed by the single-qubit driving term, $\\exp(-i\\beta H_{B})= \\prod_{j} \\exp(-i\\beta \\sigma_{j}^{x})= \\prod_{j} R_{j}^{(x)}(2\\beta)$."
   ]
  },
  {
   "cell_type": "markdown",
   "metadata": {},
   "source": [
    "## QAOA SIMULATION ON LOCAL SCHROEDINGER SIMULATOR"
   ]
  },
  {
   "cell_type": "markdown",
   "metadata": {},
   "source": [
    "We are now all set to run some QAOA simulation experiments. \n",
    "First of all, you can play and experiment yourself with the number of qubits $N$. \n",
    "Secondly, you may also experiment with the classical optimizer. \n",
    "Since we are using an off-the-shelf ```scipy``` minimizer (as described in more detail [here](https://docs.scipy.org/doc/scipy/reference/generated/scipy.optimize.minimize.html)), you can simply swap between different optimizers by setting the ```method``` parameter accordingly, as done above in the line ```result = minimize(..., method='SLSQP')```. \n",
    "Some popular options readily availbale within this library include *Nelder-Mead*, *BFGS* and *COBYLA*. \n",
    "As a precautionary warning, note that the classical optimization step may get stuck in a local optimum, rather than finding the global minimum for our parametrized QAOA ansatz wavefunction. \n",
    "To address this issue, we may run several optimization loops, starting from different random parameter seeds. \n",
    "While this brute-force approach does not provide any guarantee to find the glocal optimum, from a pragmatic point of view at least it does increase the odds of finding an acceptable solution, at the expense of potentially having to run many more circuits on the QPU."
   ]
  },
  {
   "cell_type": "code",
   "execution_count": 172,
   "metadata": {},
   "outputs": [
    {
     "name": "stdout",
     "output_type": "stream",
     "text": [
      "Circuit depth hyperparameter: 2\n",
      "Problem size: 10\n"
     ]
    }
   ],
   "source": [
    "# set up hyperparameters\n",
    "p = 2  # circuit depth for QAOA\n",
    "print('Circuit depth hyperparameter:', p)\n",
    "SHOTS = 1000\n",
    "\n",
    "# set up the problem\n",
    "n_qubits = J.shape[0]\n",
    "print('Problem size:', n_qubits)\n",
    "# CYCLE = 0\n",
    "# initialize reference solution (simple guess)\n",
    "bitstring_init = -1 * np.ones([n_qubits])\n",
    "energy_init = np.dot(bitstring_init, np.dot(J, bitstring_init))\n",
    "# NOTE: scipy.optimize.minimize() does not provide straightforward mechanism to update inputs,\n",
    "#       so leverage mutability of dict object\n",
    "tracker = {'count': 1, 'optimal_energy': energy_init, 'optimal_bitstring': bitstring_init, 'res': None}\n",
    "# set options for classical optimization\n",
    "# 'maxiter'=100, 'ftol': 1e-06\n",
    "options = {'disp': True}\n",
    "# options = {'disp': True, 'ftol': 1e-08}"
   ]
  },
  {
   "cell_type": "code",
   "execution_count": 173,
   "metadata": {
    "scrolled": true
   },
   "outputs": [
    {
     "name": "stdout",
     "output_type": "stream",
     "text": [
      "Starting the training.\n",
      "======================================================================================================\n",
      "OPTIMIZATION for circuit depth p=2\n",
      "====================================================================\n",
      "Calling the quantum circuit. Cycle: 1\n",
      "Minimal energy: -10.0\n",
      "Optimal classical string: [-1  1  1 -1  1 -1 -1 -1  1 -1]\n",
      "Approx energy expectation value (cost): -0.264\n",
      "cost_avg=-0.264;\n",
      "====================================================================\n",
      "Calling the quantum circuit. Cycle: 2\n",
      "Minimal energy: -10.0\n",
      "Optimal classical string: [-1  1 -1 -1  1 -1  1  1  1 -1]\n",
      "Approx energy expectation value (cost): -0.084\n",
      "cost_avg=-0.084;\n",
      "====================================================================\n",
      "Calling the quantum circuit. Cycle: 3\n",
      "Minimal energy: -10.0\n",
      "Optimal classical string: [-1  1  1 -1  1 -1  1  1  1 -1]\n",
      "Approx energy expectation value (cost): -0.152\n",
      "cost_avg=-0.152;\n",
      "====================================================================\n",
      "Calling the quantum circuit. Cycle: 4\n",
      "Minimal energy: -10.0\n",
      "Optimal classical string: [-1  1  1 -1  1 -1  1 -1  1 -1]\n",
      "Approx energy expectation value (cost): -0.35\n",
      "cost_avg=-0.35;\n",
      "====================================================================\n",
      "Calling the quantum circuit. Cycle: 5\n",
      "Minimal energy: -10.0\n",
      "Optimal classical string: [-1  1  1 -1  1 -1  1  1  1 -1]\n",
      "Approx energy expectation value (cost): -0.34\n",
      "cost_avg=-0.34;\n",
      "====================================================================\n",
      "Calling the quantum circuit. Cycle: 6\n",
      "Minimal energy: -10.0\n",
      "Optimal classical string: [-1  1  1 -1  1 -1 -1  1  1 -1]\n",
      "Approx energy expectation value (cost): 0.038\n",
      "cost_avg=0.038;\n",
      "====================================================================\n",
      "Calling the quantum circuit. Cycle: 7\n",
      "Minimal energy: -10.0\n",
      "Optimal classical string: [ 1 -1 -1  1 -1  1  1  1 -1  1]\n",
      "Approx energy expectation value (cost): -1.004\n",
      "cost_avg=-1.004;\n",
      "====================================================================\n",
      "Calling the quantum circuit. Cycle: 8\n",
      "Minimal energy: -10.0\n",
      "Optimal classical string: [ 1 -1  1  1 -1  1 -1  1 -1  1]\n",
      "Approx energy expectation value (cost): 0.96\n",
      "cost_avg=0.96;\n",
      "====================================================================\n",
      "Calling the quantum circuit. Cycle: 9\n",
      "Minimal energy: -10.0\n",
      "Optimal classical string: [ 1 -1 -1  1 -1  1 -1  1 -1  1]\n",
      "Approx energy expectation value (cost): -1.092\n",
      "cost_avg=-1.092;\n",
      "====================================================================\n",
      "Calling the quantum circuit. Cycle: 10\n",
      "Minimal energy: -10.0\n",
      "Optimal classical string: [ 1 -1 -1  1 -1  1  1  1 -1  1]\n",
      "Approx energy expectation value (cost): -0.104\n",
      "cost_avg=-0.104;\n",
      "====================================================================\n",
      "Calling the quantum circuit. Cycle: 11\n",
      "Minimal energy: -10.0\n",
      "Optimal classical string: [-1  1  1 -1  1 -1  1 -1  1 -1]\n",
      "Approx energy expectation value (cost): -0.278\n",
      "cost_avg=-0.278;\n",
      "====================================================================\n",
      "Calling the quantum circuit. Cycle: 12\n",
      "Minimal energy: -10.0\n",
      "Optimal classical string: [-1  1  1 -1  1 -1 -1  1  1 -1]\n",
      "Approx energy expectation value (cost): -0.144\n",
      "cost_avg=-0.144;\n",
      "====================================================================\n",
      "Calling the quantum circuit. Cycle: 13\n",
      "Minimal energy: -10.0\n",
      "Optimal classical string: [ 1 -1 -1  1 -1  1  1  1 -1  1]\n",
      "Approx energy expectation value (cost): -0.264\n",
      "cost_avg=-0.264;\n",
      "====================================================================\n",
      "Calling the quantum circuit. Cycle: 14\n",
      "Minimal energy: -10.0\n",
      "Optimal classical string: [-1  1  1 -1  1 -1  1 -1  1 -1]\n",
      "Approx energy expectation value (cost): -0.05\n",
      "cost_avg=-0.05;\n",
      "====================================================================\n",
      "Calling the quantum circuit. Cycle: 15\n",
      "Minimal energy: -10.0\n",
      "Optimal classical string: [-1  1  1 -1  1 -1 -1  1  1 -1]\n",
      "Approx energy expectation value (cost): 0.046\n",
      "cost_avg=0.046;\n",
      "====================================================================\n",
      "Calling the quantum circuit. Cycle: 16\n",
      "Minimal energy: -10.0\n",
      "Optimal classical string: [-1  1 -1 -1  1 -1  1 -1  1 -1]\n",
      "Approx energy expectation value (cost): -0.188\n",
      "cost_avg=-0.188;\n",
      "====================================================================\n",
      "Calling the quantum circuit. Cycle: 17\n",
      "Minimal energy: -10.0\n",
      "Optimal classical string: [-1  1  1 -1  1 -1 -1  1  1 -1]\n",
      "Approx energy expectation value (cost): -0.232\n",
      "cost_avg=-0.232;\n",
      "====================================================================\n",
      "Calling the quantum circuit. Cycle: 18\n",
      "Minimal energy: -10.0\n",
      "Optimal classical string: [ 1 -1 -1  1 -1  1  1 -1 -1  1]\n",
      "Approx energy expectation value (cost): -0.466\n",
      "cost_avg=-0.466;\n",
      "====================================================================\n",
      "Calling the quantum circuit. Cycle: 19\n",
      "Minimal energy: -10.0\n",
      "Optimal classical string: [-1  1  1 -1  1 -1  1 -1  1 -1]\n",
      "Approx energy expectation value (cost): 0.034\n",
      "cost_avg=0.034;\n",
      "====================================================================\n",
      "Calling the quantum circuit. Cycle: 20\n",
      "Minimal energy: -10.0\n",
      "Optimal classical string: [ 1 -1 -1  1 -1  1  1 -1 -1  1]\n",
      "Approx energy expectation value (cost): 0.062\n",
      "cost_avg=0.062;\n",
      "Optimization terminated successfully    (Exit mode 0)\n",
      "            Current function value: -0.188\n",
      "            Iterations: 6\n",
      "            Function evaluations: 20\n",
      "            Gradient evaluations: 2\n",
      "Optimal avg energy: -0.188\n",
      "Optimal angles: [0.00999023 5.01635779 0.40267733 2.45277805]\n",
      "Training complete.\n",
      "Code execution time [sec]: 0.8370521068572998\n",
      "Optimal energy: -10.0\n",
      "Optimal classical bitstring: [-1  1  1 -1  1 -1 -1 -1  1 -1]\n"
     ]
    }
   ],
   "source": [
    "##################################################################################\n",
    "# run QAOA optimization on graph \n",
    "##################################################################################\n",
    "\n",
    "# kick off training\n",
    "start = time.time()\n",
    "result_energy, result_angle, tracker = train_(options=options, p=p, ising=J, n_qubits=n_qubits, n_shots=SHOTS, tracker=tracker)\n",
    "end = time.time()\n",
    "# print execution time\n",
    "print('Code execution time [sec]:', end - start)\n",
    "\n",
    "# print optimized results\n",
    "print('Optimal energy:', tracker['optimal_energy'])\n",
    "print('Optimal classical bitstring:', tracker['optimal_bitstring'])\n",
    "\n",
    "##################################################################################\n",
    "# Compute output and dump to pickle\n",
    "##################################################################################\n",
    "\n",
    "# out = {'p': p, 'N': N,\n",
    "#        'ENERGY_OPTIMAL': tracker['optimal_energy'], 'BITSTRING': tracker['optimal_bitstring'],\n",
    "#        'result_energy': result_energy, 'result_angle': result_angle}\n",
    "\n",
    "# store results: dump output to pickle with timestamp in filename\n",
    "# time_now = datetime.strftime(datetime.now(), '%Y%m%d%H%M%S')\n",
    "# results_file = 'results-'+time_now+'.pck'\n",
    "# pickle.dump(out, open(results_file, \"wb\"))\n",
    "# you can load results as follows\n",
    "# out = pickle.load(open(results_file, \"rb\"))"
   ]
  },
  {
   "cell_type": "code",
   "execution_count": 174,
   "metadata": {},
   "outputs": [
    {
     "data": {
      "text/plain": [
       "GateModelQuantumTaskResult(task_metadata={'Id': '14c9f024-6679-4d2c-b3f2-fc0473fa3759', 'Ir': '{\"results\": [{\"targets\": [0, 1], \"type\": \"expectation\", \"observable\": [\"z\", \"z\"]}, {\"targets\": [0, 4], \"type\": \"expectation\", \"observable\": [\"z\", \"z\"]}, {\"targets\": [0, 6], \"type\": \"expectation\", \"observable\": [\"z\", \"z\"]}, {\"targets\": [0, 8], \"type\": \"expectation\", \"observable\": [\"z\", \"z\"]}, {\"targets\": [1, 3], \"type\": \"expectation\", \"observable\": [\"z\", \"z\"]}, {\"targets\": [1, 5], \"type\": \"expectation\", \"observable\": [\"z\", \"z\"]}, {\"targets\": [1, 6], \"type\": \"expectation\", \"observable\": [\"z\", \"z\"]}, {\"targets\": [1, 8], \"type\": \"expectation\", \"observable\": [\"z\", \"z\"]}, {\"targets\": [1, 9], \"type\": \"expectation\", \"observable\": [\"z\", \"z\"]}, {\"targets\": [2, 3], \"type\": \"expectation\", \"observable\": [\"z\", \"z\"]}, {\"targets\": [2, 6], \"type\": \"expectation\", \"observable\": [\"z\", \"z\"]}, {\"targets\": [3, 4], \"type\": \"expectation\", \"observable\": [\"z\", \"z\"]}, {\"targets\": [3, 6], \"type\": \"expectation\", \"observable\": [\"z\", \"z\"]}, {\"targets\": [3, 8], \"type\": \"expectation\", \"observable\": [\"z\", \"z\"]}, {\"targets\": [4, 5], \"type\": \"expectation\", \"observable\": [\"z\", \"z\"]}, {\"targets\": [4, 9], \"type\": \"expectation\", \"observable\": [\"z\", \"z\"]}, {\"targets\": [5, 9], \"type\": \"expectation\", \"observable\": [\"z\", \"z\"]}, {\"targets\": [7, 8], \"type\": \"expectation\", \"observable\": [\"z\", \"z\"]}, {\"targets\": [7, 9], \"type\": \"expectation\", \"observable\": [\"z\", \"z\"]}, {\"targets\": [8, 9], \"type\": \"expectation\", \"observable\": [\"z\", \"z\"]}], \"basis_rotation_instructions\": [], \"instructions\": [{\"type\": \"x\", \"target\": 0}, {\"type\": \"x\", \"target\": 1}, {\"type\": \"x\", \"target\": 2}, {\"type\": \"x\", \"target\": 3}, {\"type\": \"x\", \"target\": 4}, {\"type\": \"x\", \"target\": 5}, {\"type\": \"x\", \"target\": 6}, {\"type\": \"x\", \"target\": 7}, {\"type\": \"x\", \"target\": 8}, {\"type\": \"x\", \"target\": 9}, {\"type\": \"h\", \"target\": 0}, {\"type\": \"h\", \"target\": 1}, {\"type\": \"h\", \"target\": 2}, {\"type\": \"h\", \"target\": 3}, {\"type\": \"h\", \"target\": 4}, {\"type\": \"h\", \"target\": 5}, {\"type\": \"h\", \"target\": 6}, {\"type\": \"h\", \"target\": 7}, {\"type\": \"h\", \"target\": 8}, {\"type\": \"h\", \"target\": 9}, {\"type\": \"zz\", \"targets\": [0, 1], \"angle\": 0.019980468825252052}, {\"type\": \"zz\", \"targets\": [0, 2], \"angle\": 0.0}, {\"type\": \"zz\", \"targets\": [0, 3], \"angle\": 0.0}, {\"type\": \"zz\", \"targets\": [0, 4], \"angle\": 0.019980468825252052}, {\"type\": \"zz\", \"targets\": [0, 5], \"angle\": 0.0}, {\"type\": \"zz\", \"targets\": [0, 6], \"angle\": 0.019980468825252052}, {\"type\": \"zz\", \"targets\": [0, 7], \"angle\": 0.0}, {\"type\": \"zz\", \"targets\": [0, 8], \"angle\": 0.019980468825252052}, {\"type\": \"zz\", \"targets\": [0, 9], \"angle\": 0.0}, {\"type\": \"zz\", \"targets\": [1, 2], \"angle\": 0.0}, {\"type\": \"zz\", \"targets\": [1, 3], \"angle\": 0.019980468825252052}, {\"type\": \"zz\", \"targets\": [1, 4], \"angle\": 0.0}, {\"type\": \"zz\", \"targets\": [1, 5], \"angle\": 0.019980468825252052}, {\"type\": \"zz\", \"targets\": [1, 6], \"angle\": 0.019980468825252052}, {\"type\": \"zz\", \"targets\": [1, 7], \"angle\": 0.0}, {\"type\": \"zz\", \"targets\": [1, 8], \"angle\": 0.019980468825252052}, {\"type\": \"zz\", \"targets\": [1, 9], \"angle\": 0.019980468825252052}, {\"type\": \"zz\", \"targets\": [2, 3], \"angle\": 0.019980468825252052}, {\"type\": \"zz\", \"targets\": [2, 4], \"angle\": 0.0}, {\"type\": \"zz\", \"targets\": [2, 5], \"angle\": 0.0}, {\"type\": \"zz\", \"targets\": [2, 6], \"angle\": 0.019980468825252052}, {\"type\": \"zz\", \"targets\": [2, 7], \"angle\": 0.0}, {\"type\": \"zz\", \"targets\": [2, 8], \"angle\": 0.0}, {\"type\": \"zz\", \"targets\": [2, 9], \"angle\": 0.0}, {\"type\": \"zz\", \"targets\": [3, 4], \"angle\": 0.019980468825252052}, {\"type\": \"zz\", \"targets\": [3, 5], \"angle\": 0.0}, {\"type\": \"zz\", \"targets\": [3, 6], \"angle\": 0.019980468825252052}, {\"type\": \"zz\", \"targets\": [3, 7], \"angle\": 0.0}, {\"type\": \"zz\", \"targets\": [3, 8], \"angle\": 0.019980468825252052}, {\"type\": \"zz\", \"targets\": [3, 9], \"angle\": 0.0}, {\"type\": \"zz\", \"targets\": [4, 5], \"angle\": 0.019980468825252052}, {\"type\": \"zz\", \"targets\": [4, 6], \"angle\": 0.0}, {\"type\": \"zz\", \"targets\": [4, 7], \"angle\": 0.0}, {\"type\": \"zz\", \"targets\": [4, 8], \"angle\": 0.0}, {\"type\": \"zz\", \"targets\": [4, 9], \"angle\": 0.019980468825252052}, {\"type\": \"zz\", \"targets\": [5, 6], \"angle\": 0.0}, {\"type\": \"zz\", \"targets\": [5, 7], \"angle\": 0.0}, {\"type\": \"zz\", \"targets\": [5, 8], \"angle\": 0.0}, {\"type\": \"zz\", \"targets\": [5, 9], \"angle\": 0.019980468825252052}, {\"type\": \"zz\", \"targets\": [6, 7], \"angle\": 0.0}, {\"type\": \"zz\", \"targets\": [6, 8], \"angle\": 0.0}, {\"type\": \"zz\", \"targets\": [6, 9], \"angle\": 0.0}, {\"type\": \"zz\", \"targets\": [7, 8], \"angle\": 0.019980468825252052}, {\"type\": \"zz\", \"targets\": [7, 9], \"angle\": 0.019980468825252052}, {\"type\": \"zz\", \"targets\": [8, 9], \"angle\": 0.019980468825252052}, {\"type\": \"rx\", \"target\": 0, \"angle\": 0.8053546525204954}, {\"type\": \"rx\", \"target\": 1, \"angle\": 0.8053546525204954}, {\"type\": \"rx\", \"target\": 2, \"angle\": 0.8053546525204954}, {\"type\": \"rx\", \"target\": 3, \"angle\": 0.8053546525204954}, {\"type\": \"rx\", \"target\": 4, \"angle\": 0.8053546525204954}, {\"type\": \"rx\", \"target\": 5, \"angle\": 0.8053546525204954}, {\"type\": \"rx\", \"target\": 6, \"angle\": 0.8053546525204954}, {\"type\": \"rx\", \"target\": 7, \"angle\": 0.8053546525204954}, {\"type\": \"rx\", \"target\": 8, \"angle\": 0.8053546525204954}, {\"type\": \"rx\", \"target\": 9, \"angle\": 0.8053546525204954}, {\"type\": \"zz\", \"targets\": [0, 1], \"angle\": 10.032715584300663}, {\"type\": \"zz\", \"targets\": [0, 2], \"angle\": 0.0}, {\"type\": \"zz\", \"targets\": [0, 3], \"angle\": 0.0}, {\"type\": \"zz\", \"targets\": [0, 4], \"angle\": 10.032715584300663}, {\"type\": \"zz\", \"targets\": [0, 5], \"angle\": 0.0}, {\"type\": \"zz\", \"targets\": [0, 6], \"angle\": 10.032715584300663}, {\"type\": \"zz\", \"targets\": [0, 7], \"angle\": 0.0}, {\"type\": \"zz\", \"targets\": [0, 8], \"angle\": 10.032715584300663}, {\"type\": \"zz\", \"targets\": [0, 9], \"angle\": 0.0}, {\"type\": \"zz\", \"targets\": [1, 2], \"angle\": 0.0}, {\"type\": \"zz\", \"targets\": [1, 3], \"angle\": 10.032715584300663}, {\"type\": \"zz\", \"targets\": [1, 4], \"angle\": 0.0}, {\"type\": \"zz\", \"targets\": [1, 5], \"angle\": 10.032715584300663}, {\"type\": \"zz\", \"targets\": [1, 6], \"angle\": 10.032715584300663}, {\"type\": \"zz\", \"targets\": [1, 7], \"angle\": 0.0}, {\"type\": \"zz\", \"targets\": [1, 8], \"angle\": 10.032715584300663}, {\"type\": \"zz\", \"targets\": [1, 9], \"angle\": 10.032715584300663}, {\"type\": \"zz\", \"targets\": [2, 3], \"angle\": 10.032715584300663}, {\"type\": \"zz\", \"targets\": [2, 4], \"angle\": 0.0}, {\"type\": \"zz\", \"targets\": [2, 5], \"angle\": 0.0}, {\"type\": \"zz\", \"targets\": [2, 6], \"angle\": 10.032715584300663}, {\"type\": \"zz\", \"targets\": [2, 7], \"angle\": 0.0}, {\"type\": \"zz\", \"targets\": [2, 8], \"angle\": 0.0}, {\"type\": \"zz\", \"targets\": [2, 9], \"angle\": 0.0}, {\"type\": \"zz\", \"targets\": [3, 4], \"angle\": 10.032715584300663}, {\"type\": \"zz\", \"targets\": [3, 5], \"angle\": 0.0}, {\"type\": \"zz\", \"targets\": [3, 6], \"angle\": 10.032715584300663}, {\"type\": \"zz\", \"targets\": [3, 7], \"angle\": 0.0}, {\"type\": \"zz\", \"targets\": [3, 8], \"angle\": 10.032715584300663}, {\"type\": \"zz\", \"targets\": [3, 9], \"angle\": 0.0}, {\"type\": \"zz\", \"targets\": [4, 5], \"angle\": 10.032715584300663}, {\"type\": \"zz\", \"targets\": [4, 6], \"angle\": 0.0}, {\"type\": \"zz\", \"targets\": [4, 7], \"angle\": 0.0}, {\"type\": \"zz\", \"targets\": [4, 8], \"angle\": 0.0}, {\"type\": \"zz\", \"targets\": [4, 9], \"angle\": 10.032715584300663}, {\"type\": \"zz\", \"targets\": [5, 6], \"angle\": 0.0}, {\"type\": \"zz\", \"targets\": [5, 7], \"angle\": 0.0}, {\"type\": \"zz\", \"targets\": [5, 8], \"angle\": 0.0}, {\"type\": \"zz\", \"targets\": [5, 9], \"angle\": 10.032715584300663}, {\"type\": \"zz\", \"targets\": [6, 7], \"angle\": 0.0}, {\"type\": \"zz\", \"targets\": [6, 8], \"angle\": 0.0}, {\"type\": \"zz\", \"targets\": [6, 9], \"angle\": 0.0}, {\"type\": \"zz\", \"targets\": [7, 8], \"angle\": 10.032715584300663}, {\"type\": \"zz\", \"targets\": [7, 9], \"angle\": 10.032715584300663}, {\"type\": \"zz\", \"targets\": [8, 9], \"angle\": 10.032715584300663}, {\"type\": \"rx\", \"target\": 0, \"angle\": 4.905556132990139}, {\"type\": \"rx\", \"target\": 1, \"angle\": 4.905556132990139}, {\"type\": \"rx\", \"target\": 2, \"angle\": 4.905556132990139}, {\"type\": \"rx\", \"target\": 3, \"angle\": 4.905556132990139}, {\"type\": \"rx\", \"target\": 4, \"angle\": 4.905556132990139}, {\"type\": \"rx\", \"target\": 5, \"angle\": 4.905556132990139}, {\"type\": \"rx\", \"target\": 6, \"angle\": 4.905556132990139}, {\"type\": \"rx\", \"target\": 7, \"angle\": 4.905556132990139}, {\"type\": \"rx\", \"target\": 8, \"angle\": 4.905556132990139}, {\"type\": \"rx\", \"target\": 9, \"angle\": 4.905556132990139}]}', 'IrType': 'jaqcd', 'Shots': 1000}, result_types=[{'Type': {'targets': [0, 1], 'type': 'expectation', 'observable': ['z', 'z']}, 'Value': 0.304}, {'Type': {'targets': [0, 4], 'type': 'expectation', 'observable': ['z', 'z']}, 'Value': 0.146}, {'Type': {'targets': [0, 6], 'type': 'expectation', 'observable': ['z', 'z']}, 'Value': 0.282}, {'Type': {'targets': [0, 8], 'type': 'expectation', 'observable': ['z', 'z']}, 'Value': -0.162}, {'Type': {'targets': [1, 3], 'type': 'expectation', 'observable': ['z', 'z']}, 'Value': -0.138}, {'Type': {'targets': [1, 5], 'type': 'expectation', 'observable': ['z', 'z']}, 'Value': -0.11}, {'Type': {'targets': [1, 6], 'type': 'expectation', 'observable': ['z', 'z']}, 'Value': 0.314}, {'Type': {'targets': [1, 8], 'type': 'expectation', 'observable': ['z', 'z']}, 'Value': -0.282}, {'Type': {'targets': [1, 9], 'type': 'expectation', 'observable': ['z', 'z']}, 'Value': -0.184}, {'Type': {'targets': [2, 3], 'type': 'expectation', 'observable': ['z', 'z']}, 'Value': -0.096}, {'Type': {'targets': [2, 6], 'type': 'expectation', 'observable': ['z', 'z']}, 'Value': 0.356}, {'Type': {'targets': [3, 4], 'type': 'expectation', 'observable': ['z', 'z']}, 'Value': 0.08}, {'Type': {'targets': [3, 6], 'type': 'expectation', 'observable': ['z', 'z']}, 'Value': -0.184}, {'Type': {'targets': [3, 8], 'type': 'expectation', 'observable': ['z', 'z']}, 'Value': 0.004}, {'Type': {'targets': [4, 5], 'type': 'expectation', 'observable': ['z', 'z']}, 'Value': -0.14}, {'Type': {'targets': [4, 9], 'type': 'expectation', 'observable': ['z', 'z']}, 'Value': -0.098}, {'Type': {'targets': [5, 9], 'type': 'expectation', 'observable': ['z', 'z']}, 'Value': 0.162}, {'Type': {'targets': [7, 8], 'type': 'expectation', 'observable': ['z', 'z']}, 'Value': -0.21}, {'Type': {'targets': [7, 9], 'type': 'expectation', 'observable': ['z', 'z']}, 'Value': -0.128}, {'Type': {'targets': [8, 9], 'type': 'expectation', 'observable': ['z', 'z']}, 'Value': 0.146}], values=[0.304, 0.146, 0.282, -0.162, -0.138, -0.11, 0.314, -0.282, -0.184, -0.096, 0.356, 0.08, -0.184, 0.004, -0.14, -0.098, 0.162, -0.21, -0.128, 0.146], measurements=array([[ 1,  1, -1, ..., -1, -1, -1],\n",
       "       [-1, -1, -1, ...,  1,  1, -1],\n",
       "       [ 1,  1, -1, ..., -1, -1, -1],\n",
       "       ...,\n",
       "       [-1,  1,  1, ...,  1, -1, -1],\n",
       "       [-1,  1,  1, ...,  1,  1, -1],\n",
       "       [-1, -1, -1, ...,  1,  1, -1]]), measured_qubits=[0, 1, 2, 3, 4, 5, 6, 7, 8, 9], measurement_counts=Counter({'1110101100': 26, '0001010011': 18, '1100101100': 12, '1110101000': 11, '0001010010': 11, '1110101101': 11, '0000010011': 11, '0001010111': 10, '1100101101': 9, '1110111100': 9, '1111101100': 8, '0001000011': 8, '0011010011': 8, '1110111110': 7, '1101100101': 7, '1110101110': 7, '0111010011': 7, '1110111000': 6, '1111101000': 6, '0101110011': 6, '1000011010': 6, '0011110011': 6, '0010011011': 6, '1110011010': 6, '1111111000': 6, '0000000110': 5, '0001110011': 5, '0000010111': 5, '0001000001': 5, '0000000111': 5, '1110011110': 5, '0101111100': 5, '0011111101': 5, '1010011010': 5, '1100100100': 5, '0011011011': 5, '0111111000': 5, '0001110111': 5, '1101110100': 5, '0101010111': 5, '1100101000': 4, '1100001010': 4, '0001100010': 4, '1110001100': 4, '1110001000': 4, '0000000100': 4, '1111111011': 4, '0001110001': 4, '1001000111': 4, '1000010011': 4, '0111101101': 4, '1101111000': 4, '1011101110': 4, '1100000110': 4, '0101110111': 4, '0011111011': 4, '1111101001': 4, '0001111011': 4, '0010010010': 4, '1010101111': 4, '0001000111': 4, '1000010010': 4, '1110011001': 4, '0001000101': 4, '1111101101': 4, '0001011010': 4, '0111010111': 4, '1100000100': 4, '1010001111': 4, '0000010110': 4, '1100100110': 4, '1000101100': 4, '0111101010': 4, '0101100100': 4, '0101010110': 4, '1110001110': 3, '0000010010': 3, '1000010111': 3, '1101001100': 3, '0111011001': 3, '1101101101': 3, '0001000100': 3, '0101010000': 3, '0101110000': 3, '1001010010': 3, '0011100001': 3, '0001000110': 3, '1111111001': 3, '1000000010': 3, '1010001100': 3, '1011101000': 3, '1111101110': 3, '1001000100': 3, '0001100011': 3, '0011110001': 3, '1101100100': 3, '0010001001': 3, '0010100110': 3, '0000000010': 3, '1100001100': 3, '1110000101': 3, '1110010011': 3, '1000011001': 3, '1110001011': 3, '0110101000': 3, '0011010111': 3, '0011000011': 3, '0101110001': 3, '0000000011': 3, '0101101000': 3, '0110111101': 3, '0111011011': 3, '0011111001': 3, '0000110011': 3, '1101011011': 3, '1100001000': 2, '0011000001': 2, '1100100111': 2, '0111110011': 2, '1010011011': 2, '1110100100': 2, '0111111101': 2, '1110011111': 2, '1011100100': 2, '1100101010': 2, '0011010000': 2, '1100011011': 2, '0011011111': 2, '1101011101': 2, '1110110101': 2, '1111011001': 2, '1000100011': 2, '1111001100': 2, '1000001110': 2, '0010010100': 2, '1000100110': 2, '0110111100': 2, '1100110110': 2, '1011010111': 2, '0011011001': 2, '1100011000': 2, '1100101110': 2, '0111100110': 2, '0010011010': 2, '0001010001': 2, '1000000011': 2, '0011110100': 2, '1100101001': 2, '1110111010': 2, '1100101111': 2, '0001100110': 2, '0010110011': 2, '0000010100': 2, '0101000010': 2, '0001101011': 2, '1001110011': 2, '1110011011': 2, '1001011000': 2, '1010101100': 2, '0110001100': 2, '0111101100': 2, '1100100000': 2, '1101111001': 2, '0110001101': 2, '0110110101': 2, '0110111001': 2, '0000000000': 2, '0000101101': 2, '1111111101': 2, '0001111010': 2, '1000011011': 2, '0001110101': 2, '1001010100': 2, '0001100100': 2, '1000100100': 2, '1001000010': 2, '1000100010': 2, '0111111001': 2, '1010001011': 2, '0010001101': 2, '1000010100': 2, '1000000100': 2, '1110110110': 2, '1100001011': 2, '1010101000': 2, '1100100101': 2, '0001011001': 2, '0101010011': 2, '1001010110': 2, '0001010100': 2, '1110101001': 2, '0101011001': 2, '1100111100': 2, '0111101000': 2, '1010001010': 2, '0100000110': 2, '0100011101': 2, '1100001110': 2, '1110001101': 2, '1010010011': 2, '1001100011': 2, '1110011101': 2, '1010000010': 2, '0010001011': 2, '0011010010': 2, '1101000110': 2, '1000010101': 2, '1110011100': 2, '0001011100': 2, '1100000010': 2, '0110011110': 2, '0111011101': 2, '1010001101': 2, '0001011011': 2, '0111110100': 2, '1011000011': 2, '0101111011': 2, '1011100110': 2, '0101110100': 2, '1011101100': 2, '0101110010': 2, '1100010100': 2, '0001100101': 2, '1110010000': 2, '1110100111': 1, '0010000011': 1, '1101111101': 1, '1110100011': 1, '0011101100': 1, '0100010010': 1, '1010001000': 1, '0011110110': 1, '0011100000': 1, '0000001111': 1, '0011011000': 1, '1011111010': 1, '0101000111': 1, '0001101010': 1, '1110101011': 1, '1101100110': 1, '0000001110': 1, '0000010001': 1, '0100001000': 1, '0101101011': 1, '0111101001': 1, '0011000101': 1, '0111101111': 1, '1101011010': 1, '1001001010': 1, '0100111010': 1, '1000110100': 1, '1001011001': 1, '1100011010': 1, '0011010110': 1, '1010111011': 1, '1100011110': 1, '0011111111': 1, '0000000101': 1, '0000001011': 1, '1101000010': 1, '0001100000': 1, '1011000001': 1, '1010000001': 1, '1010010100': 1, '0000110110': 1, '1100011100': 1, '0011010001': 1, '0010111111': 1, '1001101100': 1, '1111101011': 1, '0111100101': 1, '0010111110': 1, '1000011110': 1, '0101110101': 1, '0010011000': 1, '1001111001': 1, '1101101100': 1, '0110100111': 1, '1111111110': 1, '0011000100': 1, '0110101100': 1, '1001000000': 1, '0011110010': 1, '1100000011': 1, '0110100110': 1, '1000110011': 1, '1011010010': 1, '1110001111': 1, '1101001110': 1, '1011011111': 1, '1000110010': 1, '1111010000': 1, '1001010011': 1, '1101110000': 1, '0011010101': 1, '0010100100': 1, '1101100000': 1, '0010011111': 1, '1111110010': 1, '1000111011': 1, '1010110110': 1, '0111010101': 1, '1001000001': 1, '0001100001': 1, '1100010001': 1, '1011001101': 1, '1000001000': 1, '0011100100': 1, '1110100110': 1, '1010110111': 1, '0111110000': 1, '0010010011': 1, '0000001100': 1, '0101111000': 1, '1110100101': 1, '0001010000': 1, '1011111011': 1, '1100110011': 1, '1100111000': 1, '0100000101': 1, '0011001011': 1, '1100000000': 1, '1001110101': 1, '0111111111': 1, '1011111001': 1, '0100010011': 1, '0100101001': 1, '1101101011': 1, '0101011100': 1, '1011111111': 1, '1100101011': 1, '1110110100': 1, '1000110110': 1, '0001101101': 1, '0110110110': 1, '1111100101': 1, '0010111011': 1, '1010110001': 1, '0000100010': 1, '0001101110': 1, '0100110111': 1, '1100011101': 1, '0110101010': 1, '1101100111': 1, '0100010000': 1, '0001111000': 1, '1111111111': 1, '1110110011': 1, '0011111010': 1, '0010000100': 1, '1010100110': 1, '0110101011': 1, '0010001010': 1, '1010000011': 1, '0101111001': 1, '1001101001': 1, '1001111011': 1, '0111110110': 1, '0111100011': 1, '1000000101': 1, '0001111101': 1, '0111001010': 1, '0110111000': 1, '1001000011': 1, '0010011101': 1, '1001110010': 1, '1111111100': 1, '0101100101': 1, '0110101001': 1, '0011001010': 1, '1001101101': 1, '1011011011': 1, '1110000000': 1, '1101010100': 1, '0000010000': 1, '1010110101': 1, '0110111111': 1, '0101101001': 1, '1110100010': 1, '1101000100': 1, '0001111001': 1, '0001001101': 1, '1111011101': 1, '1001010111': 1, '1010011111': 1, '0111110101': 1, '1100100010': 1, '1100011111': 1, '0100111100': 1, '0100101100': 1, '1110001001': 1, '1011111100': 1, '1111001000': 1, '0101000000': 1, '1011010011': 1, '1001100100': 1, '1010001001': 1, '0110000111': 1, '1100110010': 1, '1011100101': 1, '1011101011': 1, '0110011100': 1, '0010110100': 1, '0110001111': 1, '0001011000': 1, '1101011110': 1, '1100010010': 1, '0101010100': 1, '1001100110': 1, '0101001010': 1, '1011001001': 1, '1111110100': 1, '1110111111': 1, '1000010001': 1, '1011011000': 1, '0000001101': 1, '0001111111': 1, '0010111101': 1, '0100110110': 1, '1010000100': 1, '0110001010': 1, '0010000101': 1, '0100001011': 1, '0110011111': 1, '0111111011': 1, '0100101000': 1, '1011110111': 1, '1001110110': 1, '0001001001': 1, '0011101101': 1, '1000001010': 1, '0111100100': 1, '0110101101': 1, '1000000110': 1, '0001010110': 1, '0001101100': 1, '0001101000': 1, '0000011010': 1, '1110110010': 1, '1110111101': 1, '1111100001': 1, '1000001101': 1, '0111001100': 1}), measurement_probabilities={'1100101000': 0.004, '0000000110': 0.005, '1100001000': 0.002, '1110001110': 0.003, '0000010010': 0.003, '1000010111': 0.003, '1110100111': 0.001, '1110111000': 0.006, '0001110011': 0.005, '0010000011': 0.001, '0011000001': 0.002, '1101111101': 0.001, '1100100111': 0.002, '0111110011': 0.002, '1010011011': 0.002, '0000010111': 0.005, '1110100011': 0.001, '1101001100': 0.003, '0001000001': 0.005, '0011101100': 0.001, '0100010010': 0.001, '1110101000': 0.011, '1100001010': 0.004, '1110100100': 0.002, '0001100010': 0.004, '1010001000': 0.001, '0011110110': 0.001, '0011100000': 0.001, '1110111110': 0.007, '0111111101': 0.002, '0000001111': 0.001, '0000000111': 0.005, '0111011001': 0.003, '1110011110': 0.005, '0001010010': 0.011, '1100101100': 0.012, '0011011000': 0.001, '0101111100': 0.005, '1110011111': 0.002, '0011111101': 0.005, '1101101101': 0.003, '1110001100': 0.004, '1011100100': 0.002, '1110101101': 0.011, '1011111010': 0.001, '1110001000': 0.004, '1100101010': 0.002, '1010011010': 0.005, '0000000100': 0.004, '1111111011': 0.004, '0101000111': 0.001, '0001000100': 0.003, '0001101010': 0.001, '0011010000': 0.002, '0101010000': 0.003, '1100011011': 0.002, '1101100101': 0.007, '0001110001': 0.004, '0011011111': 0.002, '1110101100': 0.026, '1101011101': 0.002, '1110110101': 0.002, '1110101011': 0.001, '0101110000': 0.003, '1111011001': 0.002, '1001000111': 0.004, '1100100100': 0.005, '1000100011': 0.002, '0001010111': 0.01, '1101100110': 0.001, '1000010011': 0.004, '0000001110': 0.001, '1111101100': 0.008, '1111001100': 0.002, '0000010001': 0.001, '0100001000': 0.001, '0111101101': 0.004, '0101101011': 0.001, '1101111000': 0.004, '0000010011': 0.011, '1000001110': 0.002, '0001010011': 0.018, '1001010010': 0.003, '0010010100': 0.002, '1000100110': 0.002, '1011101110': 0.004, '0011100001': 0.003, '0110111100': 0.002, '0001000110': 0.003, '1100110110': 0.002, '1111111001': 0.003, '1011010111': 0.002, '0111101001': 0.001, '0011000101': 0.001, '0111101111': 0.001, '1101011010': 0.001, '1100101101': 0.009, '1001001010': 0.001, '0011011001': 0.002, '0011011011': 0.005, '1100000110': 0.004, '1100011000': 0.002, '0100111010': 0.001, '1100101110': 0.002, '0111100110': 0.002, '1000110100': 0.001, '0101110111': 0.004, '0111111000': 0.005, '0011111011': 0.004, '1001011001': 0.001, '0010011010': 0.002, '1111101000': 0.006, '0101110011': 0.006, '1100011010': 0.001, '0001010001': 0.002, '1000000010': 0.003, '1000000011': 0.002, '0011010110': 0.001, '1010111011': 0.001, '1010001100': 0.003, '1111101001': 0.004, '1100011110': 0.001, '0011111111': 0.001, '0000000101': 0.001, '1110111100': 0.009, '1011101000': 0.003, '0011110100': 0.002, '0000001011': 0.001, '1101000010': 0.001, '1100101001': 0.002, '0001111011': 0.004, '0010010010': 0.004, '0001100000': 0.001, '1110111010': 0.002, '1100101111': 0.002, '1111101110': 0.003, '1011000001': 0.001, '1001000100': 0.003, '1000011010': 0.006, '0001100110': 0.002, '0010110011': 0.002, '1010101111': 0.004, '0001100011': 0.003, '0001000111': 0.004, '1000010010': 0.004, '1010000001': 0.001, '1110011001': 0.004, '0001110111': 0.005, '0000010100': 0.002, '1010010100': 0.001, '0101000010': 0.002, '0001101011': 0.002, '0001000101': 0.004, '1001110011': 0.002, '0000110110': 0.001, '0011110001': 0.003, '1101100100': 0.003, '0010001001': 0.003, '1110101110': 0.007, '1110011011': 0.002, '1001011000': 0.002, '1010101100': 0.002, '1100011100': 0.001, '0110001100': 0.002, '0011010001': 0.001, '0010111111': 0.001, '0001000011': 0.008, '0111101100': 0.002, '1001101100': 0.001, '1111101011': 0.001, '0111010011': 0.007, '0111100101': 0.001, '1101110100': 0.005, '1100100000': 0.002, '0010111110': 0.001, '1000011110': 0.001, '1101111001': 0.002, '0101110101': 0.001, '0010100110': 0.003, '0000000010': 0.003, '0110001101': 0.002, '0110110101': 0.002, '0010011000': 0.001, '1001111001': 0.001, '0110111001': 0.002, '1111101101': 0.004, '1101101100': 0.001, '0110100111': 0.001, '1111111110': 0.001, '1100001100': 0.003, '0011000100': 0.001, '0110101100': 0.001, '0001011010': 0.004, '0000000000': 0.002, '1001000000': 0.001, '0000101101': 0.002, '0011110010': 0.001, '1100000011': 0.001, '0111010111': 0.004, '0110100110': 0.001, '1110000101': 0.003, '1111111101': 0.002, '1100000100': 0.004, '0011010011': 0.008, '1000110011': 0.001, '0001111010': 0.002, '1000011011': 0.002, '1011010010': 0.001, '1110001111': 0.001, '1010001111': 0.004, '1101001110': 0.001, '0101010111': 0.005, '1011011111': 0.001, '1000110010': 0.001, '1111010000': 0.001, '1110010011': 0.003, '1000011001': 0.003, '1001010011': 0.001, '1101110000': 0.001, '0011110011': 0.006, '0011010101': 0.001, '1110001011': 0.003, '0010100100': 0.001, '1101100000': 0.001, '0010011111': 0.001, '0001110101': 0.002, '0110101000': 0.003, '1111110010': 0.001, '0011010111': 0.003, '0000010110': 0.004, '1000111011': 0.001, '0011000011': 0.003, '1001010100': 0.002, '0001100100': 0.002, '1010110110': 0.001, '0111010101': 0.001, '1000100100': 0.002, '1001000010': 0.002, '1000100010': 0.002, '1001000001': 0.001, '0001100001': 0.001, '1100010001': 0.001, '0101110001': 0.003, '1011001101': 0.001, '0111111001': 0.002, '0000000011': 0.003, '1000001000': 0.001, '1100100110': 0.004, '0101101000': 0.003, '1010001011': 0.002, '0011100100': 0.001, '1000101100': 0.004, '1110100110': 0.001, '0010001101': 0.002, '1010110111': 0.001, '1000010100': 0.002, '0111110000': 0.001, '0010010011': 0.001, '1000000100': 0.002, '0000001100': 0.001, '0101111000': 0.001, '1110100101': 0.001, '0001010000': 0.001, '0110111101': 0.003, '1110110110': 0.002, '1011111011': 0.001, '1100001011': 0.002, '1100110011': 0.001, '1100111000': 0.001, '1010101000': 0.002, '0100000101': 0.001, '1100100101': 0.002, '0011001011': 0.001, '1100000000': 0.001, '0001011001': 0.002, '1001110101': 0.001, '0111111111': 0.001, '0010011011': 0.006, '1011111001': 0.001, '0101010011': 0.002, '0100010011': 0.001, '0100101001': 0.001, '1101101011': 0.001, '1110011010': 0.006, '0101011100': 0.001, '1001010110': 0.002, '1011111111': 0.001, '1100101011': 0.001, '1110110100': 0.001, '1000110110': 0.001, '0001010100': 0.002, '0001101101': 0.001, '0110110110': 0.001, '0111101010': 0.004, '1111100101': 0.001, '0010111011': 0.001, '1010110001': 0.001, '1110101001': 0.002, '0000100010': 0.001, '0101011001': 0.002, '0001101110': 0.001, '1100111100': 0.002, '0111011011': 0.003, '0100110111': 0.001, '1100011101': 0.001, '0110101010': 0.001, '1101100111': 0.001, '0100010000': 0.001, '0001111000': 0.001, '0111101000': 0.002, '1111111111': 0.001, '1110110011': 0.001, '0011111010': 0.001, '0010000100': 0.001, '1010001010': 0.002, '1010100110': 0.001, '0100000110': 0.002, '0110101011': 0.001, '0100011101': 0.002, '0010001010': 0.001, '1010000011': 0.001, '0101111001': 0.001, '1001101001': 0.001, '1100001110': 0.002, '1110001101': 0.002, '1001111011': 0.001, '0011111001': 0.003, '1010010011': 0.002, '0111110110': 0.001, '1001100011': 0.002, '0111100011': 0.001, '1000000101': 0.001, '1110011101': 0.002, '1010000010': 0.002, '0001111101': 0.001, '0111001010': 0.001, '0110111000': 0.001, '1001000011': 0.001, '0010011101': 0.001, '1001110010': 0.001, '1111111000': 0.006, '1111111100': 0.001, '0101100101': 0.001, '0110101001': 0.001, '0011001010': 0.001, '1001101101': 0.001, '1011011011': 0.001, '0101100100': 0.004, '0010001011': 0.002, '1110000000': 0.001, '0011010010': 0.002, '1101000110': 0.002, '1101010100': 0.001, '0000010000': 0.001, '1010110101': 0.001, '1000010101': 0.002, '1110011100': 0.002, '0110111111': 0.001, '0101101001': 0.001, '1110100010': 0.001, '0001011100': 0.002, '1101000100': 0.001, '1100000010': 0.002, '0110011110': 0.002, '0111011101': 0.002, '0001111001': 0.001, '0001001101': 0.001, '1111011101': 0.001, '1001010111': 0.001, '1010011111': 0.001, '0111110101': 0.001, '1010001101': 0.002, '1100100010': 0.001, '1100011111': 0.001, '0101010110': 0.004, '0000110011': 0.003, '0100111100': 0.001, '0001011011': 0.002, '0100101100': 0.001, '1110001001': 0.001, '1011111100': 0.001, '1111001000': 0.001, '0101000000': 0.001, '1011010011': 0.001, '1001100100': 0.001, '1010001001': 0.001, '0111110100': 0.002, '0110000111': 0.001, '1101011011': 0.003, '1100110010': 0.001, '1011100101': 0.001, '1011101011': 0.001, '0110011100': 0.001, '0010110100': 0.001, '1011000011': 0.002, '0101111011': 0.002, '1011100110': 0.002, '0101110100': 0.002, '0110001111': 0.001, '1011101100': 0.002, '0001011000': 0.001, '1101011110': 0.001, '0101110010': 0.002, '1100010010': 0.001, '0101010100': 0.001, '1100010100': 0.002, '1001100110': 0.001, '0101001010': 0.001, '1011001001': 0.001, '1111110100': 0.001, '1110111111': 0.001, '1000010001': 0.001, '1011011000': 0.001, '0000001101': 0.001, '0001111111': 0.001, '0010111101': 0.001, '0100110110': 0.001, '1010000100': 0.001, '0110001010': 0.001, '0010000101': 0.001, '0100001011': 0.001, '0110011111': 0.001, '0001100101': 0.002, '0111111011': 0.001, '0100101000': 0.001, '1011110111': 0.001, '1110010000': 0.002, '1001110110': 0.001, '0001001001': 0.001, '0011101101': 0.001, '1000001010': 0.001, '0111100100': 0.001, '0110101101': 0.001, '1000000110': 0.001, '0001010110': 0.001, '0001101100': 0.001, '0001101000': 0.001, '0000011010': 0.001, '1110110010': 0.001, '1110111101': 0.001, '1111100001': 0.001, '1000001101': 0.001, '0111001100': 0.001}, measurements_copied_from_device=True, measurement_counts_copied_from_device=False, measurement_probabilities_copied_from_device=False)"
      ]
     },
     "execution_count": 174,
     "metadata": {},
     "output_type": "execute_result"
    }
   ],
   "source": [
    "tracker['res']"
   ]
  },
  {
   "cell_type": "code",
   "execution_count": 175,
   "metadata": {},
   "outputs": [
    {
     "name": "stdout",
     "output_type": "stream",
     "text": [
      "Minimal energy: -10.0\n",
      "Optimal classical string: [ 1 -1 -1  1 -1  1  1 -1 -1  1]\n",
      "Approx energy expectation value (cost): 0.062\n",
      "cost_avg=0.062;\n"
     ]
    }
   ],
   "source": [
    "result = tracker['res']\n",
    "\n",
    "# convert results (0 and 1) to ising (-1 and 1)\n",
    "meas_ising = result.measurements\n",
    "meas_ising[meas_ising == 0] = -1\n",
    "\n",
    "# get all energies (for every shot): (n_shots, 1) vector\n",
    "all_energies = np.diag(np.dot(meas_ising, np.dot(J, np.transpose(meas_ising))))\n",
    "# all_energies = energy_mat\n",
    "\n",
    "# find minimum and corresponding classical string\n",
    "energy_min = np.min(all_energies)\n",
    "print('Minimal energy:', energy_min)\n",
    "optimal_string = meas_ising[np.argmin(all_energies)]\n",
    "print('Optimal classical string:', optimal_string)\n",
    "\n",
    "# store optimal (classical) result/bitstring\n",
    "if energy_min < tracker['optimal_energy']:\n",
    "    tracker.update({'optimal_energy': energy_min})\n",
    "    tracker.update({'optimal_bitstring': optimal_string})\n",
    "\n",
    "# energy expectation value\n",
    "energy_expect = np.sum(all_energies) / SHOTS\n",
    "print('Approx energy expectation value (cost):', energy_expect)\n",
    "# send metrics to CloudWatch\n",
    "print(f'cost_avg={energy_expect};')"
   ]
  },
  {
   "cell_type": "code",
   "execution_count": 183,
   "metadata": {},
   "outputs": [],
   "source": [
    "idx = J.nonzero()\n",
    "result_qubits = list(zip(idx[0], idx[1]))\n",
    "\n",
    "energies = np.array(result.values)\n",
    "energy_mat = np.zeros((N, N))\n",
    "for i, idx in enumerate(result_qubits):\n",
    "    energy_mat[idx[0], idx[1]] = energies[i]"
   ]
  },
  {
   "cell_type": "code",
   "execution_count": 190,
   "metadata": {},
   "outputs": [
    {
     "data": {
      "text/plain": [
       "array([[ 0.   ,  0.304,  0.   ,  0.   ,  0.146,  0.   ,  0.282,  0.   , -0.162,  0.   ],\n",
       "       [ 0.   ,  0.   ,  0.   , -0.138,  0.   , -0.11 ,  0.314,  0.   , -0.282, -0.184],\n",
       "       [ 0.   ,  0.   ,  0.   , -0.096,  0.   ,  0.   ,  0.356,  0.   ,  0.   ,  0.   ],\n",
       "       [ 0.   ,  0.   ,  0.   ,  0.   ,  0.08 ,  0.   , -0.184,  0.   ,  0.004,  0.   ],\n",
       "       [ 0.   ,  0.   ,  0.   ,  0.   ,  0.   , -0.14 ,  0.   ,  0.   ,  0.   , -0.098],\n",
       "       [ 0.   ,  0.   ,  0.   ,  0.   ,  0.   ,  0.   ,  0.   ,  0.   ,  0.   ,  0.162],\n",
       "       [ 0.   ,  0.   ,  0.   ,  0.   ,  0.   ,  0.   ,  0.   ,  0.   ,  0.   ,  0.   ],\n",
       "       [ 0.   ,  0.   ,  0.   ,  0.   ,  0.   ,  0.   ,  0.   ,  0.   , -0.21 , -0.128],\n",
       "       [ 0.   ,  0.   ,  0.   ,  0.   ,  0.   ,  0.   ,  0.   ,  0.   ,  0.   ,  0.146],\n",
       "       [ 0.   ,  0.   ,  0.   ,  0.   ,  0.   ,  0.   ,  0.   ,  0.   ,  0.   ,  0.   ]])"
      ]
     },
     "execution_count": 190,
     "metadata": {},
     "output_type": "execute_result"
    }
   ],
   "source": [
    "energy_mat"
   ]
  },
  {
   "cell_type": "code",
   "execution_count": 187,
   "metadata": {},
   "outputs": [
    {
     "data": {
      "text/plain": [
       "(1000,)"
      ]
     },
     "execution_count": 187,
     "metadata": {},
     "output_type": "execute_result"
    }
   ],
   "source": [
    "all_energies.shape"
   ]
  },
  {
   "cell_type": "code",
   "execution_count": 189,
   "metadata": {},
   "outputs": [
    {
     "data": {
      "text/plain": [
       "20"
      ]
     },
     "execution_count": 189,
     "metadata": {},
     "output_type": "execute_result"
    }
   ],
   "source": [
    "len(result.values)"
   ]
  },
  {
   "cell_type": "markdown",
   "metadata": {},
   "source": [
    "## POSTPROCESSING AND COMPARISON OF OUR QAOA RESULTS WITH CLASSICAL RESULTS"
   ]
  },
  {
   "cell_type": "code",
   "execution_count": 177,
   "metadata": {},
   "outputs": [
    {
     "name": "stdout",
     "output_type": "stream",
     "text": [
      "Optimal energy from managed job: -10.0\n",
      "Optimal bit-string from managed job: [-1  1  1 -1  1 -1 -1 -1  1 -1]\n"
     ]
    }
   ],
   "source": [
    "print('Optimal energy from managed job:', tracker['optimal_energy'])\n",
    "print('Optimal bit-string from managed job:', tracker['optimal_bitstring'])"
   ]
  },
  {
   "cell_type": "code",
   "execution_count": 178,
   "metadata": {},
   "outputs": [
    {
     "data": {
      "image/png": "[encoded data removed]",
      "text/plain": [
       "<Figure size 432x288 with 1 Axes>"
      ]
     },
     "metadata": {
      "needs_background": "light"
     },
     "output_type": "display_data"
    }
   ],
   "source": [
    "gamma = result_angle[:p]\n",
    "beta = result_angle[p:]\n",
    "pa = np.arange(1, p + 1)\n",
    "\n",
    "fig = plt.figure(2)\n",
    "plt.plot(pa, gamma / np.pi, '-o', label='gamma')\n",
    "plt.plot(pa, beta / np.pi, '-s', label='beta')\n",
    "plt.xlabel('circuit depth (layer) p')\n",
    "plt.ylabel('optimal angles [pi]')\n",
    "plt.legend(title='Variational QAOA angles:', loc='lower left')\n",
    "plt.show()"
   ]
  },
  {
   "cell_type": "code",
   "execution_count": 179,
   "metadata": {},
   "outputs": [
    {
     "name": "stdout",
     "output_type": "stream",
     "text": [
      "Minimal energy found from QAOA job: -10.0\n"
     ]
    },
    {
     "data": {
      "image/png": "[encoded data removed]",
      "text/plain": [
       "<Figure size 432x288 with 1 Axes>"
      ]
     },
     "metadata": {},
     "output_type": "display_data"
    }
   ],
   "source": [
    "# visualize solution of managed job\n",
    "colorlist = tracker['optimal_bitstring']\n",
    "colorlist[colorlist == -1] = 0\n",
    "\n",
    "# plot_colored_graph(J, N, colorlist, pos)\n",
    "plot_colored_graph_simple(G, colorlist, pos)\n",
    "print('Minimal energy found from QAOA job:', tracker['optimal_energy'])"
   ]
  },
  {
   "cell_type": "code",
   "execution_count": 180,
   "metadata": {},
   "outputs": [
    {
     "name": "stdout",
     "output_type": "stream",
     "text": [
      "Classical solution: {'s0': -1, 's1': 1, 's2': 1, 's3': -1, 's4': 1, 's5': -1, 's6': -1, 's7': 1, 's8': 1, 's9': -1}\n",
      "Minimal energy found classically: -10.0\n"
     ]
    },
    {
     "data": {
      "image/png": "[encoded data removed]",
      "text/plain": [
       "<Figure size 432x288 with 1 Axes>"
      ]
     },
     "metadata": {},
     "output_type": "display_data"
    }
   ],
   "source": [
    "# validate quantum results with classical algorithm\n",
    "solution, decoded_solution, energy_min, colors_classical = solve_classical_ising(J, J.shape[0], pos)\n",
    "# plot classical solution\n",
    "plot_colored_graph_simple(G, colors_classical, pos)"
   ]
  },
  {
   "cell_type": "markdown",
   "metadata": {},
   "source": [
    "<span style=\"color:red\">__TODO__:</span>: Add discussion. \n",
    "In this small toy problem there are many degenerate classical solutions with the same optimal quality. "
   ]
  },
  {
   "cell_type": "code",
   "execution_count": null,
   "metadata": {},
   "outputs": [],
   "source": []
  }
 ],
 "metadata": {
  "kernelspec": {
   "display_name": "Python 3",
   "language": "python",
   "name": "python3"
  },
  "language_info": {
   "codemirror_mode": {
    "name": "ipython",
    "version": 3
   },
   "file_extension": ".py",
   "mimetype": "text/x-python",
   "name": "python",
   "nbconvert_exporter": "python",
   "pygments_lexer": "ipython3",
   "version": "3.8.3"
  }
 },
 "nbformat": 4,
 "nbformat_minor": 2
}
