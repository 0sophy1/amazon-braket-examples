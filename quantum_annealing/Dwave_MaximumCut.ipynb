{
 "cells": [
  {
   "cell_type": "markdown",
   "metadata": {},
   "source": [
    "# Basic Demo for D-Wave in Braket: The Maximum-Cut Problem"
   ]
  },
  {
   "cell_type": "markdown",
   "metadata": {},
   "source": [
    "In this tutorial we solve a small instance of the famous Maximum-Cut (MaxCut) Problem using the D-Wave backend on Amazon Braket. The MaxCut problem is one of the most famous NP-hard problems in combinatorial optimization. Given an undirected graph $G(V, E)$ with a vertex set $V$ and an edge set $E$, the Max Cut problem seeks to partition $V$ into two sets such that the number of edges between the two sets (considered to be severed by the cut), is a large as possible. Applications can be found (for example) in clustering problems for marketing purposes or portfolio optimization problems in finance. "
   ]
  },
  {
   "cell_type": "markdown",
   "metadata": {},
   "source": [
    "Example taken from: https://github.com/dwave-examples/maximum-cut"
   ]
  },
  {
   "cell_type": "code",
   "execution_count": 1,
   "metadata": {},
   "outputs": [],
   "source": [
    "import boto3\n",
    "import json\n",
    "from braket.aws import AwsSession, AwsQpu\n",
    "from braket.ocean_plugin import BraketSamplerArns, BraketSampler, BraketDWaveSampler"
   ]
  },
  {
   "cell_type": "code",
   "execution_count": 2,
   "metadata": {},
   "outputs": [],
   "source": [
    "import matplotlib.pyplot as plt\n",
    "# magic word for producing visualizations in notebook\n",
    "%matplotlib inline\n",
    "import networkx as nx\n",
    "import dwave_networkx as dnx\n",
    "from dimod.binary_quadratic_model import BinaryQuadraticModel\n",
    "from dwave.system.composites import EmbeddingComposite"
   ]
  },
  {
   "cell_type": "code",
   "execution_count": 3,
   "metadata": {},
   "outputs": [],
   "source": [
    "# set up S3 bucket (where results are stored)\n",
    "my_bucket = \"braket-bravehearts\"\n",
    "my_prefix = \"dwave-output\"\n",
    "s3_folder = (my_bucket, my_prefix)"
   ]
  },
  {
   "cell_type": "code",
   "execution_count": 4,
   "metadata": {},
   "outputs": [
    {
     "name": "stdout",
     "output_type": "stream",
     "text": [
      "Device backend:\n",
      " QPU('name': D-Wave, 'arn': arn:aws:aqx:::qpu:d-wave)\n"
     ]
    }
   ],
   "source": [
    "# session and backend\n",
    "aws_session = AwsSession()\n",
    "device = AwsQpu(\"arn:aws:aqx:::qpu:d-wave\")\n",
    "print('Device backend:\\n', device)"
   ]
  },
  {
   "cell_type": "markdown",
   "metadata": {},
   "source": [
    "## SETTING UP THE MAXCUT PROBLEM "
   ]
  },
  {
   "cell_type": "code",
   "execution_count": 5,
   "metadata": {},
   "outputs": [],
   "source": [
    "# helper function to plot graph\n",
    "def get_graph(graph, pos):\n",
    "    \"\"\"\n",
    "    plot colored graph for given solution\n",
    "    \"\"\"\n",
    "    # positions for all nodes\n",
    "    # pos = nx.spring_layout(graph)\n",
    "\n",
    "    # nodes\n",
    "    nx.draw_networkx_nodes(graph, pos, node_size=700)\n",
    "\n",
    "    # edges\n",
    "    nx.draw_networkx_edges(graph, pos)\n",
    "\n",
    "    # labels\n",
    "    nx.draw_networkx_labels(graph, pos, font_size=20, font_family='sans-serif')\n",
    "\n",
    "    # plot the graph\n",
    "    plt.axis('off')\n",
    "    #plt.savefig(\"figures/random_graph.png\") # save as png\n",
    "    plt.show();"
   ]
  },
  {
   "cell_type": "code",
   "execution_count": 6,
   "metadata": {},
   "outputs": [
    {
     "data": {
      "image/png": "[encoded data removed]",
      "text/plain": [
       "<Figure size 432x288 with 1 Axes>"
      ]
     },
     "metadata": {},
     "output_type": "display_data"
    },
    {
     "name": "stdout",
     "output_type": "stream",
     "text": [
      "defaultdict(<class 'int'>, {(1, 1): -2, (2, 2): -2, (1, 2): 2, (3, 3): -3, (1, 3): 2, (4, 4): -3, (2, 4): 2, (3, 4): 2, (5, 5): -2, (3, 5): 2, (4, 5): 2})\n"
     ]
    }
   ],
   "source": [
    "# Copyright 2019 D-Wave Systems, Inc.\n",
    "#\n",
    "# Licensed under the Apache License, Version 2.0 (the \"License\");\n",
    "# you may not use this file except in compliance with the License.\n",
    "# You may obtain a copy of the License at\n",
    "#\n",
    "#     http://www.apache.org/licenses/LICENSE-2.0\n",
    "#\n",
    "# Unless required by applicable law or agreed to in writing, software\n",
    "# distributed under the License is distributed on an \"AS IS\" BASIS,\n",
    "# WITHOUT WARRANTIES OR CONDITIONS OF ANY KIND, either express or implied.\n",
    "# See the License for the specific language governing permissions and\n",
    "# limitations under the License.\n",
    "\n",
    "# ------ Import necessary packages ----\n",
    "from collections import defaultdict\n",
    "\n",
    "# from dwave.system.samplers import DWaveSampler\n",
    "# from dwave.system.composites import EmbeddingComposite\n",
    "\n",
    "# ------- Set up our graph -------\n",
    "\n",
    "# Create empty graph\n",
    "G = nx.Graph()\n",
    "\n",
    "# Add edges to the graph (also adds nodes)\n",
    "G.add_edges_from([(1,2),(1,3),(2,4),(3,4),(3,5),(4,5)])\n",
    "\n",
    "# plot graph\n",
    "pos = nx.spring_layout(G)\n",
    "# plot graph with labels\n",
    "get_graph(G, pos)\n",
    "\n",
    "# ------- Set up our QUBO dictionary -------\n",
    "\n",
    "# Initialize our Q matrix\n",
    "Q = defaultdict(int)\n",
    "\n",
    "# Update Q matrix for every edge in the graph\n",
    "for u, v in G.edges:\n",
    "    Q[(u,u)]+= -1\n",
    "    Q[(v,v)]+= -1\n",
    "    Q[(u,v)]+= 2\n",
    "\n",
    "# print Q matrix\n",
    "print(Q)"
   ]
  },
  {
   "cell_type": "markdown",
   "metadata": {},
   "source": [
    "## SOLVING THE MAXCUT PROBLEM ON DWAVE"
   ]
  },
  {
   "cell_type": "code",
   "execution_count": 7,
   "metadata": {},
   "outputs": [
    {
     "name": "stdout",
     "output_type": "stream",
     "text": [
      "------------------------------------------------------------\n",
      "          Set 0          Set 1    Energy        Cut Size    \n",
      "------------------------------------------------------------\n",
      "      [1, 4, 5]         [2, 3]     -5.0             5       \n",
      "         [1, 4]      [2, 3, 5]     -5.0             5       \n",
      "      [2, 3, 5]         [1, 4]     -5.0             5       \n",
      "      [1, 2, 4]         [3, 5]     -3.0             3       \n",
      "      [2, 4, 5]         [1, 3]     -3.0             3       \n",
      "   [1, 2, 4, 5]            [3]     -3.0             3       \n",
      "\n",
      "Your plot is saved to maxcut_plot.png\n"
     ]
    },
    {
     "data": {
      "image/png": "[encoded data removed]",
      "text/plain": [
       "<Figure size 432x288 with 1 Axes>"
      ]
     },
     "metadata": {},
     "output_type": "display_data"
    }
   ],
   "source": [
    "# ------- Run our QUBO on the QPU -------\n",
    "# Set up QPU parameters\n",
    "chainstrength = 8\n",
    "numruns = 10\n",
    "\n",
    "# Run the QUBO on the Braket solver from your config file\n",
    "# set sampler\n",
    "sampler = BraketDWaveSampler(s3_folder, BraketSamplerArns.DWAVE)\n",
    "sampler = EmbeddingComposite(sampler)\n",
    "response = sampler.sample_qubo(Q, chain_strength=chainstrength, num_reads=numruns)\n",
    "energies = iter(response.data())\n",
    "\n",
    "# ------- Print results to user -------\n",
    "print('-' * 60)\n",
    "print('{:>15s}{:>15s}{:^15s}{:^15s}'.format('Set 0','Set 1','Energy','Cut Size'))\n",
    "print('-' * 60)\n",
    "for line in response:\n",
    "    S0 = [k for k,v in line.items() if v == 0]\n",
    "    S1 = [k for k,v in line.items() if v == 1]\n",
    "    E = next(energies).energy\n",
    "    print('{:>15s}{:>15s}{:^15s}{:^15s}'.format(str(S0),str(S1),str(E),str(int(-1*E))))\n",
    "\n",
    "# ------- Display results to user -------\n",
    "# Grab best result\n",
    "# Note: \"best\" result is the result with the lowest energy\n",
    "# Note2: the look up table (lut) is a dictionary, where the key is the node index\n",
    "#   and the value is the set label. For example, lut[5] = 1, indicates that\n",
    "#   node 5 is in set 1 (S1).\n",
    "lut = response.lowest().first.sample\n",
    "\n",
    "# Interpret best result in terms of nodes and edges\n",
    "S0 = [node for node in G.nodes if not lut[node]]\n",
    "S1 = [node for node in G.nodes if lut[node]]\n",
    "cut_edges = [(u, v) for u, v in G.edges if lut[u]!=lut[v]]\n",
    "uncut_edges = [(u, v) for u, v in G.edges if lut[u]==lut[v]]\n",
    "\n",
    "# Display best result\n",
    "pos = nx.spring_layout(G)\n",
    "nx.draw_networkx_nodes(G, pos, nodelist=S0, node_color='r')\n",
    "nx.draw_networkx_nodes(G, pos, nodelist=S1, node_color='c')\n",
    "nx.draw_networkx_edges(G, pos, edgelist=cut_edges, style='dashdot', alpha=0.5, width=3)\n",
    "nx.draw_networkx_edges(G, pos, edgelist=uncut_edges, style='solid', width=3)\n",
    "nx.draw_networkx_labels(G, pos)\n",
    "\n",
    "filename = \"maxcut_plot.png\"\n",
    "plt.savefig(filename, bbox_inches='tight')\n",
    "print(\"\\nYour plot is saved to {}\".format(filename))"
   ]
  },
  {
   "cell_type": "markdown",
   "metadata": {},
   "source": [
    "---\n",
    "## APPENDIX"
   ]
  },
  {
   "cell_type": "markdown",
   "metadata": {},
   "source": [
    "Original MaxCut example from here: https://github.com/dwave-examples/maximum-cut"
   ]
  },
  {
   "cell_type": "code",
   "execution_count": 8,
   "metadata": {},
   "outputs": [],
   "source": [
    "# # Copyright 2019 D-Wave Systems, Inc.\n",
    "# #\n",
    "# # Licensed under the Apache License, Version 2.0 (the \"License\");\n",
    "# # you may not use this file except in compliance with the License.\n",
    "# # You may obtain a copy of the License at\n",
    "# #\n",
    "# #     http://www.apache.org/licenses/LICENSE-2.0\n",
    "# #\n",
    "# # Unless required by applicable law or agreed to in writing, software\n",
    "# # distributed under the License is distributed on an \"AS IS\" BASIS,\n",
    "# # WITHOUT WARRANTIES OR CONDITIONS OF ANY KIND, either express or implied.\n",
    "# # See the License for the specific language governing permissions and\n",
    "# # limitations under the License.\n",
    "\n",
    "# # ------ Import necessary packages ----\n",
    "# from collections import defaultdict\n",
    "\n",
    "# from dwave.system.samplers import DWaveSampler\n",
    "# from dwave.system.composites import EmbeddingComposite\n",
    "# import networkx as nx\n",
    "\n",
    "# import matplotlib\n",
    "# matplotlib.use(\"agg\")\n",
    "# from matplotlib import pyplot as plt\n",
    "\n",
    "# # ------- Set up our graph -------\n",
    "\n",
    "# # Create empty graph\n",
    "# G = nx.Graph()\n",
    "\n",
    "# # Add edges to the graph (also adds nodes)\n",
    "# G.add_edges_from([(1,2),(1,3),(2,4),(3,4),(3,5),(4,5)])\n",
    "\n",
    "# # ------- Set up our QUBO dictionary -------\n",
    "\n",
    "# # Initialize our Q matrix\n",
    "# Q = defaultdict(int)\n",
    "\n",
    "# # Update Q matrix for every edge in the graph\n",
    "# for u, v in G.edges:\n",
    "#     Q[(u,u)]+= -1\n",
    "#     Q[(v,v)]+= -1\n",
    "#     Q[(u,v)]+= 2\n",
    "\n",
    "# # ------- Run our QUBO on the QPU -------\n",
    "# # Set up QPU parameters\n",
    "# chainstrength = 8\n",
    "# numruns = 10\n",
    "\n",
    "# # Run the QUBO on the solver from your config file\n",
    "# sampler = EmbeddingComposite(DWaveSampler(solver={'qpu': True}))\n",
    "# response = sampler.sample_qubo(Q, chain_strength=chainstrength, num_reads=numruns)\n",
    "# energies = iter(response.data())\n",
    "\n",
    "# # ------- Print results to user -------\n",
    "# print('-' * 60)\n",
    "# print('{:>15s}{:>15s}{:^15s}{:^15s}'.format('Set 0','Set 1','Energy','Cut Size'))\n",
    "# print('-' * 60)\n",
    "# for line in response:\n",
    "#     S0 = [k for k,v in line.items() if v == 0]\n",
    "#     S1 = [k for k,v in line.items() if v == 1]\n",
    "#     E = next(energies).energy\n",
    "#     print('{:>15s}{:>15s}{:^15s}{:^15s}'.format(str(S0),str(S1),str(E),str(int(-1*E))))\n",
    "\n",
    "# # ------- Display results to user -------\n",
    "# # Grab best result\n",
    "# # Note: \"best\" result is the result with the lowest energy\n",
    "# # Note2: the look up table (lut) is a dictionary, where the key is the node index\n",
    "# #   and the value is the set label. For example, lut[5] = 1, indicates that\n",
    "# #   node 5 is in set 1 (S1).\n",
    "# lut = response.lowest().first.sample\n",
    "\n",
    "# # Interpret best result in terms of nodes and edges\n",
    "# S0 = [node for node in G.nodes if not lut[node]]\n",
    "# S1 = [node for node in G.nodes if lut[node]]\n",
    "# cut_edges = [(u, v) for u, v in G.edges if lut[u]!=lut[v]]\n",
    "# uncut_edges = [(u, v) for u, v in G.edges if lut[u]==lut[v]]\n",
    "\n",
    "# # Display best result\n",
    "# pos = nx.spring_layout(G)\n",
    "# nx.draw_networkx_nodes(G, pos, nodelist=S0, node_color='r')\n",
    "# nx.draw_networkx_nodes(G, pos, nodelist=S1, node_color='c')\n",
    "# nx.draw_networkx_edges(G, pos, edgelist=cut_edges, style='dashdot', alpha=0.5, width=3)\n",
    "# nx.draw_networkx_edges(G, pos, edgelist=uncut_edges, style='solid', width=3)\n",
    "# nx.draw_networkx_labels(G, pos)\n",
    "\n",
    "# filename = \"maxcut_plot.png\"\n",
    "# plt.savefig(filename, bbox_inches='tight')\n",
    "# print(\"\\nYour plot is saved to {}\".format(filename))"
   ]
  }
 ],
 "metadata": {
  "kernelspec": {
   "display_name": "conda_python3",
   "language": "python",
   "name": "conda_python3"
  },
  "language_info": {
   "codemirror_mode": {
    "name": "ipython",
    "version": 3
   },
   "file_extension": ".py",
   "mimetype": "text/x-python",
   "name": "python",
   "nbconvert_exporter": "python",
   "pygments_lexer": "ipython3",
   "version": "3.7.6"
  }
 },
 "nbformat": 4,
 "nbformat_minor": 4
}
