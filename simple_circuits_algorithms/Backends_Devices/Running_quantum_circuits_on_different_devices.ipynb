{
 "cells": [
  {
   "cell_type": "markdown",
   "metadata": {},
   "source": [
    "# BELL STATE PREPARATION"
   ]
  },
  {
   "cell_type": "markdown",
   "metadata": {},
   "source": [
    "In this hello-world tutorial we prepare a maximally entangled Bell state between two qubits, using both classical simulators as well as QPUs. For classical devices, we can run our circuit on a local simulator or a cloud-based managed simulator. For the quantum devices, we run our circuit on both the superconducting machine from Rigetti and the ion-trap machine provided by IonQ. As shown below, one can seamlessly swap between different devices without any modifications to the circuit definition, by just re-defining the device object. We also show how to recover results using the unique arn associated with every task. This tool is useful in order to deal with potential delays if your quantum task sits in the queue for some time waiting for execution. "
   ]
  },
  {
   "cell_type": "code",
   "execution_count": 1,
   "metadata": {},
   "outputs": [],
   "source": [
    "# general imports\n",
    "import boto3\n",
    "import numpy as np\n",
    "import matplotlib.pyplot as plt\n",
    "# magic word for producing visualizations in notebook\n",
    "%matplotlib inline\n",
    "import string\n",
    "import time\n",
    "\n",
    "# AWS imports: Import Braket SDK modules\n",
    "from braket.circuits import Circuit, Gate, Instruction, circuit, Observable\n",
    "from braket.devices import LocalSimulator\n",
    "from braket.aws import AwsDevice, AwsQuantumTask"
   ]
  },
  {
   "cell_type": "markdown",
   "metadata": {},
   "source": [
    "__NOTE__: Please enter your desired S3 location (bucket and key) below."
   ]
  },
  {
   "cell_type": "code",
   "execution_count": 2,
   "metadata": {},
   "outputs": [],
   "source": [
    "# Please enter the S3 bucket you created during onboarding in the code below, \n",
    "# or create a new bucket named as ‘amazon-braket-<your account number>’ to run the below code without changes. \n",
    "aws_account_id = boto3.client(\"sts\").get_caller_identity()[\"Account\"]\n",
    "my_bucket = f\"amazon-braket-{aws_account_id}\" # the name of the bucket\n",
    "my_prefix = \"simulation-output\" # the name of the folder in the bucket\n",
    "s3_folder = (my_bucket, my_prefix)"
   ]
  },
  {
   "cell_type": "markdown",
   "metadata": {},
   "source": [
    "### Available Gates"
   ]
  },
  {
   "cell_type": "markdown",
   "metadata": {},
   "source": [
    "First, let us check out the gate set currently supported by our SDK. Note that specific device may only support a subset of these gates. You can retrieve this subset by calling ```device.properties['supportedQuantumOperations']```."
   ]
  },
  {
   "cell_type": "code",
   "execution_count": 3,
   "metadata": {},
   "outputs": [
    {
     "name": "stdout",
     "output_type": "stream",
     "text": [
      "Gate set supported by SDK: ['CCNot', 'CNot', 'CPhaseShift', 'CPhaseShift00', 'CPhaseShift01', 'CPhaseShift10', 'CSwap', 'CY', 'CZ', 'H', 'I', 'ISwap', 'PSwap', 'PhaseShift', 'Rx', 'Ry', 'Rz', 'S', 'Si', 'Swap', 'T', 'Ti', 'Unitary', 'V', 'Vi', 'X', 'XX', 'XY', 'Y', 'YY', 'Z', 'ZZ']\n"
     ]
    }
   ],
   "source": [
    "# print all (the usual suspects) available gates currently available within SDK\n",
    "gate_set = [attr for attr in dir(Gate) if attr[0] in string.ascii_uppercase]\n",
    "print('Gate set supported by SDK:', gate_set)"
   ]
  },
  {
   "cell_type": "markdown",
   "metadata": {},
   "source": [
    "### Problem: Prepare Bell State"
   ]
  },
  {
   "cell_type": "markdown",
   "metadata": {},
   "source": [
    "Goal: Prepare maximally entangled Bell state: \n",
    "$$\\left|0,0\\right> \\rightarrow \\left|\\mathrm{Bell}\\right> = \\frac{1}{\\sqrt{2}}\\left(\\left|0,0\\right> + \\left|1,1\\right>\\right).$$"
   ]
  },
  {
   "attachments": {
    "image.png": {
     "image/png": "[encoded data removed]"
    }
   },
   "cell_type": "markdown",
   "metadata": {},
   "source": [
    "To this end, we build and run the following circuit using a single-qubit Hadamard gate (denoted as ```H```) acting on the first qubit followed by a two-qubit ```CNOT``` gate: \n",
    "![image.png](attachment:image.png)"
   ]
  },
  {
   "cell_type": "markdown",
   "metadata": {},
   "source": [
    "### Setup Circuit"
   ]
  },
  {
   "cell_type": "code",
   "execution_count": 4,
   "metadata": {},
   "outputs": [],
   "source": [
    "# define circuit\n",
    "bell = Circuit().h(0).cnot(0, 1)"
   ]
  },
  {
   "cell_type": "code",
   "execution_count": 5,
   "metadata": {},
   "outputs": [
    {
     "name": "stdout",
     "output_type": "stream",
     "text": [
      "T  : |0|1|\n",
      "          \n",
      "q0 : -H-C-\n",
      "        | \n",
      "q1 : ---X-\n",
      "\n",
      "T  : |0|1|\n"
     ]
    }
   ],
   "source": [
    "# print circuit\n",
    "print(bell)"
   ]
  },
  {
   "cell_type": "markdown",
   "metadata": {},
   "source": [
    "### Local Simulator"
   ]
  },
  {
   "cell_type": "markdown",
   "metadata": {},
   "source": [
    "First we run our circuit locally, using an exact state-vector simulator. This local simulator is the preferred choice for fast experiments with low to intermediate qubit numbers ($N<20-25$) and essentially unlimited circuit depth. "
   ]
  },
  {
   "cell_type": "code",
   "execution_count": 6,
   "metadata": {},
   "outputs": [],
   "source": [
    "# set up device: Local Simulator\n",
    "device = LocalSimulator()"
   ]
  },
  {
   "cell_type": "code",
   "execution_count": 7,
   "metadata": {},
   "outputs": [
    {
     "name": "stdout",
     "output_type": "stream",
     "text": [
      "Counter({'11': 506, '00': 494})\n"
     ]
    }
   ],
   "source": [
    "# run circuit (execute single TASK)\n",
    "result = device.run(bell, shots=1000).result()\n",
    "# get measurement shots\n",
    "counts = result.measurement_counts\n",
    "# print counts\n",
    "print(counts)"
   ]
  },
  {
   "cell_type": "code",
   "execution_count": 9,
   "metadata": {},
   "outputs": [
    {
     "data": {
      "image/png": "[encoded data removed]",
      "text/plain": [
       "<Figure size 432x288 with 1 Axes>"
      ]
     },
     "metadata": {
      "needs_background": "light"
     },
     "output_type": "display_data"
    }
   ],
   "source": [
    "# plot using Counter\n",
    "plt.bar(counts.keys(), counts.values());\n",
    "plt.xlabel('bitstrings');\n",
    "plt.ylabel('counts');"
   ]
  },
  {
   "cell_type": "markdown",
   "metadata": {},
   "source": [
    "### Managed Cloud-Based Simulator"
   ]
  },
  {
   "cell_type": "markdown",
   "metadata": {},
   "source": [
    "As opposed to the local simulator above, we can also run our circuit on a cloud-based simulator. This approach adds some latency overhead, but may still be beneficial for larger circuits where memory optimized hardware can outperform a local machine.\n",
    "Here, as part of the API call with ```run()``` you need to supply a S3 location where the metadata and results associated with this circuit execution will be stored.   "
   ]
  },
  {
   "cell_type": "code",
   "execution_count": 8,
   "metadata": {},
   "outputs": [],
   "source": [
    "# set up the managed simulator\n",
    "device = AwsDevice(\"arn:aws:braket:::device/quantum-simulator/amazon/sv1\")"
   ]
  },
  {
   "cell_type": "code",
   "execution_count": 9,
   "metadata": {},
   "outputs": [
    {
     "name": "stdout",
     "output_type": "stream",
     "text": [
      "Counter({'00': 527, '11': 473})\n"
     ]
    }
   ],
   "source": [
    "# bell = Circuit().h(0).cnot(0, 1)\n",
    "result = device.run(bell, s3_folder, shots=1000).result()\n",
    "# get measurement counts\n",
    "counts = result.measurement_counts\n",
    "print(counts)"
   ]
  },
  {
   "cell_type": "code",
   "execution_count": 10,
   "metadata": {},
   "outputs": [
    {
     "data": {
      "image/png": "[encoded data removed]",
      "text/plain": [
       "<Figure size 432x288 with 1 Axes>"
      ]
     },
     "metadata": {
      "needs_background": "light"
     },
     "output_type": "display_data"
    }
   ],
   "source": [
    "# plot using Counter\n",
    "plt.bar(counts.keys(), counts.values());\n",
    "plt.xlabel('bitstrings');\n",
    "plt.ylabel('counts');"
   ]
  },
  {
   "cell_type": "markdown",
   "metadata": {},
   "source": [
    "__NOTE__: Use unique task ID to look up task details in AWS console."
   ]
  },
  {
   "cell_type": "code",
   "execution_count": null,
   "metadata": {},
   "outputs": [],
   "source": [
    "# print unique TASK ID (task = execution of individual circuit)\n",
    "task_id = result.task_metadata.id\n",
    "print('Task ID:', task_id)"
   ]
  },
  {
   "cell_type": "markdown",
   "metadata": {},
   "source": [
    "### TOOLS AVAILABLE WITH CLASSICAL SIMULATORS"
   ]
  },
  {
   "cell_type": "markdown",
   "metadata": {},
   "source": [
    "As opposed to quantum hardware, where we can only access measurement shots (as shown above), with a classical simulator we can access the full statevector by simply calling ```result.state_vector```. \n",
    "This can be very useful for debugging, as shown below. \n",
    "Apart from the exact statevector, we will also output the expectation value of $Z\\otimes Z$, and the amplitude of the $|11\\rangle$ state. \n",
    "\n",
    "To reiterate, we expect the the following output:\n",
    "$$\\left|\\mathrm{Bell}\\right> = \\frac{1}{\\sqrt{2}}\\left(\\left|0,0\\right> + \\left|1,1\\right>\\right) = \\left[\\frac{1}{\\sqrt{2}}, 0,0,\\frac{1}{\\sqrt{2}}\\right],$$\n",
    "for which $\\left<ZZ\\right>=1$ and $\\left<11|\\mathrm{Bell}\\right>=\\frac{1}{\\sqrt{2}}$."
   ]
  },
  {
   "cell_type": "code",
   "execution_count": 12,
   "metadata": {},
   "outputs": [
    {
     "name": "stdout",
     "output_type": "stream",
     "text": [
      "T  : |0|1|  Result Types  |\n",
      "                           \n",
      "q0 : -H-C-Expectation(Z@Z)-\n",
      "        | |                \n",
      "q1 : ---X-Expectation(Z@Z)-\n",
      "\n",
      "T  : |0|1|  Result Types  |\n",
      "\n",
      "Additional result types: StateVector, Amplitude(11)\n"
     ]
    }
   ],
   "source": [
    "# generate the Bell circuit\n",
    "bell = Circuit().h(0).cnot(0, 1)                                \n",
    "# add the state_vector ResultType\n",
    "bell.state_vector()\n",
    "# add the Z \\otimes Z expectation value\n",
    "bell.expectation(Observable.Z() @ Observable.Z(), target=[0,1])\n",
    "# add the amplitude for |11>\n",
    "bell.amplitude(state=[\"11\"])\n",
    "# print circuit including requested result types\n",
    "print(bell)"
   ]
  },
  {
   "cell_type": "code",
   "execution_count": 13,
   "metadata": {},
   "outputs": [
    {
     "name": "stdout",
     "output_type": "stream",
     "text": [
      "Final EXACT state vector:\n",
      " [0.70710678+0.j 0.        +0.j 0.        +0.j 0.70710678+0.j]\n",
      "Expectation value <ZZ>: 1.0\n",
      "Amplitude <11|Final state>: {'11': (0.7071067811865475+0j)}\n"
     ]
    }
   ],
   "source": [
    "# set up device\n",
    "device = LocalSimulator()\n",
    "# run the circuit and output the results\n",
    "task = device.run(bell, shots=0)\n",
    "result = task.result()\n",
    "\n",
    "# print results\n",
    "print(\"Final EXACT state vector:\\n\", result.values[0])\n",
    "print(\"Expectation value <ZZ>:\", np.round(result.values[1], 5))\n",
    "print(\"Amplitude <11|Final state>:\", result.values[2])"
   ]
  },
  {
   "cell_type": "markdown",
   "metadata": {},
   "source": [
    "Clearly we do recover the expected results with perfect correlations between the two qubits making up the Bell pair. \n",
    "\n",
    "Note that state-vector and amplitude can only be requested when ```shots=0``` for a classical simulator. \n",
    "When ```shots=0``` for a simulator, probability, expectation values, and variances are the exact values, as derived from the full wavefunction. \n",
    "When ```shots>0``` we cannot access the full state-vector, but we can still get approximate expectation values as taken from measurement samples. Note that probability, sample, expectation, and variance are also supported for QPU devices. "
   ]
  },
  {
   "cell_type": "markdown",
   "metadata": {},
   "source": [
    "### Quantum Hardware: Rigetti"
   ]
  },
  {
   "cell_type": "markdown",
   "metadata": {},
   "source": [
    "Next we submit our circuit to the superconducting quantum chip provided by Rigetti. Depending on our position in the queue, we may have to wait for some time till our circuit is actually run. However, thanks to asynchronous execution, we can always come back and recover the results by providing the unique ID associated with every task. "
   ]
  },
  {
   "cell_type": "code",
   "execution_count": null,
   "metadata": {},
   "outputs": [],
   "source": [
    "# set up device\n",
    "rigetti = AwsDevice(\"arn:aws:braket:::device/qpu/rigetti/Aspen-8\")\n",
    "\n",
    "# create a clean circuit with no result type attached.(This is because some result types are only supported when shots=0)\n",
    "bell = Circuit().h(0).cnot(0, 1)  \n",
    "\n",
    "# add the Z \\otimes Z expectation value\n",
    "bell.expectation(Observable.Z() @ Observable.Z(), target=[0,1])\n",
    "\n",
    "# run circuit with a polling time of 5 days\n",
    "rigetti_task = rigetti.run(bell, s3_folder, shots=1000, poll_timeout_seconds=5*24*60*60)\n",
    "\n",
    "# get id and status of submitted task\n",
    "rigetti_task_id = rigetti_task.id\n",
    "rigetti_status = rigetti_task.state()\n",
    "print('ID of task:', rigetti_task_id)\n",
    "print('Status of task:', rigetti_status)"
   ]
  },
  {
   "cell_type": "markdown",
   "metadata": {},
   "source": [
    "The task is submitted and we can regularly (or irregularly) check the status of this task by executing the following cell. You may easily build logic around this query to wait for this task to complete before your code proceeds. "
   ]
  },
  {
   "cell_type": "code",
   "execution_count": 20,
   "metadata": {},
   "outputs": [
    {
     "name": "stdout",
     "output_type": "stream",
     "text": [
      "Status of (reconstructed) task: COMPLETED\n"
     ]
    }
   ],
   "source": [
    "# print status\n",
    "status = rigetti_task.state()\n",
    "print('Status of (reconstructed) task:', status)"
   ]
  },
  {
   "cell_type": "markdown",
   "metadata": {},
   "source": [
    "### Quantum Hardware: IonQ"
   ]
  },
  {
   "cell_type": "markdown",
   "metadata": {},
   "source": [
    "Finally, we submit our example Bell state circuit to IonQ. To this end, we set the device as AwsDevice(\"arn:aws:braket:::device/qpu/ionq/ionQdevice\"). This task may not readily be executed but enter a queue for this specific machine. While we can interrupt our kernel (and work on something else), we can always recover our results using the unique ID of this task. "
   ]
  },
  {
   "cell_type": "code",
   "execution_count": null,
   "metadata": {},
   "outputs": [],
   "source": [
    "# set up device\n",
    "ionq = AwsDevice(\"arn:aws:braket:::device/qpu/ionq/ionQdevice\")\n",
    "\n",
    "# run circuit with a polling time of 5 days\n",
    "ionq_task = ionq.run(bell, s3_folder, shots=1000, poll_timeout_seconds=5*24*60*60)\n",
    "\n",
    "# get id and status of submitted task\n",
    "ionq_task_id = ionq_task.id\n",
    "ionq_status = ionq_task.state()\n",
    "print('ID of task:', ionq_task_id)\n",
    "print('Status of task:', ionq_status)"
   ]
  },
  {
   "cell_type": "code",
   "execution_count": 19,
   "metadata": {},
   "outputs": [
    {
     "name": "stdout",
     "output_type": "stream",
     "text": [
      "Status of (reconstructed) task: COMPLETED\n"
     ]
    }
   ],
   "source": [
    "# print status\n",
    "status = ionq_task.state()\n",
    "print('Status of (reconstructed) task:', status)"
   ]
  },
  {
   "cell_type": "markdown",
   "metadata": {},
   "source": [
    "### Task Recovery"
   ]
  },
  {
   "cell_type": "markdown",
   "metadata": {},
   "source": [
    "By simply grabbing the unique task ID associated with the quantum tasks we have submitted above, we can recover this task at any point in time and (once the status is completed) visualize and analyze the corresponding results. "
   ]
  },
  {
   "cell_type": "code",
   "execution_count": 21,
   "metadata": {},
   "outputs": [
    {
     "name": "stdout",
     "output_type": "stream",
     "text": [
      "Status of (reconstructed) task: COMPLETED\n",
      "1000 shots taken on machine arn:aws:braket:::device/qpu/rigetti/Aspen-8.\n",
      "Measurement counts: Counter({'00': 528, '11': 390, '01': 48, '10': 34})\n"
     ]
    },
    {
     "data": {
      "image/png": "[encoded data removed]",
      "text/plain": [
       "<Figure size 432x288 with 1 Axes>"
      ]
     },
     "metadata": {
      "needs_background": "light"
     },
     "output_type": "display_data"
    }
   ],
   "source": [
    "# recover task\n",
    "task_load = AwsQuantumTask(arn=rigetti_task_id)\n",
    "\n",
    "# print status\n",
    "status = task_load.state()\n",
    "print('Status of (reconstructed) task:', status)\n",
    "\n",
    "# wait for job to complete\n",
    "# terminal_states = ['COMPLETED', 'FAILED', 'CANCELLED']\n",
    "if status == 'COMPLETED':\n",
    "    # get results\n",
    "    rigetti_results = task_load.result()\n",
    "    # print(rigetti_results)\n",
    "    \n",
    "    # get all metadata of submitted task\n",
    "    metadata = task_load.metadata()\n",
    "    # example for metadata\n",
    "    shots = metadata['shots']\n",
    "    machine = metadata['deviceArn']\n",
    "    # print example metadata\n",
    "    print(\"{} shots taken on machine {}.\".format(shots, machine))\n",
    "    \n",
    "    # get measurement counts\n",
    "    rigetti_counts = rigetti_results.measurement_counts\n",
    "    print('Measurement counts:', rigetti_counts)\n",
    "\n",
    "    # plot results: see effects of noise\n",
    "    plt.bar(rigetti_counts.keys(), rigetti_counts.values());\n",
    "    plt.xlabel('bitstrings');\n",
    "    plt.ylabel('counts');\n",
    "    plt.tight_layout();\n",
    "    plt.savefig('rigetti.png', dpi=700);\n",
    "    \n",
    "elif status in ['FAILED', 'CANCELLED']:\n",
    "    # print terminal message \n",
    "    print('Your task is in terminal status, but has not completed.')\n",
    "\n",
    "else:\n",
    "    # print current status\n",
    "    print('Sorry, your task is still being processed and has not been finalized yet.')"
   ]
  },
  {
   "cell_type": "code",
   "execution_count": 23,
   "metadata": {},
   "outputs": [
    {
     "name": "stdout",
     "output_type": "stream",
     "text": [
      "Status of (reconstructed) task: COMPLETED\n",
      "1000 shots taken on machine arn:aws:braket:::device/qpu/ionq/ionQdevice.\n",
      "Measurement counts: Counter({'11': 501, '00': 456, '01': 25, '10': 18})\n"
     ]
    },
    {
     "data": {
      "image/png": "[encoded data removed]",
      "text/plain": [
       "<Figure size 432x288 with 1 Axes>"
      ]
     },
     "metadata": {
      "needs_background": "light"
     },
     "output_type": "display_data"
    }
   ],
   "source": [
    "# recover task\n",
    "task_load = AwsQuantumTask(arn=ionq_task_id)\n",
    "\n",
    "# print status\n",
    "status = task_load.state()\n",
    "print('Status of (reconstructed) task:', status)\n",
    "\n",
    "# wait for job to complete\n",
    "# terminal_states = ['COMPLETED', 'FAILED', 'CANCELLED']\n",
    "if status == 'COMPLETED':\n",
    "    # get results\n",
    "    results = task_load.result()\n",
    "    # print(rigetti_results)\n",
    "    \n",
    "    # get all metadata of submitted task\n",
    "    metadata = task_load.metadata()\n",
    "    # example for metadata\n",
    "    shots = metadata['shots']\n",
    "    machine = metadata['deviceArn']\n",
    "    # print example metadata\n",
    "    print(\"{} shots taken on machine {}.\".format(shots, machine))\n",
    "    \n",
    "    # get measurement counts\n",
    "    counts = results.measurement_counts\n",
    "    print('Measurement counts:', counts)\n",
    "\n",
    "    # plot results: see effects of noise\n",
    "    plt.bar(counts.keys(), counts.values());\n",
    "    plt.xlabel('bitstrings');\n",
    "    plt.ylabel('counts');\n",
    "    plt.tight_layout();\n",
    "    plt.savefig('bell_ionq.png', dpi=700);\n",
    "    \n",
    "elif status in ['FAILED', 'CANCELLED']:\n",
    "    # print terminal message \n",
    "    print('Your task is in terminal status, but has not completed.')\n",
    "\n",
    "else:\n",
    "    # print current status\n",
    "    print('Sorry, your task is still being processed and has not been finalized yet.')"
   ]
  },
  {
   "cell_type": "markdown",
   "metadata": {},
   "source": [
    "We have successfully recovered the results associated with the tasks that were queued up for the quantum hardware providers. Because of noise (decoherence) and other imperfections we cannot fully recover the exact results we have seen when using the classical simulators. To deal with that, in the fullness of time we will be able to use error correction techniques. As long as error correction is not available, it is important to benchmark our quantum results using classical simulators, whenever possible. "
   ]
  },
  {
   "cell_type": "markdown",
   "metadata": {},
   "source": [
    "---\n",
    "# APPENDIX"
   ]
  },
  {
   "cell_type": "code",
   "execution_count": null,
   "metadata": {},
   "outputs": [],
   "source": [
    "# set up device\n",
    "rigetti = AwsDevice(\"arn:aws:braket:::device/qpu/rigetti/Aspen-8\")\n",
    "\n",
    "# run circuit with a polling time of 5 days\n",
    "task = rigetti.run(bell, s3_folder, shots=1000, poll_timeout_seconds=5*24*60*60)\n",
    "print('Information on task:\\n', task)\n",
    "print('==================================' * 2)\n",
    "\n",
    "# get status of submitted task\n",
    "status = task.state()\n",
    "\n",
    "# wait for job to complete\n",
    "terminal_states = ['COMPLETED', 'FAILED', 'CANCELLED']\n",
    "while status not in terminal_states:\n",
    "    status = task.state()\n",
    "    print('Status:', status)\n",
    "    # time.sleep(60)\n",
    "\n",
    "print('Status:', status)\n",
    "\n",
    "# get results\n",
    "rigetti_results = task.result()\n",
    "print(rigetti_results)\n",
    "\n",
    "# get measurement counts\n",
    "rigetti_counts = rigetti_results.measurement_counts\n",
    "print(rigetti_counts)\n",
    "\n",
    "# plot results: see effects of noise\n",
    "plt.bar(rigetti_counts.keys(), rigetti_counts.values());\n",
    "plt.xlabel('bitstrings');\n",
    "plt.ylabel('counts');\n",
    "plt.tight_layout();\n",
    "plt.savefig('rigetti2.png', dpi=700);"
   ]
  }
 ],
 "metadata": {
  "kernelspec": {
   "display_name": "braket",
   "language": "python",
   "name": "braket"
  },
  "language_info": {
   "codemirror_mode": {
    "name": "ipython",
    "version": 3
   },
   "file_extension": ".py",
   "mimetype": "text/x-python",
   "name": "python",
   "nbconvert_exporter": "python",
   "pygments_lexer": "ipython3",
   "version": "3.8.3"
  }
 },
 "nbformat": 4,
 "nbformat_minor": 4
}
