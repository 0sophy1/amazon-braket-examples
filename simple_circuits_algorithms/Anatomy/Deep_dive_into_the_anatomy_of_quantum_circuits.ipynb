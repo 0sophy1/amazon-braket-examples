{
 "cells": [
  {
   "cell_type": "markdown",
   "metadata": {},
   "source": [
    "# Anatomy of Quantum Circuits and Quantum Tasks in Amazon Braket"
   ]
  },
  {
   "cell_type": "markdown",
   "metadata": {},
   "source": [
    "In this tutorial we discuss in detail the anatomy of quantum circuits in Amazon Braket's SDK. Specifcailly, we learn how to build (parametrized) circuits and display them graphically, how to append circuits to each other, and discuss the associated circuit depth and circuit size. Finally we show how to execute our circuit on a backend of our choice (defining a quantum task). We then learn how to efficiently track, log, recover or cancel such a _quantum task_. "
   ]
  },
  {
   "cell_type": "markdown",
   "metadata": {},
   "source": [
    "## IMPORT STATEMENTS"
   ]
  },
  {
   "cell_type": "markdown",
   "metadata": {},
   "source": [
    "First we import some modules we will need."
   ]
  },
  {
   "cell_type": "code",
   "execution_count": 1,
   "metadata": {},
   "outputs": [],
   "source": [
    "# general imports\n",
    "import boto3\n",
    "import numpy as np\n",
    "import matplotlib.pyplot as plt\n",
    "# magic word for producing visualizations in notebook\n",
    "%matplotlib inline\n",
    "import string\n",
    "import time\n",
    "from datetime import datetime\n",
    "# import logging\n",
    "import logging\n",
    "\n",
    "# AWS imports: Import Braket SDK modules\n",
    "from braket.circuits import Circuit, Gate, Instruction, circuit, Observable\n",
    "from braket.aws import AwsDevice, AwsSession, AwsQuantumTask\n",
    "from braket.devices import LocalSimulator"
   ]
  },
  {
   "cell_type": "markdown",
   "metadata": {},
   "source": [
    "## CIRCUIT DEFINITION"
   ]
  },
  {
   "cell_type": "markdown",
   "metadata": {},
   "source": [
    "Let us get started a sample circuit for four qubits (labelled q0, q1, q2 and q3) consisting of standard single-qubit ```Hadamard``` gates and two-qubit ```CNOT``` gates; for a full list of available gates see below. We can then visualize our circuit by simplying calling the ```print``` function. "
   ]
  },
  {
   "cell_type": "code",
   "execution_count": 2,
   "metadata": {},
   "outputs": [
    {
     "name": "stdout",
     "output_type": "stream",
     "text": [
      "T  : |0| 1 |\n",
      "            \n",
      "q0 : -H-C---\n",
      "        |   \n",
      "q1 : -H-|-C-\n",
      "        | | \n",
      "q2 : -H-X-|-\n",
      "          | \n",
      "q3 : -H---X-\n",
      "\n",
      "T  : |0| 1 |\n"
     ]
    }
   ],
   "source": [
    "# define circuit with 4 qubits\n",
    "my_circuit = Circuit().h(range(4)).cnot(control=0, target=2).cnot(control=1, target=3)\n",
    "print(my_circuit)"
   ]
  },
  {
   "cell_type": "markdown",
   "metadata": {},
   "source": [
    "Here, time is sliced up into moments. The circuit above consists of just two moments. First, we apply a ```Hadamard``` gate to every qubit in moment 0 and then we apply two ```CNOT``` gates. Since the latter can be run in parallel as they involve different sets of qubits, they only use up one moment of time. For better readibility they are displayed next to each other with some small offset. "
   ]
  },
  {
   "cell_type": "code",
   "execution_count": 3,
   "metadata": {},
   "outputs": [
    {
     "name": "stdout",
     "output_type": "stream",
     "text": [
      "MomentsKey(time=0, qubits=QubitSet([Qubit(0)]))\n",
      "MomentsKey(time=0, qubits=QubitSet([Qubit(1)]))\n",
      "MomentsKey(time=0, qubits=QubitSet([Qubit(2)]))\n",
      "MomentsKey(time=0, qubits=QubitSet([Qubit(3)]))\n",
      "MomentsKey(time=1, qubits=QubitSet([Qubit(0), Qubit(2)]))\n",
      "MomentsKey(time=1, qubits=QubitSet([Qubit(1), Qubit(3)]))\n"
     ]
    }
   ],
   "source": [
    "# show moments of our quantum circuit\n",
    "my_moments = my_circuit.moments\n",
    "for moment in my_moments:\n",
    "    print(moment)"
   ]
  },
  {
   "cell_type": "code",
   "execution_count": 4,
   "metadata": {},
   "outputs": [
    {
     "name": "stdout",
     "output_type": "stream",
     "text": [
      "Instruction('operator': H('qubit_count': 1), 'target': QubitSet([Qubit(0)]))\n",
      "Instruction('operator': H('qubit_count': 1), 'target': QubitSet([Qubit(1)]))\n",
      "Instruction('operator': H('qubit_count': 1), 'target': QubitSet([Qubit(2)]))\n",
      "Instruction('operator': H('qubit_count': 1), 'target': QubitSet([Qubit(3)]))\n",
      "Instruction('operator': CNot('qubit_count': 2), 'target': QubitSet([Qubit(0), Qubit(2)]))\n",
      "Instruction('operator': CNot('qubit_count': 2), 'target': QubitSet([Qubit(1), Qubit(3)]))\n"
     ]
    }
   ],
   "source": [
    "# list all instructions/gates making up our circuit\n",
    "my_instructions = my_circuit.instructions\n",
    "for instruction in my_instructions:\n",
    "    print(instruction)"
   ]
  },
  {
   "cell_type": "markdown",
   "metadata": {},
   "source": [
    "Next, let us build a parametrized circuit where we have to supply numerical parameter values to fully define the circuit, as is the case for example for single-qubit rotations (as descibed [here](https://github.com/aws/braket-python-sdk/blob/master/src/braket/circuits/gates.py#L485)) and the two-qubit ```ZZ``` as described in the source code [here](https://github.com/aws/braket-python-sdk/blob/master/src/braket/circuits/gates.py#L1153). The specific parameter values are shown in circuit diagram. "
   ]
  },
  {
   "cell_type": "code",
   "execution_count": 5,
   "metadata": {},
   "outputs": [
    {
     "name": "stdout",
     "output_type": "stream",
     "text": [
      "T  : |   0    |    1     |2|\n",
      "                            \n",
      "q0 : -Rx(0.15)-C------------\n",
      "               |            \n",
      "q1 : -Ry(0.2)--|-ZZ(0.15)-X-\n",
      "               | |          \n",
      "q2 : -Rz(0.25)-X-|----------\n",
      "                 |          \n",
      "q3 : -H----------ZZ(0.15)-X-\n",
      "\n",
      "T  : |   0    |    1     |2|\n"
     ]
    }
   ],
   "source": [
    "# define circuit with some parametrized gates \n",
    "my_circuit = Circuit().rx(0, 0.15).ry(1, 0.2).rz(2, 0.25).h(3).cnot(control=0, target=2).zz(1, 3, 0.15).x([1,3])\n",
    "print(my_circuit)"
   ]
  },
  {
   "cell_type": "markdown",
   "metadata": {},
   "source": [
    "__GATE SET__: Below we list all gates currently available in our SDK. Moreover, we can build custom gates as shown below for a general single-qubit rotation. "
   ]
  },
  {
   "cell_type": "code",
   "execution_count": 6,
   "metadata": {},
   "outputs": [
    {
     "name": "stdout",
     "output_type": "stream",
     "text": [
      "['CCNot', 'CNot', 'CPhaseShift', 'CPhaseShift00', 'CPhaseShift01', 'CPhaseShift10', 'CSwap', 'CY', 'CZ', 'H', 'I', 'ISwap', 'PSwap', 'PhaseShift', 'Rx', 'Ry', 'Rz', 'S', 'Si', 'Swap', 'T', 'Ti', 'Unitary', 'V', 'Vi', 'X', 'XX', 'XY', 'Y', 'YY', 'Z', 'ZZ']\n"
     ]
    }
   ],
   "source": [
    "# print all available gates currently available within SDK\n",
    "gate_set = [attr for attr in dir(Gate) if attr[0] in string.ascii_uppercase]\n",
    "print(gate_set)"
   ]
  },
  {
   "cell_type": "code",
   "execution_count": 7,
   "metadata": {},
   "outputs": [],
   "source": [
    "# helper function to build custom gate \n",
    "def u3(alpha, theta, phi):\n",
    "    \"\"\"\n",
    "    function to return matrix for general single qubit rotation\n",
    "    rotation is given by exp(-i sigma*n/2*alpha) where alpha is rotation angle\n",
    "    and n defines rotation axis as n=(sin(theta)cos(phi), sin(theta)sin(phi), cos(theta))\n",
    "    sigma is vector of Pauli matrices\n",
    "    \"\"\"\n",
    "    u11 = np.cos(alpha/2)-1j*np.sin(alpha/2)*np.cos(theta)\n",
    "    u12 = -1j*(np.exp(-1j*phi))*np.sin(theta)*np.sin(alpha/2)\n",
    "    u21 = -1j*(np.exp(1j*phi))*np.sin(theta)*np.sin(alpha/2)\n",
    "    u22 = np.cos(alpha/2)+1j*np.sin(alpha/2)*np.cos(theta)\n",
    "    \n",
    "    return np.array([[u11, u12], [u21, u22]])"
   ]
  },
  {
   "cell_type": "code",
   "execution_count": 8,
   "metadata": {},
   "outputs": [
    {
     "name": "stdout",
     "output_type": "stream",
     "text": [
      "T  : |0|1|\n",
      "          \n",
      "q0 : -U-C-\n",
      "        | \n",
      "q1 : -H-X-\n",
      "\n",
      "T  : |0|1|\n"
     ]
    }
   ],
   "source": [
    "# define and print custom unitary\n",
    "my_u3 = u3(np.pi/2, 0, 0)\n",
    "# print(my_u3)\n",
    "# define example circuit applying custom U to the first qubit\n",
    "circ = Circuit().unitary(matrix=my_u3, targets=[0]).h(1).cnot(control=0, target=1)\n",
    "print(circ)"
   ]
  },
  {
   "cell_type": "markdown",
   "metadata": {},
   "source": [
    "Here, in the circuit diagram our custom unitary is depicted with the general symbol ```U```. \n",
    "In addition, we can use Braket's `circuit.subroutine` functionality, which allows us to use custom-built gates as any other built-in gates.  "
   ]
  },
  {
   "cell_type": "code",
   "execution_count": 9,
   "metadata": {},
   "outputs": [],
   "source": [
    "# helper function to build custom gate\n",
    "@circuit.subroutine(register=True)\n",
    "def u3(target, angles):\n",
    "    \"\"\"\n",
    "    Function to return the matrix for a general single qubit rotation,\n",
    "    given by exp(-i sigma*n/2*alpha), where alpha is the rotation angle,\n",
    "    n defines the rotation axis via n=(sin(theta)cos(phi), sin(theta)sin(phi), cos(theta)),\n",
    "    and sigma is the vector of Pauli matrices\n",
    "    \"\"\"\n",
    "    \n",
    "    # get angles\n",
    "    alpha = angles[0]\n",
    "    theta = angles[1]\n",
    "    phi = angles[2]\n",
    "    \n",
    "    # set 2x2 matrix entries\n",
    "    u11 = np.cos(alpha/2)-1j*np.sin(alpha/2)*np.cos(theta)\n",
    "    u12 = -1j*(np.exp(-1j*phi))*np.sin(theta)*np.sin(alpha/2)\n",
    "    u21 = -1j*(np.exp(1j*phi))*np.sin(theta)*np.sin(alpha/2)\n",
    "    u22 = np.cos(alpha/2)+1j*np.sin(alpha/2)*np.cos(theta)\n",
    "    \n",
    "    # define unitary as numpy matrix\n",
    "    u = np.array([[u11, u12], [u21, u22]])\n",
    "    # print('Unitary:', u)\n",
    "    \n",
    "    # define custom Braket gate\n",
    "    circ = Circuit()\n",
    "    circ.unitary(matrix=u, targets=target)\n",
    "    \n",
    "    return circ"
   ]
  },
  {
   "cell_type": "code",
   "execution_count": 10,
   "metadata": {},
   "outputs": [
    {
     "name": "stdout",
     "output_type": "stream",
     "text": [
      "T  : |0|1|\n",
      "          \n",
      "q0 : -U-C-\n",
      "        | \n",
      "q1 : ---X-\n",
      "\n",
      "T  : |0|1|\n"
     ]
    }
   ],
   "source": [
    "# define example circuit applying custom single-qubit gate U to the first qubit\n",
    "angles = [np.pi/2, np.pi/2, np.pi/2]\n",
    "angles = [np.pi/4, 0, 0]\n",
    "\n",
    "# build circuit using custom u3 gate\n",
    "circ2 = Circuit().u3([0], angles).cnot(control=0, target=1)\n",
    "print(circ2)"
   ]
  },
  {
   "cell_type": "markdown",
   "metadata": {},
   "source": [
    "## CIRCUIT DEPTH AND CIRCUIT SIZE"
   ]
  },
  {
   "cell_type": "markdown",
   "metadata": {},
   "source": [
    "We can get the circuit depth (the number of moments defining our circuit) with ```circuit.depth``` as shown below. "
   ]
  },
  {
   "cell_type": "code",
   "execution_count": 11,
   "metadata": {},
   "outputs": [
    {
     "name": "stdout",
     "output_type": "stream",
     "text": [
      "T  : |   0    |    1     |2|\n",
      "                            \n",
      "q0 : -Rx(0.15)-C----------X-\n",
      "               |            \n",
      "q1 : -Ry(0.2)--|-ZZ(0.15)---\n",
      "               | |          \n",
      "q2 : -Rz(0.25)-X-|----------\n",
      "                 |          \n",
      "q3 : -H----------ZZ(0.15)---\n",
      "\n",
      "T  : |   0    |    1     |2|\n",
      "\n",
      "Total circuit depth: 3\n"
     ]
    }
   ],
   "source": [
    "# define circuit with parametrized gates \n",
    "my_circuit = Circuit().rx(0, 0.15).ry(1, 0.2).rz(2, 0.25).h(3).cnot(control=0, target=2).zz(1, 3, 0.15).x(0)\n",
    "circuit_depth = my_circuit.depth\n",
    "print(my_circuit)\n",
    "print()\n",
    "print('Total circuit depth:', circuit_depth)"
   ]
  },
  {
   "cell_type": "markdown",
   "metadata": {},
   "source": [
    "The total circuit depth of the circuit above is three (moments 0, 1, 2). It is three because we have added a single qubit ```X``` gate applied to qubit 0 in the final layer. However, note that gates are applied as early as possible in time, provided that this is not in conflict with any other gate that has to be applied before. See below an example where we add one qubit to which we only apply one single qubit ```X``` gate. This circuit is shallower as its circuit depth is only two. The ```X``` gate is applied to qubit 4 as early as possible even though we have applied the corresponding command at the end of our circuit definition. "
   ]
  },
  {
   "cell_type": "code",
   "execution_count": 12,
   "metadata": {},
   "outputs": [
    {
     "name": "stdout",
     "output_type": "stream",
     "text": [
      "T  : |   0    |    1     |\n",
      "                          \n",
      "q0 : -Rx(0.15)-C----------\n",
      "               |          \n",
      "q1 : -Ry(0.2)--|-ZZ(0.15)-\n",
      "               | |        \n",
      "q2 : -Rz(0.25)-X-|--------\n",
      "                 |        \n",
      "q3 : -H----------ZZ(0.15)-\n",
      "                          \n",
      "q4 : -X-------------------\n",
      "\n",
      "T  : |   0    |    1     |\n",
      "\n",
      "Total circuit depth: 2\n",
      "Number of qubits: 5\n",
      "Circuit size: 10\n"
     ]
    }
   ],
   "source": [
    "# define circuit with parameterized gates \n",
    "my_circuit = Circuit().rx(0, 0.15).ry(1, 0.2).rz(2, 0.25).h(3).cnot(control=0, target=2).zz(1, 3, 0.15).x(4)\n",
    "# get circuit depth\n",
    "circuit_depth = my_circuit.depth\n",
    "# get qubit number\n",
    "qubit_count = my_circuit.qubit_count\n",
    "# get approx. estimate of circuit size\n",
    "circuit_size = circuit_depth*qubit_count\n",
    "# print circuit\n",
    "print(my_circuit)\n",
    "print()\n",
    "# print characteristics of our circuit\n",
    "print('Total circuit depth:', circuit_depth)\n",
    "print('Number of qubits:', qubit_count)\n",
    "print('Circuit size:', circuit_size)"
   ]
  },
  {
   "cell_type": "markdown",
   "metadata": {},
   "source": [
    "In the example above we have also introduced the concept of __circuit size__. Intuitively, the circuit size is a metric that reflects the complexity of our circuit. The circuit size accounts for both quantity (the number of qubits) and quality (as captured by the depth of the circuit); here we have used a very simple definition multiplying the qubit number with the circuit depth (that is the area of our diagram). In practice, in the absence of quantum error correction, on real quantum machines the depth is limited by noise so we can only faithfully run circuits whose depth is within the quality bounds of our machine. Simply speaking, this means: The larger the circuit size, the harder it is to simulate on a classical device and the more powerful the quantum machine is that is able to faithfully execute this circuit. "
   ]
  },
  {
   "cell_type": "markdown",
   "metadata": {},
   "source": [
    "## APPENDING CIRCUITS"
   ]
  },
  {
   "cell_type": "markdown",
   "metadata": {},
   "source": [
    "We can extend existing circuits by adding instructions or just appending circuits to each other, as shown below. In the most simple and straightforward fashion we can just append gates to existing circuits (for example, ```my_circuit.y(4)```). "
   ]
  },
  {
   "cell_type": "code",
   "execution_count": 13,
   "metadata": {},
   "outputs": [
    {
     "name": "stdout",
     "output_type": "stream",
     "text": [
      "T  : |   0    |    1     |\n",
      "                          \n",
      "q0 : -Rx(0.15)-C----------\n",
      "               |          \n",
      "q1 : -Ry(0.2)--|-ZZ(0.15)-\n",
      "               | |        \n",
      "q2 : -Rz(0.25)-X-|--------\n",
      "                 |        \n",
      "q3 : -H----------ZZ(0.15)-\n",
      "                          \n",
      "q4 : -X--------Y----------\n",
      "\n",
      "T  : |   0    |    1     |\n",
      "\n",
      "Total circuit depth: 2\n",
      "Number of qubits: 5\n",
      "Circuit size: 10\n"
     ]
    }
   ],
   "source": [
    "# simple circuit extension by appending gates (here Y on qubit 4)\n",
    "my_circuit = my_circuit.y(4)\n",
    "# get circuit depth\n",
    "circuit_depth = my_circuit.depth\n",
    "# get qubit number\n",
    "qubit_count = my_circuit.qubit_count\n",
    "# get circuit size\n",
    "circuit_size = circuit_depth*qubit_count\n",
    "# print circuit\n",
    "print(my_circuit)\n",
    "print()\n",
    "print('Total circuit depth:', circuit_depth)\n",
    "print('Number of qubits:', qubit_count)\n",
    "print('Circuit size:', circuit_size)"
   ]
  },
  {
   "cell_type": "markdown",
   "metadata": {},
   "source": [
    "Alternatively, we can define a gate as an ```Instruction``` and use the ```add_instruction(...)``` method to add this gate to an existing circuit object."
   ]
  },
  {
   "cell_type": "code",
   "execution_count": 14,
   "metadata": {},
   "outputs": [
    {
     "name": "stdout",
     "output_type": "stream",
     "text": [
      "T  : |   0    |    1     |2|\n",
      "                            \n",
      "q0 : -Rx(0.15)-C----------C-\n",
      "               |          | \n",
      "q1 : -Ry(0.2)--|-ZZ(0.15)-X-\n",
      "               | |          \n",
      "q2 : -Rz(0.25)-X-|----------\n",
      "                 |          \n",
      "q3 : -H----------ZZ(0.15)---\n",
      "                            \n",
      "q4 : -X--------Y------------\n",
      "\n",
      "T  : |   0    |    1     |2|\n",
      "\n",
      "Total circuit depth: 3\n",
      "Number of qubits: 5\n",
      "Circuit size: 15\n"
     ]
    }
   ],
   "source": [
    "# add instruction to circuit\n",
    "gate_instr = Instruction(Gate.CNot(), [0, 1])\n",
    "my_circuit = my_circuit.add_instruction(gate_instr)\n",
    "# get circuit depth\n",
    "circuit_depth = my_circuit.depth\n",
    "# get qubit number\n",
    "qubit_count = my_circuit.qubit_count\n",
    "# get circuit size\n",
    "circuit_size = circuit_depth*qubit_count\n",
    "# print circuit\n",
    "print(my_circuit)\n",
    "print()\n",
    "print('Total circuit depth:', circuit_depth)\n",
    "print('Number of qubits:', qubit_count)\n",
    "print('Circuit size:', circuit_size)"
   ]
  },
  {
   "cell_type": "markdown",
   "metadata": {},
   "source": [
    "We can append entire circuits to each other with ```add_circuit()```. "
   ]
  },
  {
   "cell_type": "code",
   "execution_count": 15,
   "metadata": {},
   "outputs": [
    {
     "name": "stdout",
     "output_type": "stream",
     "text": [
      "T  : |   0    |    1     |   2   |   3   |\n",
      "                                          \n",
      "q0 : -Rx(0.15)-C----------C-------Rz(0.1)-\n",
      "               |          |               \n",
      "q1 : -Ry(0.2)--|-ZZ(0.15)-X-------Rz(0.2)-\n",
      "               | |                        \n",
      "q2 : -Rz(0.25)-X-|------------------------\n",
      "                 |                        \n",
      "q3 : -H----------ZZ(0.15)-Rz(0.3)---------\n",
      "                                          \n",
      "q4 : -X--------Y----------Rz(0.4)---------\n",
      "\n",
      "T  : |   0    |    1     |   2   |   3   |\n",
      "\n",
      "Total circuit depth: 4\n",
      "Number of qubits: 5\n",
      "Circuit size: 20\n"
     ]
    }
   ],
   "source": [
    "# append two circuits with add_circuit() functionality\n",
    "my_circuit2 = Circuit().rz(0, 0.1).rz(1, 0.2).rz(3, 0.3).rz(4, 0.4)\n",
    "my_circuit.add_circuit(my_circuit2)\n",
    "\n",
    "# get circuit depth\n",
    "circuit_depth = my_circuit.depth\n",
    "# get qubit number\n",
    "qubit_count = my_circuit.qubit_count\n",
    "# get circuit size\n",
    "circuit_size = circuit_depth*qubit_count\n",
    "# print circuit\n",
    "print(my_circuit)\n",
    "print()\n",
    "# print characteristics of our circuit\n",
    "print('Total circuit depth:', circuit_depth)\n",
    "print('Number of qubits:', qubit_count)\n",
    "print('Circuit size:', circuit_size)"
   ]
  },
  {
   "cell_type": "markdown",
   "metadata": {},
   "source": [
    "Again, note that the single qubit rotations we have appended to our circuit are applied as early as possible. This helps keeping the circuit as short as possible, as required in the presence of decoherence.  "
   ]
  },
  {
   "cell_type": "markdown",
   "metadata": {},
   "source": [
    "## CIRCUIT EXECUTION AND TASK TRACKING"
   ]
  },
  {
   "cell_type": "markdown",
   "metadata": {},
   "source": [
    "Finally, let us run our circuit on a backend of our choice. We do so by defining a ```device``` object below and calling the method ```device.run(my_circuit, s3_folder)``` where ```s3_folder``` defines the desired S3 folder where we would like to store our results. Additional _task creation_ arguments can be provided to the ```run()``` method of the device object; in particular, the optional “shots” argument refers to the number of desired measurement shots (default = 1000).\n",
    "\n",
    "The command ```device.run(...)``` defines a task (with a unique task ID), the status of which can be queried and tracked with ```task.state()``` as shown below. Once the task completes (which may take some time, specifically for QPU devices, depending on the length of the queue), one can retrieve the results from the S3 bucket as specified below; you can check for \"Task Status” under the Tasks tab within your Amazon Braket console. Note that ```task = device.run()``` is an _asynchronous_ operation. This means you can keep working while the system in the background processes your task. You can always check the task status with ```task.state()```. \n",
    "\n",
    "By calling ```result()``` on a task, you get the quantum task result by polling Amazon Braket to see if the task is completed. Once the task is completed, the result is retrieved from S3 and returned as a ```QuantumTaskResult```. As opposed to ```async_result()```, this method is a blocking thread call and synchronously returns a result."
   ]
  },
  {
   "cell_type": "code",
   "execution_count": 16,
   "metadata": {},
   "outputs": [],
   "source": [
    "# set up the backend to be the managed simulator\n",
    "device = AwsDevice(\"arn:aws:braket:::device/quantum-simulator/amazon/sv1\")\n",
    "\n",
    "# set up the backend to be the Rigetti quantum computer\n",
    "# device = AwsDevice(\"arn:aws:braket:::device/qpu/rigetti/Aspen-8\")\n",
    "\n",
    "# set up the backend to be the IonQ quantum computer\n",
    "# device = AwsDevice(\"arn:aws:braket:::device/qpu/ionq/ionQdevice\")"
   ]
  },
  {
   "cell_type": "markdown",
   "metadata": {},
   "source": [
    "We can check out the set of gates this backend supports as follows: "
   ]
  },
  {
   "cell_type": "code",
   "execution_count": 17,
   "metadata": {},
   "outputs": [
    {
     "name": "stdout",
     "output_type": "stream",
     "text": [
      "Quantum Gates supported by this backend:\n",
      " ['CCNot', 'CNot', 'CPhaseShift', 'CPhaseShift00', 'CPhaseShift01', 'CPhaseShift10', 'CSwap', 'CY', 'CZ', 'H', 'I', 'ISwap', 'PSwap', 'PhaseShift', 'Rx', 'Ry', 'Rz', 'S', 'Si', 'Swap', 'T', 'Ti', 'Unitary', 'V', 'Vi', 'X', 'XX', 'XY', 'Y', 'YY', 'Z', 'ZZ']\n"
     ]
    }
   ],
   "source": [
    "# show the properties of the device backend\n",
    "device_properties = device.properties\n",
    "# show supportedQuantumOperations (supported gates for a device)\n",
    "device_operations = device_properties['supportedQuantumOperations']\n",
    "# Note: This field also exists for other devices like the QPUs\n",
    "print('Quantum Gates supported by this backend:\\n',device_operations)"
   ]
  },
  {
   "cell_type": "markdown",
   "metadata": {},
   "source": [
    "__NOTE__: Please enter your desired S3 location (bucket and key) below."
   ]
  },
  {
   "cell_type": "code",
   "execution_count": 18,
   "metadata": {},
   "outputs": [],
   "source": [
    "# set up S3 bucket (where results are stored)\n",
    "aws_account_id = boto3.client(\"sts\").get_caller_identity()[\"Account\"]\n",
    "my_bucket = f\"amazon-braket-{aws_account_id}\" # the name of the bucket\n",
    "my_prefix = \"simulation-output\" # the name of the folder in the bucket\n",
    "s3_folder = (my_bucket, my_prefix)"
   ]
  },
  {
   "cell_type": "markdown",
   "metadata": {},
   "source": [
    "__POLLING PARAMETERS__: With the ```run(...)``` method we can set two important parameters: \n",
    "* ```poll_timeout_seconds``` is the number of seconds you want to wait and poll the task before it times out; for QPU backends like Rigetti and IonQ, we recommend a few day (that is $\\sim 5*60*60*24$ seconds). \n",
    "* ```poll_interval_seconds``` is the frequency how often the task is polled, e.g., how often you call the Braket API to get the status; for QPU devices, this can be set longer, say $\\sim 60$ seconds. "
   ]
  },
  {
   "cell_type": "code",
   "execution_count": 19,
   "metadata": {},
   "outputs": [
    {
     "name": "stdout",
     "output_type": "stream",
     "text": [
      "ID of task: arn:aws:braket:us-east-1:875981177017:quantum-task/840f57bb-4d2a-49b1-b9e4-bbfa30701a86\n",
      "Status of task: CREATED\n",
      "Status: CREATED\n",
      "Status: CREATED\n",
      "Status: CREATED\n",
      "Status: CREATED\n",
      "Status: CREATED\n",
      "Status: CREATED\n",
      "Status: CREATED\n",
      "Status: CREATED\n",
      "Status: CREATED\n",
      "Status: CREATED\n",
      "Status: CREATED\n",
      "Status: CREATED\n",
      "Status: CREATED\n",
      "Status: CREATED\n",
      "Status: CREATED\n",
      "Status: CREATED\n",
      "Status: CREATED\n",
      "Status: CREATED\n",
      "Status: CREATED\n",
      "Status: CREATED\n",
      "Status: CREATED\n",
      "Status: CREATED\n",
      "Status: CREATED\n",
      "Status: CREATED\n",
      "Status: CREATED\n",
      "Status: CREATED\n",
      "Status: CREATED\n",
      "Status: CREATED\n",
      "Status: CREATED\n",
      "Status: CREATED\n",
      "Status: CREATED\n",
      "Status: CREATED\n",
      "Status: CREATED\n",
      "Status: CREATED\n",
      "Status: CREATED\n",
      "Status: CREATED\n",
      "Status: CREATED\n",
      "Status: CREATED\n",
      "Status: CREATED\n",
      "Status: CREATED\n",
      "Status: CREATED\n",
      "Status: CREATED\n",
      "Status: CREATED\n",
      "Status: CREATED\n",
      "Status: QUEUED\n",
      "Status: QUEUED\n",
      "Status: QUEUED\n",
      "Status: QUEUED\n",
      "Status: QUEUED\n",
      "Status: QUEUED\n",
      "Status: QUEUED\n",
      "Status: QUEUED\n",
      "Status: QUEUED\n",
      "Status: QUEUED\n",
      "Status: QUEUED\n",
      "Status: QUEUED\n",
      "Status: QUEUED\n",
      "Status: QUEUED\n",
      "Status: QUEUED\n",
      "Status: RUNNING\n",
      "Status: RUNNING\n",
      "Status: RUNNING\n",
      "Status: RUNNING\n",
      "Status: RUNNING\n",
      "Status: RUNNING\n",
      "Status: RUNNING\n",
      "Status: RUNNING\n",
      "Status: RUNNING\n",
      "Status: RUNNING\n",
      "Status: RUNNING\n",
      "Status: RUNNING\n",
      "Status: COMPLETED\n",
      "Counter({'00000': 494, '00010': 492, '01010': 6, '11100': 5, '11110': 2, '01000': 1})\n"
     ]
    },
    {
     "data": {
      "image/png": "[encoded data removed]",
      "text/plain": [
       "<Figure size 432x288 with 1 Axes>"
      ]
     },
     "metadata": {
      "needs_background": "light"
     },
     "output_type": "display_data"
    }
   ],
   "source": [
    "# define task (asynchronous)\n",
    "task = device.run(my_circuit, s3_folder, \n",
    "                  poll_timeout_seconds = 100, \n",
    "                  shots=1000)\n",
    "\n",
    "# get id and status of submitted task\n",
    "task_id = task.id\n",
    "status = task.state()\n",
    "print('ID of task:', task_id)\n",
    "print('Status of task:', status)\n",
    "\n",
    "# wait for job to complete\n",
    "while status != 'COMPLETED':\n",
    "    status = task.state()\n",
    "    print('Status:', status)\n",
    "\n",
    "# get results of task\n",
    "result = task.result()\n",
    "\n",
    "# get measurement shots\n",
    "counts = result.measurement_counts\n",
    "\n",
    "# print counts\n",
    "print(counts)\n",
    "\n",
    "# plot using Counter\n",
    "plt.bar(counts.keys(), counts.values());\n",
    "plt.xlabel('bitstrings');\n",
    "plt.ylabel('counts');"
   ]
  },
  {
   "cell_type": "markdown",
   "metadata": {},
   "source": [
    "__TASK METADATA__: You can access a range of metadata associated with your ```task``` object, as shown below.  "
   ]
  },
  {
   "cell_type": "code",
   "execution_count": 20,
   "metadata": {},
   "outputs": [
    {
     "name": "stdout",
     "output_type": "stream",
     "text": [
      "1000 shots taken on Mon, 03 Aug 2020 19:28:15 GMT.\n"
     ]
    }
   ],
   "source": [
    "# get all metadata of submitted task\n",
    "metadata = task.metadata()\n",
    "# example for metadata\n",
    "shots = metadata['shots']\n",
    "date = metadata['ResponseMetadata']['HTTPHeaders']['date']\n",
    "# print example metadata\n",
    "print(\"{} shots taken on {}.\".format(shots, date))"
   ]
  },
  {
   "cell_type": "markdown",
   "metadata": {},
   "source": [
    "__TASK RECONSTRUCTION__: Imagine your kernel dies after you have submitted the task, or you simply close your notebook. As recovery method, here is how you can reconstruct the ```task``` object (given the corresponding unique arn). You can reconstruct the ```task``` object using `task = AwsQuantumTask(arn=...)`; then you can simply call `task.result()` to get the result from S3. "
   ]
  },
  {
   "cell_type": "code",
   "execution_count": 21,
   "metadata": {},
   "outputs": [
    {
     "name": "stdout",
     "output_type": "stream",
     "text": [
      "Status of (reconstructed) task: COMPLETED\n"
     ]
    }
   ],
   "source": [
    "# restore task from unique arn\n",
    "task_load = AwsQuantumTask(arn=task_id, aws_session=AwsSession())\n",
    "# print status\n",
    "status = task_load.state()\n",
    "print('Status of (reconstructed) task:', status)"
   ]
  },
  {
   "cell_type": "code",
   "execution_count": 22,
   "metadata": {},
   "outputs": [
    {
     "name": "stdout",
     "output_type": "stream",
     "text": [
      "Counter({'00000': 494, '00010': 492, '01010': 6, '11100': 5, '11110': 2, '01000': 1})\n"
     ]
    },
    {
     "data": {
      "image/png": "[encoded data removed]",
      "text/plain": [
       "<Figure size 432x288 with 1 Axes>"
      ]
     },
     "metadata": {
      "needs_background": "light"
     },
     "output_type": "display_data"
    }
   ],
   "source": [
    "# get results of task\n",
    "result = task_load.result()\n",
    "\n",
    "# get measurement shots\n",
    "counts = result.measurement_counts\n",
    "\n",
    "# print counts\n",
    "print(counts)\n",
    "\n",
    "# plot using Counter\n",
    "plt.bar(counts.keys(), counts.values(), color='g');\n",
    "plt.xlabel('bitstrings');\n",
    "plt.ylabel('counts');"
   ]
  },
  {
   "cell_type": "markdown",
   "metadata": {},
   "source": [
    "__TASK CANCELLATION__: Finally, we can also cancel existing tasks by calling the ```cancel()``` method."
   ]
  },
  {
   "cell_type": "code",
   "execution_count": 23,
   "metadata": {},
   "outputs": [
    {
     "name": "stdout",
     "output_type": "stream",
     "text": [
      "ID of task: arn:aws:braket:us-east-1:875981177017:quantum-task/45c06fcb-9a6e-4962-ae90-8758fd3b373a\n",
      "Status of task: CREATED\n",
      "Status of task: CANCELLING\n"
     ]
    }
   ],
   "source": [
    "# define task\n",
    "task = device.run(my_circuit, s3_folder, shots=1000)\n",
    "\n",
    "# get id and status of submitted task\n",
    "task_id = task.id\n",
    "status = task.state()\n",
    "print('ID of task:', task_id)\n",
    "print('Status of task:', status)\n",
    "\n",
    "# cancel task \n",
    "task.cancel()\n",
    "status = task.state()\n",
    "print('Status of task:', status)"
   ]
  },
  {
   "cell_type": "markdown",
   "metadata": {},
   "source": [
    "## DEMONSTRATION OF RESULT-TYPES: Expectation Values and Observables "
   ]
  },
  {
   "cell_type": "markdown",
   "metadata": {},
   "source": [
    "In all examples discussed so far we have set the parameter ```shots>0``` thereby mimicking the behaviour of actual quantum hardware where we can access only measurement shots in the computational basis. \n",
    "However, on a classical simulator we do have access to the full state vector.\n",
    "We will illustrate this functionalty in more detail in this section. \n",
    "\n",
    "First, let us use the ```ResultTypes``` functionality with which we can access the full ```state_vector```, amplitudes, marginal probabilities and single and multi-qubit observbles, and output the final, the expectation value of $Z_{0}Z_{1}$, and the amplitude of the state $|00000\\rangle$. "
   ]
  },
  {
   "cell_type": "markdown",
   "metadata": {},
   "source": [
    "### RESULT TYPES FOR ```shots=0```"
   ]
  },
  {
   "cell_type": "code",
   "execution_count": 24,
   "metadata": {},
   "outputs": [
    {
     "name": "stdout",
     "output_type": "stream",
     "text": [
      "T  : |   0    |    1     |   2   |   3   |  Result Types  |\n",
      "                                                           \n",
      "q0 : -Rx(0.15)-C----------C-------Rz(0.1)-Expectation(Z@Z)-\n",
      "               |          |               |                \n",
      "q1 : -Ry(0.2)--|-ZZ(0.15)-X-------Rz(0.2)-Expectation(Z@Z)-\n",
      "               | |                                         \n",
      "q2 : -Rz(0.25)-X-|------------------------Expectation(X)---\n",
      "                 |                                         \n",
      "q3 : -H----------ZZ(0.15)-Rz(0.3)---------Probability------\n",
      "                                                           \n",
      "q4 : -X--------Y----------Rz(0.4)--------------------------\n",
      "\n",
      "T  : |   0    |    1     |   2   |   3   |  Result Types  |\n",
      "\n",
      "Additional result types: StateVector, Amplitude(00000)\n"
     ]
    }
   ],
   "source": [
    "# add result types\n",
    "circ = my_circuit\n",
    "# add the state_vector ResultType available for shots=0\n",
    "circ.state_vector() \n",
    "# add single qubit expectation value\n",
    "obs1 = Observable.X()\n",
    "circ.expectation(obs1, target=[2])\n",
    "# add the two-qubit Z0*Z1 expectation value\n",
    "obs2 = Observable.Z() @ Observable.Z()\n",
    "circ.expectation(obs2, target=[0,1]) \n",
    "# add the amplitude for |0...0>\n",
    "bitstring = '0'*qubit_count\n",
    "circ.amplitude(state=[bitstring]) \n",
    "# add marginal probability \n",
    "circ.probability(target=[3])\n",
    "print(circ)"
   ]
  },
  {
   "cell_type": "markdown",
   "metadata": {},
   "source": [
    "As shown above, results types are part of the ```print``` information. \n",
    "We now run this circuit on a specific (classical) backend ```device``` above and output these results. "
   ]
  },
  {
   "cell_type": "code",
   "execution_count": 25,
   "metadata": {},
   "outputs": [
    {
     "name": "stdout",
     "output_type": "stream",
     "text": [
      "Final state vector:\n",
      " [-0.45198076-0.53661046j  0.        +0.j         -0.17357771-0.67978539j\n",
      "  0.        +0.j          0.        +0.j          0.        +0.j\n",
      "  0.        +0.j          0.        +0.j         -0.0241381 -0.06612661j\n",
      "  0.        +0.j         -0.01398522-0.06899123j  0.        +0.j\n",
      "  0.        +0.j          0.        +0.j          0.        +0.j\n",
      "  0.        +0.j          0.        +0.j          0.        +0.j\n",
      "  0.        +0.j          0.        +0.j         -0.00476292+0.00230075j\n",
      "  0.        +0.j         -0.00505326+0.00156316j  0.        +0.j\n",
      "  0.        +0.j          0.        +0.j          0.        +0.j\n",
      "  0.        +0.j         -0.04855705+0.02052959j  0.        +0.j\n",
      " -0.05265272-0.00263483j  0.        +0.j        ]\n",
      "Expectation value <X2> 0.0\n",
      "Expectation value <Z0Z1>: 0.9800665778412411\n",
      "Amplitude <00000|Final state>: {'00000': (-0.45198075706658136-0.5366104621057316j)}\n",
      "Marginal probability for target qubit 3 in computational basis: [0.5 0.5]\n"
     ]
    }
   ],
   "source": [
    "# set backend\n",
    "device = LocalSimulator()\n",
    "# run the circuit and output the results specified above\n",
    "task = device.run(circ, shots=0)\n",
    "result = task.result()\n",
    "print(\"Final state vector:\\n\", result.values[0])\n",
    "print(\"Expectation value <X2>\", result.values[1])\n",
    "print(\"Expectation value <Z0Z1>:\", result.values[2])\n",
    "print(\"Amplitude <00000|Final state>:\", result.values[3])\n",
    "print(\"Marginal probability for target qubit 3 in computational basis:\", result.values[4])"
   ]
  },
  {
   "cell_type": "markdown",
   "metadata": {},
   "source": [
    "### RESULT TYPES FOR ```shots > 0```"
   ]
  },
  {
   "cell_type": "markdown",
   "metadata": {},
   "source": [
    "Note that state-vector and amplitude can only be requested when ```shots=0``` for a classical simulator backend. \n",
    "When ```shots=0``` for a simulator, probability, expectation values, and variances are the exact values, as derived from the full wavefunction. \n",
    "When ```shots>0``` we cannot access the full state-vector, but we can still get approximate expectation values as taken from measurment samples. Note that probability, sample, expectation, and variance are also supported for QPU device backends. "
   ]
  },
  {
   "cell_type": "code",
   "execution_count": 26,
   "metadata": {},
   "outputs": [
    {
     "name": "stdout",
     "output_type": "stream",
     "text": [
      "T  : |   0    |    1     |               Result Types               |\n",
      "                                                                     \n",
      "q0 : -Rx(0.15)-C----------Expectation(X@Y)-Variance(X@Y)-Sample(X@Y)-\n",
      "               |          |                |             |           \n",
      "q1 : -Ry(0.2)--|-ZZ(0.15)-Expectation(X@Y)-Variance(X@Y)-Sample(X@Y)-\n",
      "               | |                                                   \n",
      "q2 : -Rz(0.25)-X-|---------------------------------------------------\n",
      "                 |                                                   \n",
      "q3 : -H----------ZZ(0.15)--------------------------------------------\n",
      "                                                                     \n",
      "q4 : -X--------------------------------------------------------------\n",
      "\n",
      "T  : |   0    |    1     |               Result Types               |\n"
     ]
    }
   ],
   "source": [
    "# define example circuit\n",
    "circ2 = Circuit().rx(0, 0.15).ry(1, 0.2).rz(2, 0.25).h(3).cnot(control=0, target=2).zz(1, 3, 0.15).x(4)\n",
    "# add expectation value\n",
    "obs = Observable.X() @ Observable.Y()\n",
    "target_qubits = [0, 1]\n",
    "circ2.expectation(obs, target=target_qubits)\n",
    "# add variance\n",
    "circ2.variance(obs, target=target_qubits) \n",
    "# add samples\n",
    "circ2.sample(obs, target=target_qubits)\n",
    "print(circ2)"
   ]
  },
  {
   "cell_type": "code",
   "execution_count": 27,
   "metadata": {},
   "outputs": [
    {
     "name": "stdout",
     "output_type": "stream",
     "text": [
      "Expectation value for <X0*Y1>: 0.08\n",
      "Variance for <X0*Y1>: 0.9935999999999998\n",
      "Measurement samples for X0*Y1: [-1  1 -1  1 -1 -1  1 -1 -1  1  1 -1 -1  1  1 -1 -1  1  1  1  1 -1  1 -1\n",
      " -1  1 -1  1  1 -1  1  1 -1  1 -1  1 -1  1  1 -1  1 -1  1  1  1 -1 -1  1\n",
      " -1 -1 -1  1  1  1 -1  1 -1  1 -1  1 -1 -1  1  1 -1  1  1  1 -1 -1 -1  1\n",
      "  1  1 -1 -1  1 -1  1  1 -1  1  1 -1  1  1  1 -1  1 -1  1 -1  1 -1 -1 -1\n",
      "  1  1 -1  1]\n"
     ]
    }
   ],
   "source": [
    "# run the circuit and output the results specified above\n",
    "task = device.run(circ2, shots=100)\n",
    "result = task.result()\n",
    "print(\"Expectation value for <X0*Y1>:\", result.values[0])\n",
    "print(\"Variance for <X0*Y1>:\", result.values[1])\n",
    "print(\"Measurement samples for X0*Y1:\", result.values[2])"
   ]
  },
  {
   "cell_type": "code",
   "execution_count": 28,
   "metadata": {},
   "outputs": [
    {
     "name": "stdout",
     "output_type": "stream",
     "text": [
      "Expectation value from samples: 0.08\n"
     ]
    }
   ],
   "source": [
    "# compare by hand\n",
    "samples = result.values[2]\n",
    "sum_of_samples = samples.sum()\n",
    "total_counts = len(samples)\n",
    "expect_from_samples = sum_of_samples/total_counts\n",
    "print('Expectation value from samples:', expect_from_samples)"
   ]
  },
  {
   "cell_type": "markdown",
   "metadata": {},
   "source": [
    "## ADVANCED LOGGING"
   ]
  },
  {
   "cell_type": "markdown",
   "metadata": {},
   "source": [
    "Below we provide an example for advanced logging. Here, we change the ```poll_timeout_seconds``` and ```poll_interval_seconds``` parameters, such that a task can be long-running and the task status will be continously logged to a file. You can also transfer this code to a python script instead of a jupyter notebook, and the script can run as a process in the background so that your laptop can go to sleep and the script will still run. These advanced logging techniques allow you to see the background polling and create a record for later debugging. "
   ]
  },
  {
   "cell_type": "code",
   "execution_count": 29,
   "metadata": {},
   "outputs": [
    {
     "name": "stdout",
     "output_type": "stream",
     "text": [
      "Task info will be logged in: device_logs-20200803203309.txt\n"
     ]
    }
   ],
   "source": [
    "# set filename for logs\n",
    "log_file = 'device_logs-'+datetime.strftime(datetime.now(), '%Y%m%d%H%M%S')+'.txt'\n",
    "print('Task info will be logged in:', log_file)\n",
    "\n",
    "# create new logger object\n",
    "logger = logging.getLogger(\"newLogger\")  \n",
    "# configure to log to file device_logs.txt in the appending mode\n",
    "logger.addHandler(logging.FileHandler(filename=log_file, mode='a'))\n",
    "# add to file all log messages with level DEBUG or above\n",
    "logger.setLevel(logging.DEBUG) "
   ]
  },
  {
   "cell_type": "code",
   "execution_count": 30,
   "metadata": {},
   "outputs": [
    {
     "name": "stdout",
     "output_type": "stream",
     "text": [
      "T  : |   0    |    1     |\n",
      "                          \n",
      "q0 : -Rx(0.15)-C----------\n",
      "               |          \n",
      "q1 : -Ry(0.2)--|-ZZ(0.15)-\n",
      "               | |        \n",
      "q2 : -Rz(0.25)-X-|--------\n",
      "                 |        \n",
      "q3 : -H----------ZZ(0.15)-\n",
      "                          \n",
      "q4 : -X-------------------\n",
      "\n",
      "T  : |   0    |    1     |\n"
     ]
    }
   ],
   "source": [
    "# define circuit\n",
    "circ_log = Circuit().rx(0, 0.15).ry(1, 0.2).rz(2, 0.25).h(3).cnot(control=0, target=2).zz(1, 3, 0.15).x(4)\n",
    "print(circ_log)\n",
    "# define backend\n",
    "device = AwsDevice(\"arn:aws:braket:::device/quantum-simulator/amazon/sv1\")\n",
    "# define what info to log\n",
    "logger.info(\n",
    "    device.run(circ_log, s3_folder, \n",
    "               poll_timeout_seconds=1200, poll_interval_seconds=0.25, logger=logger, shots=1000)\n",
    "    .result().measurement_counts\n",
    ")"
   ]
  },
  {
   "cell_type": "code",
   "execution_count": 31,
   "metadata": {},
   "outputs": [
    {
     "name": "stdout",
     "output_type": "stream",
     "text": [
      "Task arn:aws:braket:us-east-1:875981177017:quantum-task/2bd141b3-708f-4ed8-82a7-af7475527323: start polling for completion\r\n",
      "Task arn:aws:braket:us-east-1:875981177017:quantum-task/2bd141b3-708f-4ed8-82a7-af7475527323: task status CREATED\r\n",
      "Task arn:aws:braket:us-east-1:875981177017:quantum-task/2bd141b3-708f-4ed8-82a7-af7475527323: task status CREATED\r\n",
      "Task arn:aws:braket:us-east-1:875981177017:quantum-task/2bd141b3-708f-4ed8-82a7-af7475527323: task status CREATED\r\n",
      "Task arn:aws:braket:us-east-1:875981177017:quantum-task/2bd141b3-708f-4ed8-82a7-af7475527323: task status CREATED\r\n",
      "Task arn:aws:braket:us-east-1:875981177017:quantum-task/2bd141b3-708f-4ed8-82a7-af7475527323: task status CREATED\r\n",
      "Task arn:aws:braket:us-east-1:875981177017:quantum-task/2bd141b3-708f-4ed8-82a7-af7475527323: task status CREATED\r\n",
      "Task arn:aws:braket:us-east-1:875981177017:quantum-task/2bd141b3-708f-4ed8-82a7-af7475527323: task status CREATED\r\n",
      "Task arn:aws:braket:us-east-1:875981177017:quantum-task/2bd141b3-708f-4ed8-82a7-af7475527323: task status CREATED\r\n",
      "Task arn:aws:braket:us-east-1:875981177017:quantum-task/2bd141b3-708f-4ed8-82a7-af7475527323: task status CREATED\r\n",
      "Task arn:aws:braket:us-east-1:875981177017:quantum-task/2bd141b3-708f-4ed8-82a7-af7475527323: task status CREATED\r\n",
      "Task arn:aws:braket:us-east-1:875981177017:quantum-task/2bd141b3-708f-4ed8-82a7-af7475527323: task status CREATED\r\n",
      "Task arn:aws:braket:us-east-1:875981177017:quantum-task/2bd141b3-708f-4ed8-82a7-af7475527323: task status CREATED\r\n",
      "Task arn:aws:braket:us-east-1:875981177017:quantum-task/2bd141b3-708f-4ed8-82a7-af7475527323: task status CREATED\r\n",
      "Task arn:aws:braket:us-east-1:875981177017:quantum-task/2bd141b3-708f-4ed8-82a7-af7475527323: task status CREATED\r\n",
      "Task arn:aws:braket:us-east-1:875981177017:quantum-task/2bd141b3-708f-4ed8-82a7-af7475527323: task status CREATED\r\n",
      "Task arn:aws:braket:us-east-1:875981177017:quantum-task/2bd141b3-708f-4ed8-82a7-af7475527323: task status CREATED\r\n",
      "Task arn:aws:braket:us-east-1:875981177017:quantum-task/2bd141b3-708f-4ed8-82a7-af7475527323: task status CREATED\r\n",
      "Task arn:aws:braket:us-east-1:875981177017:quantum-task/2bd141b3-708f-4ed8-82a7-af7475527323: task status CREATED\r\n",
      "Task arn:aws:braket:us-east-1:875981177017:quantum-task/2bd141b3-708f-4ed8-82a7-af7475527323: task status CREATED\r\n",
      "Task arn:aws:braket:us-east-1:875981177017:quantum-task/2bd141b3-708f-4ed8-82a7-af7475527323: task status CREATED\r\n",
      "Task arn:aws:braket:us-east-1:875981177017:quantum-task/2bd141b3-708f-4ed8-82a7-af7475527323: task status CREATED\r\n",
      "Task arn:aws:braket:us-east-1:875981177017:quantum-task/2bd141b3-708f-4ed8-82a7-af7475527323: task status QUEUED\r\n",
      "Task arn:aws:braket:us-east-1:875981177017:quantum-task/2bd141b3-708f-4ed8-82a7-af7475527323: task status QUEUED\r\n",
      "Task arn:aws:braket:us-east-1:875981177017:quantum-task/2bd141b3-708f-4ed8-82a7-af7475527323: task status QUEUED\r\n",
      "Task arn:aws:braket:us-east-1:875981177017:quantum-task/2bd141b3-708f-4ed8-82a7-af7475527323: task status QUEUED\r\n",
      "Task arn:aws:braket:us-east-1:875981177017:quantum-task/2bd141b3-708f-4ed8-82a7-af7475527323: task status QUEUED\r\n",
      "Task arn:aws:braket:us-east-1:875981177017:quantum-task/2bd141b3-708f-4ed8-82a7-af7475527323: task status RUNNING\r\n",
      "Task arn:aws:braket:us-east-1:875981177017:quantum-task/2bd141b3-708f-4ed8-82a7-af7475527323: task status RUNNING\r\n",
      "Task arn:aws:braket:us-east-1:875981177017:quantum-task/2bd141b3-708f-4ed8-82a7-af7475527323: task status RUNNING\r\n",
      "Task arn:aws:braket:us-east-1:875981177017:quantum-task/2bd141b3-708f-4ed8-82a7-af7475527323: task status COMPLETED\r\n",
      "Counter({'00001': 515, '00011': 473, '01011': 5, '10111': 3, '01001': 3, '10101': 1})\r\n"
     ]
    }
   ],
   "source": [
    "# print logs\n",
    "! cat {log_file}"
   ]
  },
  {
   "cell_type": "code",
   "execution_count": 32,
   "metadata": {},
   "outputs": [
    {
     "name": "stdout",
     "output_type": "stream",
     "text": [
      "arn:aws:braket:us-east-1:875981177017:quantum-task/2bd141b3-708f-4ed8-82a7-af7475527323\n"
     ]
    }
   ],
   "source": [
    "# parse log file for arn\n",
    "with open(log_file) as openfile:\n",
    "    for line in openfile:\n",
    "        for part in line.split():\n",
    "            if \"arn:\" in part:\n",
    "                arn = part\n",
    "                break\n",
    "# remove final semicolon in logs\n",
    "arn = arn[:-1]\n",
    "print(arn)"
   ]
  },
  {
   "cell_type": "code",
   "execution_count": 33,
   "metadata": {},
   "outputs": [
    {
     "data": {
      "image/png": "[encoded data removed]",
      "text/plain": [
       "<Figure size 432x288 with 1 Axes>"
      ]
     },
     "metadata": {
      "needs_background": "light"
     },
     "output_type": "display_data"
    }
   ],
   "source": [
    "# with this arn we can restore again task from unique arn\n",
    "task_load = AwsQuantumTask(arn=arn, aws_session=AwsSession())\n",
    "\n",
    "# get results of task\n",
    "result = task_load.result()\n",
    "\n",
    "# get measurement shots\n",
    "counts = result.measurement_counts\n",
    "\n",
    "# plot using Counter\n",
    "plt.bar(counts.keys(), counts.values(), color='tab:orange');\n",
    "plt.xlabel('bitstrings');\n",
    "plt.ylabel('counts');"
   ]
  },
  {
   "cell_type": "markdown",
   "metadata": {},
   "source": [
    "--- \n",
    "## APPENDIX"
   ]
  },
  {
   "cell_type": "markdown",
   "metadata": {},
   "source": [
    "### APPENDIX: SDK version"
   ]
  },
  {
   "cell_type": "code",
   "execution_count": 34,
   "metadata": {},
   "outputs": [
    {
     "name": "stdout",
     "output_type": "stream",
     "text": [
      "Version: 0.5.0\r\n"
     ]
    }
   ],
   "source": [
    "# print version of SDK\n",
    "! pip show amazon-braket-sdk | grep Version"
   ]
  },
  {
   "cell_type": "markdown",
   "metadata": {},
   "source": [
    "### APPENDIX: ADVANCED FUNCTIONALITY WITH ASYNCHRONOUS EXECUTION"
   ]
  },
  {
   "cell_type": "markdown",
   "metadata": {},
   "source": [
    "__ASYNCHRONOUS EXECUTION__: When replacing the ```result()``` call on the task object above with ```async_result()```, we can get the quantum task result asynchronously. Consecutive calls to this method return the result cached from the most recent request. See [here](https://github.com/aws/braket-python-sdk/blob/master/src/braket/aws/aws_quantum_task.py#L206) for source code implementation. \n",
    "\n",
    "While ```result()``` is a blocking call that waits for the result, ```async_result()``` is a non-blocking call. For example, in Jupyter as shown here, if you run ```result()```, the notebook will stop and wait at this cell for a certain polling time (set as ```poll_timeout_seconds``` with default of 120 seconds) till the polling returns the result object or times out. However, if you run ```async_result()```, the notebook immediately goes to the next cell, _not_ waiting for polling to complete; later, you can call ```result()``` and get the actual result from the task. "
   ]
  },
  {
   "cell_type": "code",
   "execution_count": 35,
   "metadata": {},
   "outputs": [],
   "source": [
    "# example with async_result - immediately returns Future object\n",
    "async_result = device.run(circ2, s3_folder, shots=100).async_result()"
   ]
  },
  {
   "cell_type": "code",
   "execution_count": 36,
   "metadata": {},
   "outputs": [
    {
     "name": "stdout",
     "output_type": "stream",
     "text": [
      "Counter({'00011': 20, '00001': 16, '11011': 16, '01011': 15, '10001': 10, '01001': 10, '10011': 8, '11001': 4, '01101': 1})\n"
     ]
    }
   ],
   "source": [
    "# async_result.result() then returns the actual result (once completed)\n",
    "async_result = async_result.result()\n",
    "# get measurement shots\n",
    "counts = async_result.measurement_counts\n",
    "print(counts)"
   ]
  },
  {
   "cell_type": "markdown",
   "metadata": {},
   "source": [
    "One can also define custom callbacks to be invoked when the Future is completed. "
   ]
  },
  {
   "cell_type": "code",
   "execution_count": 37,
   "metadata": {},
   "outputs": [],
   "source": [
    "# async_result returns back a Future. \n",
    "# Details on Future: https://docs.python.org/3.8/library/asyncio-future.html#asyncio.Future\n",
    "future = device.run(circ2, s3_folder, shots=100).async_result()\n",
    "\n",
    "# this is invoked when the Future is done. i.e. task is in a terminal state.\n",
    "# This will print out to STDOUT when its done.\n",
    "def call_back_function(future):\n",
    "    # print(f\"Task {task.id} State: {task.state()}\")\n",
    "    print(f\"Custom task Result: {future.result().measurement_probabilities}\")\n",
    "\n",
    "# attached the callback function to the future.\n",
    "future.add_done_callback(call_back_function)"
   ]
  }
 ],
 "metadata": {
  "kernelspec": {
   "display_name": "braket",
   "language": "python",
   "name": "braket"
  },
  "language_info": {
   "codemirror_mode": {
    "name": "ipython",
    "version": 3
   },
   "file_extension": ".py",
   "mimetype": "text/x-python",
   "name": "python",
   "nbconvert_exporter": "python",
   "pygments_lexer": "ipython3",
   "version": "3.8.3"
  }
 },
 "nbformat": 4,
 "nbformat_minor": 4
}
