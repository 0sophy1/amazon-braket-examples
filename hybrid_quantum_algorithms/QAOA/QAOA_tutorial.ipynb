{
 "cells": [
  {
   "cell_type": "markdown",
   "metadata": {},
   "source": [
    "# QUANTUM APPROXIMATE OPTIMIZATION ALGORITHM (QAOA)"
   ]
  },
  {
   "cell_type": "markdown",
   "metadata": {},
   "source": [
    "In this tutorial we show how to (approximately) solve binary combinatorial optimization problems, using the __Quantum Approximate Optimization Algorithm (QAOA)__, as introduced [here](https://arxiv.org/abs/1411.4028). \n",
    "The QAOA algorithm belongs to the class of __hybrid quantum algorithms__ (leveraging both classical as well as quantum compute), that are widely believed to be the working horse for the current __NISQ (noisy intermediate-scale quantum) era__.\n",
    "To validate our approach we benchmark our results with exact results as obtained from classical QUBO solvers. \n",
    "\n",
    "We provide a step-by-step walkthrough explaining the QAOA quantum algorithm and show how to build the corresponding parametrized quantum circuit ansatz using the ```Braket``` SDK, with simple modular building blocks (that can be re-used for other purposes). \n",
    "We use open-source off-the-shelf ```scipy``` optimizers for classical numerical optimization. \n",
    "While we demonstrate our proof-of-concept approach using classical simulators for circuit execution, our code could in principle be run on actual quantum hardware by simply changing the definition of the ```device``` object (provided that the gate set used in the ansatz is supported by the backend, as is the case here for IonQ; for Rigetti we need to apply one more extra trick as shown below).   "
   ]
  },
  {
   "cell_type": "markdown",
   "metadata": {},
   "source": [
    "## BACKGROUND: QUADRATIC BINARY OPTIMIZATION PROBLEMS"
   ]
  },
  {
   "attachments": {},
   "cell_type": "markdown",
   "metadata": {},
   "source": [
    "__Combinatorial optimization__: Problems involving a large number of yes/no decisions and each set of decisions yields a corresponding objective function value–like a cost or profit value. \n",
    "Finding good solutions is extremely difficult. \n",
    "Applications found in: Logistics, Scheduling, Planning, Portfolio optimization, Graph coloring. \n",
    "\n",
    "__QUBO__: The QUBO model unifies a rich variety of NP-hard combinatorial optimization problems:\n",
    "Quadratic Assignment Problems \n",
    "Capital Budgeting Problems \n",
    "Task Allocation Problems\n",
    "Maximum-Cut Problems\n",
    "There is a 1:1 correspondence between QUBO problems and Ising problems in physics. \n",
    "\n",
    "__Max-Cut__ is paradigm combinatorial optimization problem. \n",
    "Given a graph with vertex set $V$ and edge set $E$, we seek partition of $V$ into two subsets with maximum cut. \n",
    "In short, you score a point whenever an edge connects two nodes with different colors. \n",
    "Problem: Graph coloring problem with $2^𝑁$ possible solutions (exponential explosion). \n",
    "Applications: Portfolio optimization (buy/sell asset). Clustering (customer in cluster A or B). "
   ]
  },
  {
   "cell_type": "markdown",
   "metadata": {},
   "source": [
    "__Graph coloring problem__: Given a graph of nodes and edges, goal is to color each node red or blue, then score a point for each node that is next to a node of different color. Find a coloring that scores the most points. \n",
    "\n",
    "__Applications__ can be found in: \n",
    "- Clustering for marketing purposes (segment your customer base into different clusters for targeted marketing). \n",
    "- Portfolio optimization in finance (vertex corresponds to asset, color refers to sell or buy).\n",
    "- Resource allocation: distribute airplanes over terminals avoiding obverlap conflicts.\n",
    "\n",
    "We encode the problem as a __minimization problem__ of an __Ising Hamiltonian__, where the cost function reads $$H_{C}=\\sum_{i>j} J_{i,j} \\sigma_{i}^{z} \\sigma_{j}^{z}.$$"
   ]
  },
  {
   "cell_type": "markdown",
   "metadata": {},
   "source": [
    "<span style=\"color:red\">__TODO__:</span> Flesh out QUBO description."
   ]
  },
  {
   "cell_type": "markdown",
   "metadata": {},
   "source": [
    "## BACKGROUND: THE QUANTUM APPROXIMATE OPTIMIZATION ALGORITHM"
   ]
  },
  {
   "cell_type": "markdown",
   "metadata": {},
   "source": [
    "__QAOA__ designed for QUBO (quadratic unconstrained binary optimization) problems, specifically graph coloring problems (that are generically NP-hard, with exponentialliy increasing solution space). \n",
    "\n",
    "We encode the problem as a __minimization problem__ of an __Ising Hamiltonian__, where the cost function reads $$H_{C}=\\sum_{i>j} J_{i,j} \\sigma_{i}^{z} \\sigma_{j}^{z}.$$"
   ]
  },
  {
   "cell_type": "markdown",
   "metadata": {},
   "source": [
    "<span style=\"color:red\">__TODO__:</span> Flesh out QAOA description. Add general hybrid intro (as done in VQE TIM). "
   ]
  },
  {
   "cell_type": "markdown",
   "metadata": {},
   "source": [
    "## IMPORTS and SETUP"
   ]
  },
  {
   "cell_type": "markdown",
   "metadata": {},
   "source": [
    "For classical benchmarking we will be using the python library ```pyqubo```, as used in our helper script ```utils_classical```. If not already present in your virtual environment, you can install this library simply with ```pip install pyqubo```. "
   ]
  },
  {
   "cell_type": "code",
   "execution_count": 10,
   "metadata": {},
   "outputs": [],
   "source": [
    "# general imports\n",
    "import numpy as np\n",
    "from scipy.optimize import minimize\n",
    "import matplotlib.pyplot as plt\n",
    "import networkx as nx\n",
    "import seaborn as sns\n",
    "import time\n",
    "from datetime import datetime\n",
    "import pickle\n",
    "# magic word for producing visualizations in notebook\n",
    "%matplotlib inline"
   ]
  },
  {
   "cell_type": "code",
   "execution_count": 2,
   "metadata": {},
   "outputs": [],
   "source": [
    "# AWS imports: Import Braket SDK modules\n",
    "import boto3\n",
    "from braket.circuits import Circuit \n",
    "from braket.aws import AwsQuantumSimulator, AwsSession\n",
    "from braket.devices import LocalSimulator"
   ]
  },
  {
   "cell_type": "code",
   "execution_count": 3,
   "metadata": {},
   "outputs": [],
   "source": [
    "from utils_classical import plot_colored_graph, plot_colored_graph_simple, solve_classical_ising\n",
    "# auto reload external files, so that we can edit the external .py file and immediately see the changes here\n",
    "%load_ext autoreload\n",
    "%autoreload 2"
   ]
  },
  {
   "cell_type": "markdown",
   "metadata": {},
   "source": [
    "__NOTE__: Please enter your desired backend device and S3 location (bucket and key) below. If you are working with the local simulator ```LocalSimulator()``` you do not need to specify any S3 location. However, if you are using a different cloud-based backend you need to specify a S3 location where your results will be stored. In this case you need to replace the API call ```device.run(circuit, shots=SHOTS).result()``` below with ```device.run(circuit, s3_folder, shots=SHOTS).result()```. "
   ]
  },
  {
   "cell_type": "code",
   "execution_count": 4,
   "metadata": {},
   "outputs": [],
   "source": [
    "# set up backend: Local Schroedinger Simulator\n",
    "device = LocalSimulator()\n",
    "\n",
    "# setup s3 folder (not needed for the LocalSimulator backend, but required for all other backends)\n",
    "my_bucket = \"braket-bravehearts\"\n",
    "my_prefix = \"simulation-output\"\n",
    "s3_folder = (my_bucket, my_prefix)"
   ]
  },
  {
   "cell_type": "markdown",
   "metadata": {},
   "source": [
    "## PROBLEM SETUP"
   ]
  },
  {
   "cell_type": "markdown",
   "metadata": {},
   "source": [
    "We consider a graph coloring problem.\n",
    "Given a graph $G=(V,E)$, made of a set vertices (also called nodes) $V$ and edges $E$, our goal is to color each node red or blue, then score a point for each node that is next to a node of different color. \n",
    "We strive to find the optimal coloring that scores the largest number of points.\n",
    "To this end, we will address the dual problem of finding the minimum energy of the corresponding Ising Hamiltonian. \n",
    "To get started, we first use the open-source ```networkx``` library to visualize the problem graph. \n",
    "We feel to play with the parameters $n$ and $m$ to consider other graphs of your choice. "
   ]
  },
  {
   "cell_type": "code",
   "execution_count": 7,
   "metadata": {},
   "outputs": [
    {
     "data": {
      "image/png": "[encoded data removed]",
      "text/plain": [
       "<Figure size 432x288 with 1 Axes>"
      ]
     },
     "metadata": {},
     "output_type": "display_data"
    }
   ],
   "source": [
    "# setup Erdos Renyi graph\n",
    "n = 10  # 10 nodes\n",
    "m = 20  # 20 edges\n",
    "\n",
    "# define graph object\n",
    "G = nx.gnm_random_graph(n, m, seed=42)\n",
    "# positions for all nodes\n",
    "pos = nx.spring_layout(G)\n",
    "\n",
    "# draw graph\n",
    "nx.draw(G, pos)\n",
    "plt.show()"
   ]
  },
  {
   "cell_type": "code",
   "execution_count": 8,
   "metadata": {},
   "outputs": [],
   "source": [
    "# set Ising matrix \n",
    "Jfull = nx.adjacency_matrix(G).todense()\n",
    "Jfull = np.array(Jfull)\n",
    "N = Jfull.shape[0]\n",
    "\n",
    "# get upper triangular matrix\n",
    "J = np.zeros((N, N))\n",
    "for ii in range(0, N):\n",
    "    for jj in range(ii+1, N):\n",
    "        J[ii][jj] = Jfull[ii][jj]"
   ]
  },
  {
   "cell_type": "code",
   "execution_count": 13,
   "metadata": {},
   "outputs": [
    {
     "data": {
      "image/png": "[encoded data removed]",
      "text/plain": [
       "<Figure size 504x360 with 2 Axes>"
      ]
     },
     "metadata": {
      "needs_background": "light"
     },
     "output_type": "display_data"
    }
   ],
   "source": [
    "# plot Ising matrix\n",
    "plt.figure(figsize=[7, 5])\n",
    "sns.heatmap(J, annot=True,  linewidths=.5, cmap=\"YlGnBu\", annot_kws = {'alpha': 1})\n",
    "plt.title('Ising distance matrix');\n",
    "plt.tight_layout();"
   ]
  },
  {
   "cell_type": "markdown",
   "metadata": {},
   "source": [
    "## IMPLEMENTATION OF QAOA WITH BRAKET "
   ]
  },
  {
   "cell_type": "markdown",
   "metadata": {},
   "source": [
    "In this section we develop a set of useful helper functions that we will explain in detail below. \n",
    "Specifically we provide simple building blocks for the core modules of our QAOA algorithm, that is (i) a function called ```circuit``` that defines the parametrized ansatz, (ii) a function called ```objective_function``` that takes a list of variational parameters as input, and returns the cost associated with those parameters and finally (iii) a function ```train``` to run the entire QAOA algorithm for given ansatz. \n",
    "This way we can solve the problem in a clean and modular approach."
   ]
  },
  {
   "cell_type": "markdown",
   "metadata": {},
   "source": [
    "<span style=\"color:red\">__TODO__:</span> \n",
    "* Load these functions from helper ```utils.py``` once polished. \n",
    "* Check Rigetti backend for implementation of ZZ gate. \n",
    "* Get rid of GLOBAL variables. In particular, use ```minimize(objective_function, params0, args=(b_field, verbose), options=options, ...``` as in VQE TIM tutorial.\n",
    "* POSTPROCESSING: Implement postprocessing with new result_type features of SDK. "
   ]
  },
  {
   "cell_type": "code",
   "execution_count": 17,
   "metadata": {},
   "outputs": [],
   "source": [
    "def ZZgate(q1, q2, gamma):\n",
    "    \"\"\"\n",
    "    function that returns a circuit implementing exp(-i \\gamma Z_i Z_j) using CNOT gates if ZZ not supported\n",
    "    \"\"\"\n",
    "    \n",
    "    # get a circuit\n",
    "    circ_zz = Circuit()\n",
    "    \n",
    "    # construct decomposition of ZZ\n",
    "    circ_zz.cnot(q1, q2).rz(q2, gamma).cnot(q1, q2)\n",
    "    \n",
    "    return circ_zz\n",
    "\n",
    "\n",
    "# function to implement evolution with driver Hamiltonian\n",
    "def driver(beta):\n",
    "    \"\"\"\n",
    "    Returns circuit for driver Hamiltonian U(Hb, beta)\n",
    "    \"\"\"\n",
    "    # instantiate circuit object\n",
    "    circ = Circuit()\n",
    "\n",
    "    for qubit in range(N):\n",
    "        gate = Circuit().rx(qubit, 2 * beta)\n",
    "        circ.add(gate)\n",
    "    return circ\n",
    "\n",
    "\n",
    "# helper function for evolution with cost Hamiltonian\n",
    "def cost_circuit(gamma):\n",
    "    \"\"\"\n",
    "    returns circuit for evolution with cost Hamiltonian\n",
    "    \"\"\"\n",
    "    # instantiate circuit object\n",
    "    circ = Circuit()\n",
    "\n",
    "    for ii in range(N):\n",
    "        for jj in range(ii + 1, N):\n",
    "            if device.name == 'Rigetti':\n",
    "                gate = ZZgate(ii, jj, gamma * J[ii, jj])\n",
    "                circ.add(gate)\n",
    "            else:\n",
    "                gate = Circuit().zz(ii, jj, angle=2*gamma*J[ii, jj])\n",
    "                circ.add(gate)\n",
    "    return circ\n",
    "\n",
    "\n",
    "# function to build the QAOA circuit with depth p\n",
    "def circuit(params):\n",
    "    \"\"\"\n",
    "    function to return full QAOA circuit\n",
    "    \"\"\"\n",
    "\n",
    "    # initialize qaoa circuit with first Hadamard layer: for minimization start in |->\n",
    "    circ = Circuit()\n",
    "    X_on_all = Circuit().x(range(0, N))\n",
    "    circ.add(X_on_all)\n",
    "    H_on_all = Circuit().h(range(0, N))\n",
    "    circ.add(H_on_all)\n",
    "\n",
    "    # setup two parameter families\n",
    "    circuit_length = int(len(params) / 2)\n",
    "    gammas = params[:circuit_length]\n",
    "    betas = params[circuit_length:]\n",
    "\n",
    "    # add circuit layers\n",
    "    for mm in range(circuit_length):\n",
    "        circ.add(cost_circuit(gammas[mm]))\n",
    "        circ.add(driver(betas[mm]))\n",
    "\n",
    "    return circ\n",
    "\n",
    "\n",
    "# function that computes cost function for given params\n",
    "def objective_function(params):\n",
    "    \"\"\"\n",
    "    objective function takes a list of variational parameters as input,\n",
    "    and returns the cost associated with those parameters\n",
    "    \"\"\"\n",
    "\n",
    "    print('==================================' * 2)\n",
    "    global CYCLE\n",
    "    CYCLE += 1\n",
    "    print('Calling the quantum circuit. Cycle:', CYCLE)\n",
    "\n",
    "    # obtain a quantum circuit instance from the parameters\n",
    "    qaoa_circuit = circuit(params)\n",
    "\n",
    "    # classically simulate the circuit\n",
    "    # execute the correct device.run call depending on whether the backend is local or cloud based\n",
    "    if device.name == 'DefaultSimulator':\n",
    "        task = device.run(qaoa_circuit, shots=SHOTS)\n",
    "    else:\n",
    "        task = device.run(qaoa_circuit, s3_folder, \n",
    "                          shots=SHOTS, poll_timeout_seconds=3*24*60*60)\n",
    "    \n",
    "    # get result for this task\n",
    "    result = task.result()\n",
    "\n",
    "    # get metadata\n",
    "    metadata = result.task_metadata\n",
    "    \n",
    "    ##########################################\n",
    "    ### POSTPROCESSING ####\n",
    "    ##########################################\n",
    "    \n",
    "    # convert results (0 and 1) to ising (-1 and 1)\n",
    "    meas_ising = result.measurements\n",
    "    meas_ising[meas_ising == 0] = -1\n",
    "\n",
    "    # get all energies (for every shot): (n_shots, 1) vector\n",
    "    all_energies = np.diag(np.dot(meas_ising, np.dot(J, np.transpose(meas_ising))))\n",
    "\n",
    "    # find minimum and corresponding classical string\n",
    "    energy_min = np.min(all_energies)\n",
    "    print('Minimal energy:', energy_min)\n",
    "    optimal_string = meas_ising[np.argmin(all_energies)]\n",
    "    print('Optimal classical string:', optimal_string)\n",
    "\n",
    "    # store optimal (classical) result/bitstring\n",
    "    global ENERGY_OPTIMAL\n",
    "    global BITSTRING\n",
    "    if energy_min < ENERGY_OPTIMAL:\n",
    "        ENERGY_OPTIMAL = energy_min\n",
    "        BITSTRING = optimal_string\n",
    "\n",
    "    # energy expectation value\n",
    "    energy_expect = np.sum(all_energies) / SHOTS\n",
    "    print('Approx energy expectation value (cost):', energy_expect)\n",
    "    # send metrics to CloudWatch\n",
    "    print(f'cost_avg={energy_expect};')\n",
    "\n",
    "    # NOTE: could consider other definitions of cost function\n",
    "    cost = energy_expect\n",
    "\n",
    "    return cost\n",
    "\n",
    "\n",
    "# The function to execute the training: run classical minimization.\n",
    "def train(options, p=3):\n",
    "    \"\"\"\n",
    "    function to run QAOA algorithm for given, fixed circuit depth p\n",
    "    \"\"\"\n",
    "    print('Starting the training.')\n",
    "\n",
    "    print('==================================' * 3)\n",
    "    print('OPTIMIZATION for circuit depth p={depth}'.format(depth=p))\n",
    "\n",
    "    # initialize\n",
    "    cost_energy = []\n",
    "    angles = []\n",
    "\n",
    "    # randomly initialize variational parameters within appropriate bounds\n",
    "    gamma_initial = np.random.uniform(0, 2 * np.pi, p).tolist()\n",
    "    beta_initial = np.random.uniform(0, np.pi, p).tolist()\n",
    "    params0 = np.array(gamma_initial + beta_initial)\n",
    "    params0[0] = 0.01\n",
    "    params0[p] = 0.4\n",
    "    # set bounds for search space\n",
    "    bnds_gamma = [(0, 2 * np.pi) for _ in range(int(len(params0) / 2))]\n",
    "    bnds_beta = [(0, np.pi) for _ in range(int(len(params0) / 2))]\n",
    "    bnds = bnds_gamma + bnds_beta\n",
    "\n",
    "    # run classical optimization (example: method='Nelder-Mead')\n",
    "    result = minimize(objective_function, params0, options=options, method='SLSQP', bounds=bnds)\n",
    "\n",
    "    # store result of classical optimization\n",
    "    result_energy = result.fun\n",
    "    cost_energy.append(result_energy)\n",
    "    print('Optimal avg energy:', result_energy)\n",
    "    result_angle = result.x\n",
    "    angles.append(result_angle)\n",
    "    print('Optimal angles:', result_angle)\n",
    "    print('Training complete.')\n",
    "\n",
    "    return result_energy, result_angle"
   ]
  },
  {
   "cell_type": "markdown",
   "metadata": {},
   "source": [
    "<span style=\"color:red\">__TODO__:</span> \n",
    "Check out this example for new result types: "
   ]
  },
  {
   "cell_type": "code",
   "execution_count": null,
   "metadata": {},
   "outputs": [],
   "source": [
    "# Add desired results_types\n",
    "circ.probability()\n",
    "\n",
    "# define task\n",
    "if device.name == 'DefaultSimulator':\n",
    "    task = device.run(circ, shots=shots)\n",
    "else:\n",
    "    task = device.run(circ, s3_folder, shots=shots, poll_timeout_seconds=poll_time)\n",
    "\n",
    "# get result for this task\n",
    "result = task.result()\n",
    "\n",
    "# get metadata\n",
    "metadata = result.task_metadata\n",
    "\n",
    "# get output probabilities (see result_types above)\n",
    "probs_values = result.values[0]\n",
    "\n",
    "# get measurement results\n",
    "measurements = result.measurements\n",
    "measured_qubits = result.measured_qubits\n",
    "measurement_counts = result.measurement_counts\n",
    "measurement_probabilities = result.measurement_probabilities"
   ]
  },
  {
   "cell_type": "markdown",
   "metadata": {},
   "source": [
    "## VISUALIZATION OF THE QAOA ANSATZ"
   ]
  },
  {
   "cell_type": "markdown",
   "metadata": {},
   "source": [
    "Let us first visualize our parametrized QAOA ansatz for a small number of qubits and fixed (i.e., not optimized) parameters. \n",
    "For convenience, the parameters are dispalyed in the circuit (up to a factor of $2$ we have added in our ansatz definition). \n",
    "First we prepare the state $|0,0,\\dots\\rangle \\rightarrow |-,-,\\dots\\rangle$, with $|-\\rangle = (|0\\rangle -|1\\rangle  )/\\sqrt{2}$. \n",
    "Following the discussion above, we choose to start out with this state as it is the minimal energy state of the simple driver Hamiltonian $H_{B}$. \n",
    "This state preparation is followed by one layer of the QAOA ansatz, consisting of evolution with the cost Hamiltonian by $\\exp(-i\\gamma H_{C})= \\prod_{j,l}\\exp(-i\\gamma J_{j,l}\\sigma_{j}^{z}\\sigma_{l}^{z}) = \\prod_{j,l} ZZ_{j,l}(2\\gamma J_{j,l})$, followed by the single-qubit driving term, $\\exp(-i\\beta H_{B})= \\prod_{j} \\exp(-i\\beta \\sigma_{j}^{x})= \\prod_{j} R_{j}^{(x)}(2\\beta)$."
   ]
  },
  {
   "cell_type": "code",
   "execution_count": 15,
   "metadata": {},
   "outputs": [
    {
     "name": "stdout",
     "output_type": "stream",
     "text": [
      "Printing test circuit:\n",
      "T  : |0|1|   2   |   3   |\n",
      "                          \n",
      "q0 : -X-H-ZZ(0.2)-Rx(0.6)-\n",
      "          |               \n",
      "q1 : -X-H-ZZ(0.2)-Rx(0.6)-\n",
      "\n",
      "T  : |0|1|   2   |   3   |\n"
     ]
    }
   ],
   "source": [
    "# set number of qubits and fix parameters\n",
    "N = 2\n",
    "gammas = [0.1]\n",
    "betas = [0.3]\n",
    "params = gammas + betas\n",
    "\n",
    "# get circuit ansatz\n",
    "my_simple_circuit = circuit(params)\n",
    "\n",
    "# print test ansatz circuit\n",
    "print('Printing test circuit:')\n",
    "print(my_simple_circuit)"
   ]
  },
  {
   "cell_type": "markdown",
   "metadata": {},
   "source": [
    "We see that our ansatz produces the expected result for shallow QAOA with $p=1$. \n",
    "We run one more sanity check for $p=2$ below. "
   ]
  },
  {
   "cell_type": "code",
   "execution_count": 25,
   "metadata": {},
   "outputs": [
    {
     "name": "stdout",
     "output_type": "stream",
     "text": [
      "Printing test circuit:\n",
      "T  : |0|1|   2   |   3   |   4   |   5   |\n",
      "                                          \n",
      "q0 : -X-H-ZZ(0.2)-Rx(0.6)-ZZ(0.4)-Rx(0.8)-\n",
      "          |               |               \n",
      "q1 : -X-H-ZZ(0.2)-Rx(0.6)-ZZ(0.4)-Rx(0.8)-\n",
      "\n",
      "T  : |0|1|   2   |   3   |   4   |   5   |\n"
     ]
    }
   ],
   "source": [
    "# set number of qubits and fix parameters\n",
    "N = 2\n",
    "gammas = [0.1, 0.2]\n",
    "betas = [0.3, 0.4]\n",
    "params = gammas + betas\n",
    "\n",
    "# get circuit ansatz\n",
    "my_simple_circuit = circuit(params)\n",
    "\n",
    "# print test ansatz circuit\n",
    "print('Printing test circuit:')\n",
    "print(my_simple_circuit)"
   ]
  },
  {
   "cell_type": "markdown",
   "metadata": {},
   "source": [
    "## QAOA SIMULATION ON LOCAL SCHROEDINGER SIMULATOR"
   ]
  },
  {
   "cell_type": "markdown",
   "metadata": {},
   "source": [
    "We are now all set to run some QAOA simulation experiments. \n",
    "First of all, you can play and experiment yourself with the number of qubits $N$. \n",
    "Secondly, you may also experiment with the classical optimizer. \n",
    "Since we are using an off-the-shelf ```scipy``` minimizer (as described in more detail [here](https://docs.scipy.org/doc/scipy/reference/generated/scipy.optimize.minimize.html)), you can simply swap between different optimizers by setting the ```method``` parameter accordingly, as done above in the line ```result = minimize(..., method='SLSQP')```. \n",
    "Some popular options readily availbale within this library include *Nelder-Mead*, *BFGS* and *COBYLA*. \n",
    "As a precautionary warning, note that the classical optimization step may get stuck in a local optimum, rather than finding the global minimum for our parametrized QAOA ansatz wavefunction. \n",
    "To address this issue, we may run several optimization loops, starting from different random parameter seeds. \n",
    "While this brute-force approach does not provide any guarantee to find the glocal optimum, from a pragmatic point of view at least it does increase the odds of finding an acceptable solution, at the expense of potentially having to run many more circuits on the QPU."
   ]
  },
  {
   "cell_type": "code",
   "execution_count": 19,
   "metadata": {},
   "outputs": [
    {
     "name": "stdout",
     "output_type": "stream",
     "text": [
      "Circuit depth hyperparameter: 2\n",
      "Problem size: 10\n",
      "Starting the training.\n",
      "======================================================================================================\n",
      "OPTIMIZATION for circuit depth p=2\n",
      "====================================================================\n",
      "Calling the quantum circuit. Cycle: 1\n",
      "Minimal energy: -10.0\n",
      "Optimal classical string: [ 1 -1  1  1 -1  1 -1  1 -1  1]\n",
      "Approx energy expectation value (cost): 3.038\n",
      "cost_avg=3.038;\n",
      "====================================================================\n",
      "Calling the quantum circuit. Cycle: 2\n",
      "Minimal energy: -8.0\n",
      "Optimal classical string: [-1  1 -1 -1  1  1  1  1  1 -1]\n",
      "Approx energy expectation value (cost): 2.996\n",
      "cost_avg=2.996;\n",
      "====================================================================\n",
      "Calling the quantum circuit. Cycle: 3\n",
      "Minimal energy: -10.0\n",
      "Optimal classical string: [-1  1  1 -1  1 -1  1 -1  1 -1]\n",
      "Approx energy expectation value (cost): 3.012\n",
      "cost_avg=3.012;\n",
      "====================================================================\n",
      "Calling the quantum circuit. Cycle: 4\n",
      "Minimal energy: -8.0\n",
      "Optimal classical string: [-1  1  1 -1  1 -1 -1 -1  1  1]\n",
      "Approx energy expectation value (cost): 3.31\n",
      "cost_avg=3.31;\n",
      "====================================================================\n",
      "Calling the quantum circuit. Cycle: 5\n",
      "Minimal energy: -10.0\n",
      "Optimal classical string: [ 1 -1 -1  1 -1  1 -1  1 -1  1]\n",
      "Approx energy expectation value (cost): 3.264\n",
      "cost_avg=3.264;\n",
      "====================================================================\n",
      "Calling the quantum circuit. Cycle: 6\n",
      "Minimal energy: -8.0\n",
      "Optimal classical string: [-1  1  1 -1  1  1  1 -1  1 -1]\n",
      "Approx energy expectation value (cost): 3.12\n",
      "cost_avg=3.12;\n",
      "Optimization terminated successfully.    (Exit mode 0)\n",
      "            Current function value: 3.038\n",
      "            Iterations: 5\n",
      "            Function evaluations: 6\n",
      "            Gradient evaluations: 1\n",
      "Optimal avg energy: 3.038\n",
      "Optimal angles: [0.01       5.79435269 0.4        0.3236969 ]\n",
      "Training complete.\n",
      "Code execution time [sec]: 0.2631800174713135\n",
      "Optimal energy: -10.0\n",
      "Optimal classical bitstring: [ 1 -1  1  1 -1  1 -1  1 -1  1]\n"
     ]
    }
   ],
   "source": [
    "# set up hyperparameters\n",
    "p = 2  # circuit depth for QAOA\n",
    "print('Circuit depth hyperparameter:', p)\n",
    "SHOTS = 1000\n",
    "\n",
    "# set up the problem\n",
    "N = J.shape[0]\n",
    "print('Problem size:', N)\n",
    "CYCLE = 0\n",
    "# initialize reference solution (simple guess)\n",
    "BITSTRING = -1 * np.ones([N])\n",
    "ENERGY_OPTIMAL = np.dot(BITSTRING, np.dot(J, BITSTRING))\n",
    "# set options for classical optimization\n",
    "# 'maxiter'=100, 'ftol': 1e-06\n",
    "options = {'disp': True}\n",
    "# options = {'disp': True, 'ftol': 1e-08}\n",
    "\n",
    "##################################################################################\n",
    "# run QAOA optimization on graph \n",
    "##################################################################################\n",
    "\n",
    "# kick off training\n",
    "start = time.time()\n",
    "result_energy, result_angle = train(options=options, p=p)\n",
    "end = time.time()\n",
    "# print execution time\n",
    "print('Code execution time [sec]:', end - start)\n",
    "\n",
    "# print optimized results\n",
    "print('Optimal energy:', ENERGY_OPTIMAL)\n",
    "print('Optimal classical bitstring:', BITSTRING)\n",
    "\n",
    "##################################################################################\n",
    "# Compute output and dump to pickle\n",
    "##################################################################################\n",
    "\n",
    "out = {'p': p, 'N': N,\n",
    "       'ENERGY_OPTIMAL': ENERGY_OPTIMAL, 'BITSTRING': BITSTRING,\n",
    "       'result_energy': result_energy, 'result_angle': result_angle}\n",
    "\n",
    "# store results: dump output to pickle with timestamp in filename\n",
    "time_now = datetime.strftime(datetime.now(), '%Y%m%d%H%M%S')\n",
    "results_file = 'results-'+time_now+'.pck'\n",
    "pickle.dump(out, open(results_file, \"wb\"))\n",
    "# you can load results as follows\n",
    "# out = pickle.load(open(results_file, \"rb\"))"
   ]
  },
  {
   "cell_type": "markdown",
   "metadata": {},
   "source": [
    "## POSTPROCESSING AND COMPARISON OF OUR QAOA RESULTS WITH CLASSICAL RESULTS"
   ]
  },
  {
   "cell_type": "code",
   "execution_count": 20,
   "metadata": {},
   "outputs": [
    {
     "name": "stdout",
     "output_type": "stream",
     "text": [
      "Optimal energy from managed job: -10.0\n",
      "Optimal bit-string from managed job: [ 1 -1  1  1 -1  1 -1  1 -1  1]\n"
     ]
    }
   ],
   "source": [
    "print('Optimal energy from managed job:', ENERGY_OPTIMAL)\n",
    "print('Optimal bit-string from managed job:', BITSTRING)"
   ]
  },
  {
   "cell_type": "code",
   "execution_count": 21,
   "metadata": {},
   "outputs": [
    {
     "data": {
      "image/png": "[encoded data removed]",
      "text/plain": [
       "<Figure size 432x288 with 1 Axes>"
      ]
     },
     "metadata": {
      "needs_background": "light"
     },
     "output_type": "display_data"
    }
   ],
   "source": [
    "gamma = result_angle[:p]\n",
    "beta = result_angle[p:]\n",
    "pa = np.arange(1, p + 1)\n",
    "\n",
    "fig = plt.figure(2)\n",
    "plt.plot(pa, gamma / np.pi, '-o', label='gamma')\n",
    "plt.plot(pa, beta / np.pi, '-s', label='beta')\n",
    "plt.xlabel('circuit depth (layer) p')\n",
    "plt.ylabel('optimal angles [pi]')\n",
    "plt.legend(title='Variational QAOA angles:', loc='lower left')\n",
    "plt.show()"
   ]
  },
  {
   "cell_type": "code",
   "execution_count": 22,
   "metadata": {},
   "outputs": [
    {
     "name": "stdout",
     "output_type": "stream",
     "text": [
      "Minimal energy found from QAOA job: -10.0\n"
     ]
    },
    {
     "data": {
      "image/png": "[encoded data removed]",
      "text/plain": [
       "<Figure size 432x288 with 1 Axes>"
      ]
     },
     "metadata": {},
     "output_type": "display_data"
    }
   ],
   "source": [
    "# visualize solution of managed job\n",
    "colorlist = BITSTRING\n",
    "colorlist[colorlist == -1] = 0\n",
    "\n",
    "# plot_colored_graph(J, N, colorlist, pos)\n",
    "plot_colored_graph_simple(G, colorlist, pos)\n",
    "print('Minimal energy found from QAOA job:', ENERGY_OPTIMAL)"
   ]
  },
  {
   "cell_type": "code",
   "execution_count": 23,
   "metadata": {},
   "outputs": [
    {
     "name": "stdout",
     "output_type": "stream",
     "text": [
      "Classical solution: {'s0': -1, 's1': 1, 's2': -1, 's3': -1, 's4': 1, 's5': -1, 's6': 1, 's7': -1, 's8': 1, 's9': -1}\n",
      "Minimal energy found classically: -10.0\n"
     ]
    },
    {
     "data": {
      "image/png": "[encoded data removed]",
      "text/plain": [
       "<Figure size 432x288 with 1 Axes>"
      ]
     },
     "metadata": {},
     "output_type": "display_data"
    }
   ],
   "source": [
    "# validate quantum results with classical algorithm\n",
    "solution, decoded_solution, energy_min, colors_classical = solve_classical_ising(J, N, pos)\n",
    "# plot classical solution\n",
    "plot_colored_graph_simple(G, colors_classical, pos)"
   ]
  },
  {
   "cell_type": "markdown",
   "metadata": {},
   "source": [
    "<span style=\"color:red\">__TODO__:</span>: Add discussion. \n",
    "In this small toy problem there are many degenerate classical solutions with the same optimal quality. "
   ]
  },
  {
   "cell_type": "code",
   "execution_count": null,
   "metadata": {},
   "outputs": [],
   "source": []
  }
 ],
 "metadata": {
  "kernelspec": {
   "display_name": "braket041i",
   "language": "python",
   "name": "braket041i"
  },
  "language_info": {
   "codemirror_mode": {
    "name": "ipython",
    "version": 3
   },
   "file_extension": ".py",
   "mimetype": "text/x-python",
   "name": "python",
   "nbconvert_exporter": "python",
   "pygments_lexer": "ipython3",
   "version": "3.7.7"
  }
 },
 "nbformat": 4,
 "nbformat_minor": 2
}
